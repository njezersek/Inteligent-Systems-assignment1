{
 "cells": [
  {
   "cell_type": "markdown",
   "metadata": {},
   "source": [
    "# Intelligent Systems Seminar Assignment 1"
   ]
  },
  {
   "cell_type": "code",
   "execution_count": 63,
   "metadata": {},
   "outputs": [],
   "source": [
    "import statistics\n",
    "import math\n",
    "import random\n",
    "from matplotlib import pyplot as plt\n",
    "import numpy as np"
   ]
  },
  {
   "cell_type": "markdown",
   "metadata": {},
   "source": [
    "## Population generation\n",
    "\n",
    "Agent is an arithmetic expression constructed of numbers and symbols specified below.\n",
    "\n",
    "Each number can be used `max_number_use` times, therefore the expression can contain from `1` to `len(numbers)*max_number_use` numbers.\n",
    "\n",
    "After each number there is a symbol from `symbols`. But the symbol after the last number is ignored, but may be in future generations like an unexpressed gene in human genome. That decision was made primarly to make permutation like crossover easier to implement."
   ]
  },
  {
   "cell_type": "code",
   "execution_count": 2,
   "metadata": {},
   "outputs": [],
   "source": [
    "numbers = ['10', '25', '100', '5', '3']\n",
    "symbols = ['+', '-', '*', '/']\n",
    "\n",
    "max_number_use = 1\n",
    "min_numbers_in_expresion = 1\n",
    "\n",
    "target_value = 2512"
   ]
  },
  {
   "cell_type": "code",
   "execution_count": 3,
   "metadata": {},
   "outputs": [],
   "source": [
    "def generate_agent():\n",
    "    n_numbers = random.randint(min_numbers_in_expresion, len(numbers)*max_number_use)\n",
    "    selected_numbers = random.sample(numbers*max_number_use, n_numbers)\n",
    "    return [(number, random.choice(symbols)) for number in selected_numbers]\n",
    "\n",
    "def agent_to_expression(agent):\n",
    "        expression = \"\".join(n + s for i, (n, s) in enumerate(agent))\n",
    "        return expression[:-1] # remove last operator\n",
    "    \n",
    "def evaluate_agent(agent):\n",
    "    expression = agent_to_expression(agent)\n",
    "    if len(expression) == 0: return 0\n",
    "    else: return eval(expression)\n",
    "\n",
    "def agent_to_string(agent):\n",
    "    return f\"{agent_to_expression(agent)} = {evaluate_agent(agent):.2f}\"\n"
   ]
  },
  {
   "cell_type": "markdown",
   "metadata": {},
   "source": [
    "Here are some randomly generated agents:"
   ]
  },
  {
   "cell_type": "code",
   "execution_count": 4,
   "metadata": {},
   "outputs": [
    {
     "name": "stdout",
     "output_type": "stream",
     "text": [
      "10/5-3-25-100 = -126.00\n",
      "100+25 = 125.00\n",
      "10*3/25+5*100 = 501.20\n",
      "25-3 = 22.00\n",
      "10-3 = 7.00\n",
      "100 = 100.00\n",
      "5*25-10 = 115.00\n",
      "10-5 = 5.00\n",
      "10/5*100 = 200.00\n",
      "5/100*3*25 = 3.75\n",
      "100/5-3/25 = 19.88\n",
      "10/3*100+5+25 = 363.33\n",
      "10+3*100 = 310.00\n",
      "5-10 = -5.00\n",
      "25-100+5-3-10 = -83.00\n",
      "3-100/10-25 = -32.00\n",
      "100+25+3 = 128.00\n",
      "25/100*10 = 2.50\n",
      "3+100 = 103.00\n",
      "100-25/10/5-3 = 96.50\n"
     ]
    }
   ],
   "source": [
    "for i in range(20):\n",
    "    a = generate_agent()\n",
    "    print(agent_to_string(a))"
   ]
  },
  {
   "cell_type": "markdown",
   "metadata": {},
   "source": [
    "## fitness"
   ]
  },
  {
   "cell_type": "code",
   "execution_count": 5,
   "metadata": {},
   "outputs": [],
   "source": [
    "def fitness_abs(agent):\n",
    "    return -abs(evaluate_agent(agent) - target_value)"
   ]
  },
  {
   "cell_type": "code",
   "execution_count": 40,
   "metadata": {},
   "outputs": [],
   "source": [
    "def fitness_inverse(agent):\n",
    "    return 1/(abs(evaluate_agent(agent) - target_value)+.0001) # + 0.0001 to avoid zero devision"
   ]
  },
  {
   "cell_type": "code",
   "execution_count": 7,
   "metadata": {},
   "outputs": [],
   "source": [
    "def fitness_squared(agent):\n",
    "    return -(evaluate_agent(agent) - target_value)**2"
   ]
  },
  {
   "cell_type": "markdown",
   "metadata": {},
   "source": [
    "## Mutation\n",
    "\n",
    "We defined 4 different types of mutation. Implementation and example mutations can be seen below:"
   ]
  },
  {
   "cell_type": "code",
   "execution_count": 8,
   "metadata": {},
   "outputs": [
    {
     "name": "stdout",
     "output_type": "stream",
     "text": [
      "[('10', '/')]\n"
     ]
    }
   ],
   "source": [
    "agent = generate_agent()\n",
    "print(agent)"
   ]
  },
  {
   "cell_type": "code",
   "execution_count": 9,
   "metadata": {},
   "outputs": [],
   "source": [
    "def mutation_change_symbol(agent):\n",
    "    a = agent.copy()\n",
    "    i = random.randrange(len(a))\n",
    "    number, _ = a[i]\n",
    "    a[i] = (number, random.choice(symbols))\n",
    "    \n",
    "    return a"
   ]
  },
  {
   "cell_type": "code",
   "execution_count": 10,
   "metadata": {},
   "outputs": [
    {
     "name": "stdout",
     "output_type": "stream",
     "text": [
      "[('10', '/')]\n",
      "[('10', '-')]\n"
     ]
    }
   ],
   "source": [
    "print(agent)\n",
    "print(mutation_change_symbol(agent))"
   ]
  },
  {
   "cell_type": "code",
   "execution_count": 11,
   "metadata": {},
   "outputs": [],
   "source": [
    "def mutation_change_number(agent):\n",
    "    a = agent.copy()\n",
    "    agent_numbers = [number for number, _ in a]\n",
    "    # choose numbers that can be added without violating `max_number_use`\n",
    "    candidate_numbers = list(filter(lambda n: agent_numbers.count(n) < max_number_use, numbers))\n",
    "    if len(candidate_numbers) == 0: return a\n",
    "    i = random.randrange(len(a))\n",
    "    _, symbol = a[i]\n",
    "    a[i] = (random.choice(candidate_numbers), symbol)\n",
    "    \n",
    "    return a"
   ]
  },
  {
   "cell_type": "code",
   "execution_count": 12,
   "metadata": {},
   "outputs": [
    {
     "name": "stdout",
     "output_type": "stream",
     "text": [
      "[('10', '/')]\n",
      "[('5', '/')]\n"
     ]
    }
   ],
   "source": [
    "print(agent)\n",
    "print(mutation_change_number(agent))"
   ]
  },
  {
   "cell_type": "code",
   "execution_count": 13,
   "metadata": {},
   "outputs": [],
   "source": [
    "def mutation_add_element(agent):\n",
    "    a = agent.copy()\n",
    "    agent_numbers = [number for number, _ in a]\n",
    "    # choose numbers that can be added without violating `max_number_use`\n",
    "    candidate_numbers = list(filter(lambda n: agent_numbers.count(n) < max_number_use, numbers))\n",
    "    if len(candidate_numbers) == 0: return a\n",
    "    a.insert(random.randint(0, len(a)), (random.choice(candidate_numbers), random.choice(symbols)))\n",
    "    \n",
    "    return a"
   ]
  },
  {
   "cell_type": "code",
   "execution_count": 14,
   "metadata": {},
   "outputs": [
    {
     "name": "stdout",
     "output_type": "stream",
     "text": [
      "[('10', '/')]\n",
      "[('10', '/'), ('5', '-')]\n"
     ]
    }
   ],
   "source": [
    "print(agent)\n",
    "print(mutation_add_element(agent))"
   ]
  },
  {
   "cell_type": "code",
   "execution_count": 15,
   "metadata": {},
   "outputs": [],
   "source": [
    "def mutation_remove_element(agent):\n",
    "    a = agent.copy()\n",
    "    if len(a) <= 1: return a # nothing to remove\n",
    "    del a[random.randrange(len(a))]\n",
    "    \n",
    "    return a"
   ]
  },
  {
   "cell_type": "code",
   "execution_count": 16,
   "metadata": {},
   "outputs": [
    {
     "name": "stdout",
     "output_type": "stream",
     "text": [
      "[('10', '/')]\n",
      "[('10', '/')]\n"
     ]
    }
   ],
   "source": [
    "print(agent)\n",
    "print(mutation_remove_element(agent))"
   ]
  },
  {
   "cell_type": "code",
   "execution_count": 17,
   "metadata": {},
   "outputs": [],
   "source": [
    "def mutation(agent):\n",
    "    mutation_type = random.randint(1, 4)\n",
    "    if mutation_type == 1:\n",
    "        return mutation_change_symbol(agent)\n",
    "    if mutation_type == 2:\n",
    "        return mutation_change_number(agent)\n",
    "    if mutation_type == 3:\n",
    "        return mutation_add_element(agent)\n",
    "    if mutation_type == 4:\n",
    "        return mutation_remove_element(agent)"
   ]
  },
  {
   "cell_type": "code",
   "execution_count": 18,
   "metadata": {},
   "outputs": [
    {
     "name": "stdout",
     "output_type": "stream",
     "text": [
      "[('10', '/')]\n",
      "[('3', '+'), ('10', '/')]\n"
     ]
    }
   ],
   "source": [
    "print(agent)\n",
    "print(mutation(agent))"
   ]
  },
  {
   "cell_type": "markdown",
   "metadata": {},
   "source": [
    "## Crossover\n",
    "\n",
    "Crossover takes 2 parents: `parent1` and `parent2`:"
   ]
  },
  {
   "cell_type": "code",
   "execution_count": 19,
   "metadata": {},
   "outputs": [
    {
     "name": "stdout",
     "output_type": "stream",
     "text": [
      "100+3-5/10*25 = 90.50\n",
      "100-10-3/5*25 = 75.00\n"
     ]
    }
   ],
   "source": [
    "parent1 = generate_agent()\n",
    "parent2 = generate_agent()\n",
    "print(agent_to_string(parent1))\n",
    "print(agent_to_string(parent2))"
   ]
  },
  {
   "cell_type": "markdown",
   "metadata": {},
   "source": [
    "It than selects a section that overlaps both parents and initializes `child1` to a section of `parent1` and `child2` to a section of `parent2`."
   ]
  },
  {
   "cell_type": "code",
   "execution_count": 20,
   "metadata": {},
   "outputs": [
    {
     "name": "stdout",
     "output_type": "stream",
     "text": [
      "5/10 = 0.50\n",
      "3/5 = 0.60\n"
     ]
    }
   ],
   "source": [
    "min_len = min(len(parent1), len(parent2))\n",
    "selection_start = random.randrange(0, min_len)\n",
    "selection_end = random.randrange(selection_start, min_len)\n",
    "\n",
    "child1 = parent1[selection_start:selection_end]\n",
    "child2 = parent2[selection_start:selection_end]\n",
    "\n",
    "print(agent_to_string(child1))\n",
    "print(agent_to_string(child2))"
   ]
  },
  {
   "cell_type": "markdown",
   "metadata": {},
   "source": [
    "The rest of the elements come from the other parent by removing the numbers that already come from the first parent."
   ]
  },
  {
   "cell_type": "code",
   "execution_count": 21,
   "metadata": {},
   "outputs": [],
   "source": [
    "def agent_substract(agent1, agent2):\n",
    "    agent2_numbers = [n for n, _ in agent2]\n",
    "    res = []\n",
    "    for number, symbol in agent1:\n",
    "        if number in agent2_numbers: agent2_numbers.remove(number)\n",
    "        else: res.append((number, symbol))\n",
    "    return res"
   ]
  },
  {
   "cell_type": "code",
   "execution_count": 22,
   "metadata": {},
   "outputs": [
    {
     "name": "stdout",
     "output_type": "stream",
     "text": [
      "100+10*25 = 350.00\n",
      "100-3/25 = 99.88\n"
     ]
    }
   ],
   "source": [
    "parent1_remainder = agent_substract(parent1, child2)\n",
    "parent2_remainder = agent_substract(parent2, child1)\n",
    "\n",
    "print(agent_to_string(parent1_remainder))\n",
    "print(agent_to_string(parent2_remainder))"
   ]
  },
  {
   "cell_type": "code",
   "execution_count": 23,
   "metadata": {},
   "outputs": [
    {
     "name": "stdout",
     "output_type": "stream",
     "text": [
      "5/10*100-3/25 = 49.88\n",
      "3/5*100+10*25 = 310.00\n"
     ]
    }
   ],
   "source": [
    "child1.extend(parent2_remainder)\n",
    "child2.extend(parent1_remainder)\n",
    "\n",
    "print(agent_to_string(child1))\n",
    "print(agent_to_string(child2))"
   ]
  },
  {
   "cell_type": "markdown",
   "metadata": {},
   "source": [
    "Everything from above packed into a function:"
   ]
  },
  {
   "cell_type": "code",
   "execution_count": 24,
   "metadata": {},
   "outputs": [],
   "source": [
    "def crossover(parent1, parent2):\n",
    "    min_len = min(len(parent1), len(parent2))\n",
    "    selection_start = random.randrange(0, min_len)\n",
    "    selection_end = random.randrange(selection_start, min_len)\n",
    "\n",
    "    child1 = parent1[selection_start:selection_end]\n",
    "    child2 = parent2[selection_start:selection_end]\n",
    "    child1.extend(agent_substract(parent2, child1))\n",
    "    child2.extend(agent_substract(parent1, child2))\n",
    "    \n",
    "    return (child1, child2)"
   ]
  },
  {
   "cell_type": "code",
   "execution_count": 25,
   "metadata": {},
   "outputs": [
    {
     "name": "stdout",
     "output_type": "stream",
     "text": [
      "Parent 1: 100+3-5/10*25 = 90.50; lenght: 5\n",
      "Parent 2: 100-10-3/5*25 = 75.00; length: 5\n",
      "Child 1: 3-5/100-10-25 = -32.05; length: 5\n",
      "Child 2: 10-3/100+5/25 = 10.17; length: 5\n"
     ]
    }
   ],
   "source": [
    "child1, child2 = crossover(parent1, parent2)\n",
    "print(f\"Parent 1: {agent_to_string(parent1)}; lenght: {len(parent1)}\")\n",
    "print(f\"Parent 2: {agent_to_string(parent2)}; length: {len(parent2)}\")\n",
    "print(f\"Child 1: {agent_to_string(child1)}; length: {len(child2)}\")\n",
    "print(f\"Child 2: {agent_to_string(child2)}; length: {len(child2)}\")"
   ]
  },
  {
   "cell_type": "markdown",
   "metadata": {},
   "source": [
    "## Selection"
   ]
  },
  {
   "cell_type": "code",
   "execution_count": 27,
   "metadata": {},
   "outputs": [],
   "source": [
    "def select_best_agents(population_with_fitness, n_agents):\n",
    "    return list(sorted(population_with_fitness, key=lambda e: e[1], reverse=True))[:n_agents]"
   ]
  },
  {
   "cell_type": "code",
   "execution_count": 101,
   "metadata": {},
   "outputs": [],
   "source": [
    "population_size = 100\n",
    "max_iterations = 300"
   ]
  },
  {
   "cell_type": "code",
   "execution_count": 93,
   "metadata": {},
   "outputs": [],
   "source": [
    "def evolve(\n",
    "    population, fitness_function, selection_function, crossover_function, mutation_function, \n",
    "    mutation_probability=0.4, survival_probability=0.1, max_iterations=100, fitness_threshold=0, keep_best = False,\n",
    "    verbose=False, plot=False\n",
    "):\n",
    "    population_size = len(population)\n",
    "    \n",
    "    min_fitness_log = []\n",
    "    max_fitness_log = []\n",
    "    mean_fitness_log = []\n",
    "    \n",
    "    iterations = 0\n",
    "    \n",
    "    for generation in range(max_iterations):\n",
    "        iterations += 1\n",
    "        # evaluate population\n",
    "        population_with_fitness = [(a, fitness_function(a)) for a in population]\n",
    "        population_fitness = [f for a, f in population_with_fitness]\n",
    "        \n",
    "        \n",
    "        mean_fitness = statistics.mean(population_fitness)\n",
    "        max_fitness = max(population_fitness)\n",
    "        min_fitness = min(population_fitness)\n",
    "        mean_fitness_log.append(mean_fitness)\n",
    "        max_fitness_log.append(max_fitness)\n",
    "        min_fitness_log.append(min_fitness)\n",
    "        \n",
    "        best_agents_with_fitness = selection_function(population_with_fitness, math.ceil(population_size*survival_probability))\n",
    "        best_agents = [a for a, _ in best_agents_with_fitness]\n",
    "        \n",
    "        # print metrics\n",
    "        if verbose:\n",
    "            print(f\"Generation {generation}: fitness min: {min_fitness:.2f}, max: {max_fitness:.2f}, mean: {mean_fitness:.2f}; best agent: {agent_to_string(best_agents[0])}\")\n",
    "            \n",
    "        if max_fitness >= fitness_threshold: break\n",
    "        \n",
    "            \n",
    "        if keep_best:\n",
    "            population = best_agents.copy()\n",
    "        else:\n",
    "            population = []\n",
    "\n",
    "        # crossover\n",
    "        for i in range(len(population), population_size, 2):\n",
    "            parent1, parent2 = random.sample(best_agents, 2)\n",
    "            child1, child2 = crossover_function(parent1, parent2)\n",
    "            population.append(child1)\n",
    "            population.append(child2)\n",
    "            \n",
    "        # mutation\n",
    "        for i, agent in enumerate(population):\n",
    "            if random.random() < mutation_probability:\n",
    "                population[i] = mutation_function(agent)\n",
    "                \n",
    "            \n",
    "    if plot:\n",
    "        plt.figure(figsize=(10,10))\n",
    "        plt.plot(max_fitness_log, label=\"max\")\n",
    "        plt.plot(mean_fitness_log, label=\"mean\")\n",
    "        #plt.plot(min_fitness_log, label=\"min\")\n",
    "        plt.legend()\n",
    "        \n",
    "    return (iterations, (max_fitness_log, mean_fitness_log, min_fitness_log))"
   ]
  },
  {
   "cell_type": "markdown",
   "metadata": {},
   "source": [
    "## Evaluation"
   ]
  },
  {
   "cell_type": "code",
   "execution_count": 104,
   "metadata": {},
   "outputs": [
    {
     "name": "stdout",
     "output_type": "stream",
     "text": [
      "Generation 0: fitness min: 0.00, max: 0.50, mean: 0.01; best agent: 100*25+10 = 2510.00\n",
      "Generation 1: fitness min: 0.00, max: 0.50, mean: 0.04; best agent: 100*25+10 = 2510.00\n",
      "Generation 2: fitness min: 0.00, max: 10000.00, mean: 100.10; best agent: 5+100*25+10-3 = 2512.00\n"
     ]
    },
    {
     "data": {
      "image/png": "[encoded data removed]",
      "text/plain": [
       "<Figure size 720x720 with 1 Axes>"
      ]
     },
     "metadata": {
      "needs_background": "light"
     },
     "output_type": "display_data"
    }
   ],
   "source": [
    "population = [generate_agent() for _ in range(population_size)]\n",
    "_ = evolve(\n",
    "    population,\n",
    "    fitness_inverse,\n",
    "    select_best_agents,\n",
    "    crossover,\n",
    "    mutation,\n",
    "    fitness_threshold=10000.00,\n",
    "    mutation_probability=0.2, survival_probability=0.2, max_iterations=300,\n",
    "    verbose=True, keep_best=False, plot=True\n",
    ")"
   ]
  },
  {
   "cell_type": "markdown",
   "metadata": {},
   "source": [
    "### Comparison with random search"
   ]
  },
  {
   "cell_type": "code",
   "execution_count": 103,
   "metadata": {},
   "outputs": [
    {
     "data": {
      "image/png": "[encoded data removed]",
      "text/plain": [
       "<Figure size 432x288 with 1 Axes>"
      ]
     },
     "metadata": {
      "needs_background": "light"
     },
     "output_type": "display_data"
    }
   ],
   "source": [
    "N = 200\n",
    "iterations_log = []\n",
    "for i in range(N):\n",
    "    iterations = 0\n",
    "    for i in range(max_iterations):\n",
    "        iterations += 1\n",
    "        population = [generate_agent() for _ in range(population_size)]\n",
    "        population_with_fitness = [(a, fitness_abs(a)) for a in population]\n",
    "        population_fitness = [f for a, f in population_with_fitness]\n",
    "        if max(population_fitness) == 0: break\n",
    "\n",
    "    iterations_log.append(iterations)\n",
    "\n",
    "plt.title(\"Random search\")\n",
    "_ = plt.hist(iterations_log, bins=100)"
   ]
  },
  {
   "cell_type": "markdown",
   "metadata": {},
   "source": [
    "### Different fitness functions\n",
    "\n",
    "Lets see how does the choice of a fitness function effect performance. We run genetic alghorithm with each fitness function a 200 times and plot a histogram of iterations it took to find the optimal agent. "
   ]
  },
  {
   "cell_type": "code",
   "execution_count": 91,
   "metadata": {},
   "outputs": [
    {
     "name": "stdout",
     "output_type": "stream",
     "text": [
      "abs - mean: 31.39, min: 1, max: 300, stdev: 76.96718546361791\n",
      "inverse - mean: 22.895, min: 1, max: 300, stdev: 60.67148523485325\n",
      "sqared - mean: 25.8, min: 1, max: 300, stdev: 66.69151965557427\n"
     ]
    },
    {
     "data": {
      "image/png": "[encoded data removed]",
      "text/plain": [
       "<Figure size 1440x432 with 3 Axes>"
      ]
     },
     "metadata": {
      "needs_background": "light"
     },
     "output_type": "display_data"
    }
   ],
   "source": [
    "N = 200\n",
    "fitness_functions = [(fitness_abs, 0, \"abs\"), (fitness_inverse, 10000, \"inverse\"), (fitness_squared, 0, \"sqared\")]\n",
    "\n",
    "plt.figure(figsize=(20,6))\n",
    "\n",
    "for j, (fitness_function, fitness_threshold, label) in enumerate(fitness_functions):\n",
    "    iterations_log = []\n",
    "\n",
    "    for i in range(N):\n",
    "        population = [generate_agent() for _ in range(population_size)]\n",
    "        iterations, _ = evolve(\n",
    "            population,\n",
    "            fitness_function,\n",
    "            select_best_agents,\n",
    "            crossover,\n",
    "            mutation,\n",
    "            mutation_probability=0.2, survival_probability=0.2, max_iterations=300, keep_best=False, fitness_threshold=fitness_threshold\n",
    "        )\n",
    "\n",
    "        iterations_log.append(iterations)\n",
    "        \n",
    "    print(f\"{label} - mean: {statistics.mean(iterations_log)}, min: {min(iterations_log)}, max: {max(iterations_log)}, stdev: {statistics.stdev(iterations_log)}\")\n",
    "    \n",
    "    plt.subplot(1, 3, j+1)\n",
    "    plt.title(f\"fitness: {label}\")\n",
    "    _ = plt.hist(iterations_log, bins=100)\n",
    "        "
   ]
  },
  {
   "cell_type": "markdown",
   "metadata": {},
   "source": [
    "## Bonus task: minimize expression length"
   ]
  },
  {
   "cell_type": "code",
   "execution_count": 106,
   "metadata": {},
   "outputs": [],
   "source": [
    "max_number_use = 5\n",
    "min_numbers_in_expresion = 1"
   ]
  },
  {
   "cell_type": "markdown",
   "metadata": {},
   "source": [
    "For this task we have to define a new fitness function that also takes into account the expression length."
   ]
  },
  {
   "cell_type": "code",
   "execution_count": 149,
   "metadata": {},
   "outputs": [],
   "source": [
    "def fitness_length(agent):\n",
    "    return fitness_inverse(agent) + 3/(len(agent)+5)"
   ]
  },
  {
   "cell_type": "code",
   "execution_count": 152,
   "metadata": {},
   "outputs": [
    {
     "name": "stdout",
     "output_type": "stream",
     "text": [
      "Generation 0: fitness min: 0.10, max: 1.63, mean: 0.21; best agent: 10*25+3*5-3-100*3/10*5+10-100+25*100-3-5/25-25/10*3+5/25/5 = 2511.34\n",
      "Generation 1: fitness min: 0.12, max: 2.19, mean: 0.37; best agent: 10*25+3*5-3-100*3/10*5+10-100+25*100-3-5/10/25-25/10*3+5/25/5 = 2511.52\n",
      "Generation 2: fitness min: 0.11, max: 3.68, mean: 0.59; best agent: 10*25+3*5-3-100*3/10*5+10-100+25*100-3-5/10/25-25/10*3+100/25/5 = 2512.28\n",
      "Generation 3: fitness min: 0.11, max: 3.68, mean: 0.87; best agent: 10*25+3*5-3-100*3/10*5+10-100+25*100-3-5/10/25-25/10*3+100/25/5 = 2512.28\n",
      "Generation 4: fitness min: 0.10, max: 3.81, mean: 0.66; best agent: 10*25+3*5-3-100*3/10*5+10-100+25*100-3-5/10/25-25/10*3+5/100*25/5 = 2511.73\n",
      "Generation 5: fitness min: 0.10, max: 5.81, mean: 0.63; best agent: 10*25+3*5-3-100*3/10*5+10-100+25*100-3-5/10/100*25-25/10*3+100/25/5 = 2512.18\n",
      "Generation 6: fitness min: 0.10, max: 10.10, mean: 1.00; best agent: 10*25+3*5-3-100*3/10*5+10-100+25*100-3-5/25-25/10*3+100/25/5 = 2512.10\n",
      "Generation 7: fitness min: 0.10, max: 10.10, mean: 0.80; best agent: 10*25+3*5-3-100*3/10*5+10-100+25*100-3-5/25-25/10*3+100/25/5 = 2512.10\n",
      "Generation 8: fitness min: 0.10, max: 10.10, mean: 0.76; best agent: 10*25+3*5-3-100*3/10*5+10-100+25*100-3-5/25-25/10*3+100/25/5 = 2512.10\n",
      "Generation 9: fitness min: 0.10, max: 10.10, mean: 1.09; best agent: 10*25+3*5-3-100*3/10*5+10-100+25*100-3-5/25-25/10*3+100/25/5 = 2512.10\n",
      "Generation 10: fitness min: 0.10, max: 10.10, mean: 1.15; best agent: 10*25+3*5-3-100*3/10*5+10-100+25*100-3-5/25-25/10*3+100/25/5 = 2512.10\n",
      "Generation 11: fitness min: 0.10, max: 10.10, mean: 1.33; best agent: 10*25+3*5-3-100*3/10*5+10-100+25*100-3-5/25-25/10*3+100/25/5 = 2512.10\n",
      "Generation 12: fitness min: 0.10, max: 10.10, mean: 1.31; best agent: 10*25+3*5-3-100*3/10*5+10-100+25*100-3-5/25-25/10*3+100/25/5 = 2512.10\n",
      "Generation 13: fitness min: 0.10, max: 10.10, mean: 1.28; best agent: 10*25+3*5-3-100*3/10*5+10-100+25*100-3-10/25-25/10*3+100/25/5 = 2511.90\n",
      "Generation 14: fitness min: 0.10, max: 10.10, mean: 1.09; best agent: 10*25+3*5-3-100*3/10*5+10-100+25*100-3-5/25-25/10*3+100/25/5 = 2512.10\n",
      "Generation 15: fitness min: 0.10, max: 10.10, mean: 1.18; best agent: 10*25+3*5-3-100*3/10*5+10-100+25*100-3-5/25-25/10*3+100/25/5 = 2512.10\n",
      "Generation 16: fitness min: 0.10, max: 10.10, mean: 1.49; best agent: 10*25+3*5-3-100*3/10*5+10-100+25*100-3-10/25-25/10*3+100/25/5 = 2511.90\n",
      "Generation 17: fitness min: 0.10, max: 10.10, mean: 1.74; best agent: 10*25+3*5-3-100*3/10*5+10-100+25*100-3-10/25-25/10*3+100/25/5 = 2511.90\n",
      "Generation 18: fitness min: 0.10, max: 10.10, mean: 2.09; best agent: 10*25+3*5-3-100*3/10*5+10-100+25*100-3-10/25-25/10*3+100/25/5 = 2511.90\n",
      "Generation 19: fitness min: 0.10, max: 10.10, mean: 2.14; best agent: 10*25+3*5-3-100*3/10*5+10-100+25*100-3-10/25-25/10*3+100/25/5 = 2511.90\n",
      "Generation 20: fitness min: 0.10, max: 10.10, mean: 2.63; best agent: 10*25+3*5-3-100*3/10*5+10-100+25*100-3-10/25-25/10*3+100/25/5 = 2511.90\n",
      "Generation 21: fitness min: 0.11, max: 10.10, mean: 2.64; best agent: 10*25+3*5-3-100*3/10*5+10-100+25*100-3-10/25-25/10*3+100/25/5 = 2511.90\n",
      "Generation 22: fitness min: 0.11, max: 10.10, mean: 2.73; best agent: 10*25+3*5-3-100*3/10*5+10-100+25*100-3-10/25-25/10*3+100/25/5 = 2511.90\n",
      "Generation 23: fitness min: 0.11, max: 10.10, mean: 2.03; best agent: 10*25+3*5-3-100*3/10*5+10-100+25*100-3-10/25-25/10*3+100/25/5 = 2511.90\n",
      "Generation 24: fitness min: 0.11, max: 10.10, mean: 2.04; best agent: 10*25+3*5-3-100*3/10*5+10-100+25*100-3-10/25-25/10*3+100/25/5 = 2511.90\n",
      "Generation 25: fitness min: 0.11, max: 10.10, mean: 2.16; best agent: 10*25+3*5-3-100*3/10*5+10-100+25*100-3-10/25-25/10*3+100/25/5 = 2511.90\n",
      "Generation 26: fitness min: 0.11, max: 10.10, mean: 2.42; best agent: 10*25+3*5-3-100*3/10*5+10-100+25*100-3-10/25-25/10*3+100/25/5 = 2511.90\n",
      "Generation 27: fitness min: 0.11, max: 10.10, mean: 2.32; best agent: 10*25+3*5-3-100*3/10*5+10-100+25*100-3-10/25-25/10*3+100/25/5 = 2511.90\n",
      "Generation 28: fitness min: 0.11, max: 10.10, mean: 2.63; best agent: 10*25+3*5-3-100*3/10*5+10-100+25*100-3-10/25-25/10*3+100/25/5 = 2511.90\n",
      "Generation 29: fitness min: 0.11, max: 10.10, mean: 2.86; best agent: 10*25+3*5-3-100*3/10*5+10-100+25*100-3-10/25-25/10*3+100/25/5 = 2511.90\n",
      "Generation 30: fitness min: 0.11, max: 10.10, mean: 2.54; best agent: 10*25+3*5-3-100*3/10*5+10-100+25*100-3-10/25-25/10*3+100/25/5 = 2511.90\n",
      "Generation 31: fitness min: 0.11, max: 10.10, mean: 3.73; best agent: 10*25+3*5-3-100*3/10*5+10-100+25*100-3-10/25-25/10*3+100/25/5 = 2511.90\n",
      "Generation 32: fitness min: 0.11, max: 10.10, mean: 2.43; best agent: 10*25+3*5-3-100*3/10*5+10-100+25*100-3-10/25-25/10*3+100/25/5 = 2511.90\n",
      "Generation 33: fitness min: 0.11, max: 10.10, mean: 2.24; best agent: 10*25+3*5-3-100*3/10*5+10-100+25*100-3-10/25-25/10*3+100/25/5 = 2511.90\n",
      "Generation 34: fitness min: 0.11, max: 10.10, mean: 1.84; best agent: 10*25+3*5-3-100*3/10*5+10-100+25*100-3-10/25-25/10*3+100/25/5 = 2511.90\n",
      "Generation 35: fitness min: 0.11, max: 10.10, mean: 2.86; best agent: 10*25+3*5-3-100*3/10*5+10-100+25*100-3-10/25-25/10*3+100/25/5 = 2511.90\n",
      "Generation 36: fitness min: 0.11, max: 10.10, mean: 2.72; best agent: 10*25+3*5-3-100*3/10*5+10-100+25*100-3-10/25-25/10*3+100/25/5 = 2511.90\n",
      "Generation 37: fitness min: 0.11, max: 10.10, mean: 2.32; best agent: 10*25+3*5-3-100*3/10*5+10-100+25*100-3-10/25-25/10*3+100/25/5 = 2511.90\n",
      "Generation 38: fitness min: 0.11, max: 10.10, mean: 2.46; best agent: 10*25+3*5-3-100*3/10*5+10-100+25*100-3-10/25-25/10*3+100/25/5 = 2511.90\n",
      "Generation 39: fitness min: 0.11, max: 10.10, mean: 1.74; best agent: 10*25+3*5-3-100*3/10*5+10-100+25*100-3-10/25-25/10*3+100/25/5 = 2511.90\n",
      "Generation 40: fitness min: 0.11, max: 10.10, mean: 2.25; best agent: 10*25+3*5-3-100*3/10*5+10-100+25*100-3-10/25-25/10*3+100/25/5 = 2511.90\n",
      "Generation 41: fitness min: 0.11, max: 10.10, mean: 2.45; best agent: 10*25+3*5-3-100*3/10*5+10-100+25*100-3-10/25-25/10*3+100/25/5 = 2511.90\n",
      "Generation 42: fitness min: 0.11, max: 10.10, mean: 1.80; best agent: 10*25+3*5-3-100*3/10*5+10-100+25*100-3-10/25-25/10*3+100/25/5 = 2511.90\n",
      "Generation 43: fitness min: 0.11, max: 10.10, mean: 2.27; best agent: 10*25+3*5-3-100*3/10*5+10-100+25*100-3-10/25-25/10*3+100/25/5 = 2511.90\n",
      "Generation 44: fitness min: 0.11, max: 10.10, mean: 2.73; best agent: 10*25+3*5-3-100*3/10*5+10-100+25*100-3-10/25-25/10*3+100/25/5 = 2511.90\n",
      "Generation 45: fitness min: 0.11, max: 10.10, mean: 2.74; best agent: 10*25+3*5-3-100*3/10*5+10-100+25*100-3-10/25-25/10*3+100/25/5 = 2511.90\n",
      "Generation 46: fitness min: 0.11, max: 10.10, mean: 2.25; best agent: 10*25+3*5-3-100*3/10*5+10-100+25*100-3-10/25-25/10*3+100/25/5 = 2511.90\n",
      "Generation 47: fitness min: 0.11, max: 10.10, mean: 2.47; best agent: 10*25+3*5-3-100*3/10*5+10-100+25*100-3-10/25-25/10*3+100/25/5 = 2511.90\n",
      "Generation 48: fitness min: 0.11, max: 10.10, mean: 2.94; best agent: 10*25+3*5-3-100*3/10*5+10-100+25*100-3-10/25-25/10*3+100/25/5 = 2511.90\n",
      "Generation 49: fitness min: 0.11, max: 10.10, mean: 2.83; best agent: 10*25+3*5-3-100*3/10*5+10-100+25*100-3-10/25-25/10*3+100/25/5 = 2511.90\n",
      "Generation 50: fitness min: 0.11, max: 10.10, mean: 3.19; best agent: 10*25+3*5-3-100*3/10*5+10-100+25*100-3-10/25-25/10*3+100/25/5 = 2511.90\n",
      "Generation 51: fitness min: 0.11, max: 10.10, mean: 3.14; best agent: 10*25+3*5-3-100*3/10*5+10-100+25*100-3-10/25-25/10*3+100/25/5 = 2511.90\n",
      "Generation 52: fitness min: 0.11, max: 10.10, mean: 1.79; best agent: 10*25+3*5-3-100*3/10*5+10-100+25*100-3-10/25-25/10*3+100/25/5 = 2511.90\n",
      "Generation 53: fitness min: 0.11, max: 10.10, mean: 1.79; best agent: 10*25+3*5-3-100*3/10*5+10-100+25*100-3-10/25-25/10*3+100/25/5 = 2511.90\n",
      "Generation 54: fitness min: 0.11, max: 10.10, mean: 2.64; best agent: 10*25+3*5-3-100*3/10*5+10-100+25*100-3-10/25-25/10*3+100/25/5 = 2511.90\n",
      "Generation 55: fitness min: 0.11, max: 10.10, mean: 1.92; best agent: 10*25+3*5-3-100*3/10*5+10-100+25*100-3-10/25-25/10*3+100/25/5 = 2511.90\n",
      "Generation 56: fitness min: 0.11, max: 10.10, mean: 2.68; best agent: 10*25+3*5-3-100*3/10*5+10-100+25*100-3-10/25-25/10*3+100/25/5 = 2511.90\n",
      "Generation 57: fitness min: 0.11, max: 10.10, mean: 2.43; best agent: 10*25+3*5-3-100*3/10*5+10-100+25*100-3-10/25-25/10*3+100/25/5 = 2511.90\n",
      "Generation 58: fitness min: 0.11, max: 10.10, mean: 2.66; best agent: 10*25+3*5-3-100*3/10*5+10-100+25*100-3-10/25-25/10*3+100/25/5 = 2511.90\n",
      "Generation 59: fitness min: 0.11, max: 10.10, mean: 1.83; best agent: 10*25+3*5-3-100*3/10*5+10-100+25*100-3-10/25-25/10*3+100/25/5 = 2511.90\n",
      "Generation 60: fitness min: 0.11, max: 10.10, mean: 2.77; best agent: 10*25+3*5-3-100*3/10*5+10-100+25*100-3-10/25-25/10*3+100/25/5 = 2511.90\n",
      "Generation 61: fitness min: 0.11, max: 10.10, mean: 1.75; best agent: 10*25+3*5-3-100*3/10*5+10-100+25*100-3-10/25-25/10*3+100/25/5 = 2511.90\n",
      "Generation 62: fitness min: 0.11, max: 10.10, mean: 1.81; best agent: 10*25+3*5-3-100*3/10*5+10-100+25*100-3-10/25-25/10*3+100/25/5 = 2511.90\n",
      "Generation 63: fitness min: 0.11, max: 10.10, mean: 2.26; best agent: 10*25+3*5-3-100*3/10*5+10-100+25*100-3-10/25-25/10*3+100/25/5 = 2511.90\n",
      "Generation 64: fitness min: 0.11, max: 10.10, mean: 3.18; best agent: 10*25+3*5-3-100*3/10*5+10-100+25*100-3-10/25-25/10*3+100/25/5 = 2511.90\n",
      "Generation 65: fitness min: 0.11, max: 10.10, mean: 2.25; best agent: 10*25+3*5-3-100*3/10*5+10-100+25*100-3-10/25-25/10*3+100/25/5 = 2511.90\n",
      "Generation 66: fitness min: 0.11, max: 10.10, mean: 2.84; best agent: 10*25+3*5-3-100*3/10*5+10-100+25*100-3-10/25-25/10*3+100/25/5 = 2511.90\n",
      "Generation 67: fitness min: 0.11, max: 10.10, mean: 2.34; best agent: 10*25+3*5-3-100*3/10*5+10-100+25*100-3-10/25-25/10*3+100/25/5 = 2511.90\n",
      "Generation 68: fitness min: 0.11, max: 10.10, mean: 1.83; best agent: 10*25+3*5-3-100*3/10*5+10-100+25*100-3-10/25-25/10*3+100/25/5 = 2511.90\n",
      "Generation 69: fitness min: 0.11, max: 10.10, mean: 2.11; best agent: 10*25+3*5-3-100*3/10*5+10-100+25*100-3-10/25-25/10*3+100/25/5 = 2511.90\n",
      "Generation 70: fitness min: 0.11, max: 10.10, mean: 2.50; best agent: 10*25+3*5-3-100*3/10*5+10-100+25*100-3-10/25-25/10*3+100/25/5 = 2511.90\n",
      "Generation 71: fitness min: 0.11, max: 10.10, mean: 2.76; best agent: 10*25+3*5-3-100*3/10*5+10-100+25*100-3-10/25-25/10*3+100/25/5 = 2511.90\n",
      "Generation 72: fitness min: 0.11, max: 10.10, mean: 3.40; best agent: 10*25+3*5-3-100*3/10*5+10-100+25*100-3-10/25-25/10*3+100/25/5 = 2511.90\n",
      "Generation 73: fitness min: 0.11, max: 10.10, mean: 2.38; best agent: 10*25+3*5-3-100*3/10*5+10-100+25*100-3-10/25-25/10*3+100/25/5 = 2511.90\n",
      "Generation 74: fitness min: 0.11, max: 10.10, mean: 2.23; best agent: 10*25+3*5-3-100*3/10*5+10-100+25*100-3-10/25-25/10*3+100/25/5 = 2511.90\n",
      "Generation 75: fitness min: 0.11, max: 10.10, mean: 1.85; best agent: 10*25+3*5-3-100*3/10*5+10-100+25*100-3-10/25-25/10*3+100/25/5 = 2511.90\n",
      "Generation 76: fitness min: 0.11, max: 10.10, mean: 2.64; best agent: 10*25+3*5-3-100*3/10*5+10-100+25*100-3-10/25-25/10*3+100/25/5 = 2511.90\n",
      "Generation 77: fitness min: 0.11, max: 10.10, mean: 2.33; best agent: 10*25+3*5-3-100*3/10*5+10-100+25*100-3-10/25-25/10*3+100/25/5 = 2511.90\n",
      "Generation 78: fitness min: 0.11, max: 10.10, mean: 2.53; best agent: 10*25+3*5-3-100*3/10*5+10-100+25*100-3-10/25-25/10*3+100/25/5 = 2511.90\n",
      "Generation 79: fitness min: 0.11, max: 10.10, mean: 2.65; best agent: 10*25+3*5-3-100*3/10*5+10-100+25*100-3-10/25-25/10*3+100/25/5 = 2511.90\n",
      "Generation 80: fitness min: 0.11, max: 10.10, mean: 2.84; best agent: 10*25+3*5-3-100*3/10*5+10-100+25*100-3-10/25-25/10*3+100/25/5 = 2511.90\n",
      "Generation 81: fitness min: 0.11, max: 10.10, mean: 3.24; best agent: 10*25+3*5-3-100*3/10*5+10-100+25*100-3-10/25-25/10*3+100/25/5 = 2511.90\n",
      "Generation 82: fitness min: 0.11, max: 10.10, mean: 2.24; best agent: 10*25+3*5-3-100*3/10*5+10-100+25*100-3-10/25-25/10*3+100/25/5 = 2511.90\n",
      "Generation 83: fitness min: 0.11, max: 10.10, mean: 2.24; best agent: 10*25+3*5-3-100*3/10*5+10-100+25*100-3-10/25-25/10*3+100/25/5 = 2511.90\n",
      "Generation 84: fitness min: 0.11, max: 10.10, mean: 2.54; best agent: 10*25+3*5-3-100*3/10*5+10-100+25*100-3-10/25-25/10*3+100/25/5 = 2511.90\n",
      "Generation 85: fitness min: 0.11, max: 10.10, mean: 2.82; best agent: 10*25+3*5-3-100*3/10*5+10-100+25*100-3-10/25-25/10*3+100/25/5 = 2511.90\n",
      "Generation 86: fitness min: 0.11, max: 10.10, mean: 2.85; best agent: 10*25+3*5-3-100*3/10*5+10-100+25*100-3-10/25-25/10*3+100/25/5 = 2511.90\n",
      "Generation 87: fitness min: 0.11, max: 10.10, mean: 2.15; best agent: 10*25+3*5-3-100*3/10*5+10-100+25*100-3-10/25-25/10*3+100/25/5 = 2511.90\n",
      "Generation 88: fitness min: 0.10, max: 10.10, mean: 2.96; best agent: 10*25+3*5-3-100*3/10*5+10-100+25*100-3-10/25-25/10*3+100/25/5 = 2511.90\n",
      "Generation 89: fitness min: 0.11, max: 10.10, mean: 2.22; best agent: 10*25+3*5-3-100*3/10*5+10-100+25*100-3-10/25-25/10*3+100/25/5 = 2511.90\n",
      "Generation 90: fitness min: 0.11, max: 10.10, mean: 2.84; best agent: 10*25+3*5-3-100*3/10*5+10-100+25*100-3-10/25-25/10*3+100/25/5 = 2511.90\n",
      "Generation 91: fitness min: 0.11, max: 10.10, mean: 2.35; best agent: 10*25+3*5-3-100*3/10*5+10-100+25*100-3-10/25-25/10*3+100/25/5 = 2511.90\n",
      "Generation 92: fitness min: 0.11, max: 10.10, mean: 2.52; best agent: 10*25+3*5-3-100*3/10*5+10-100+25*100-3-10/25-25/10*3+100/25/5 = 2511.90\n",
      "Generation 93: fitness min: 0.11, max: 10.10, mean: 2.15; best agent: 10*25+3*5-3-100*3/10*5+10-100+25*100-3-10/25-25/10*3+100/25/5 = 2511.90\n",
      "Generation 94: fitness min: 0.11, max: 10.10, mean: 3.06; best agent: 10*25+3*5-3-100*3/10*5+10-100+25*100-3-10/25-25/10*3+100/25/5 = 2511.90\n",
      "Generation 95: fitness min: 0.11, max: 10.10, mean: 2.88; best agent: 10*25+3*5-3-100*3/10*5+10-100+25*100-3-10/25-25/10*3+100/25/5 = 2511.90\n",
      "Generation 96: fitness min: 0.11, max: 10.10, mean: 2.63; best agent: 10*25+3*5-3-100*3/10*5+10-100+25*100-3-10/25-25/10*3+100/25/5 = 2511.90\n",
      "Generation 97: fitness min: 0.11, max: 10.10, mean: 3.15; best agent: 10*25+3*5-3-100*3/10*5+10-100+25*100-3-10/25-25/10*3+100/25/5 = 2511.90\n",
      "Generation 98: fitness min: 0.11, max: 10.10, mean: 2.25; best agent: 10*25+3*5-3-100*3/10*5+10-100+25*100-3-10/25-25/10*3+100/25/5 = 2511.90\n",
      "Generation 99: fitness min: 0.11, max: 10.10, mean: 2.24; best agent: 10*25+3*5-3-100*3/10*5+10-100+25*100-3-10/25-25/10*3+100/25/5 = 2511.90\n",
      "Generation 100: fitness min: 0.11, max: 10.10, mean: 2.74; best agent: 10*25+3*5-3-100*3/10*5+10-100+25*100-3-10/25-25/10*3+100/25/5 = 2511.90\n",
      "Generation 101: fitness min: 0.11, max: 10.10, mean: 2.24; best agent: 10*25+3*5-3-100*3/10*5+10-100+25*100-3-10/25-25/10*3+100/25/5 = 2511.90\n",
      "Generation 102: fitness min: 0.11, max: 10.10, mean: 2.83; best agent: 10*25+3*5-3-100*3/10*5+10-100+25*100-3-10/25-25/10*3+100/25/5 = 2511.90\n",
      "Generation 103: fitness min: 0.11, max: 10.10, mean: 2.53; best agent: 10*25+3*5-3-100*3/10*5+10-100+25*100-3-10/25-25/10*3+100/25/5 = 2511.90\n",
      "Generation 104: fitness min: 0.11, max: 10.10, mean: 4.23; best agent: 10*25+3*5-3-100*3/10*5+10-100+25*100-3-10/25-25/10*3+100/25/5 = 2511.90\n",
      "Generation 105: fitness min: 0.11, max: 10.10, mean: 2.43; best agent: 10*25+3*5-3-100*3/10*5+10-100+25*100-3-10/25-25/10*3+100/25/5 = 2511.90\n",
      "Generation 106: fitness min: 0.11, max: 10.10, mean: 3.15; best agent: 10*25+3*5-3-100*3/10*5+10-100+25*100-3-10/25-25/10*3+100/25/5 = 2511.90\n",
      "Generation 107: fitness min: 0.11, max: 10.10, mean: 2.64; best agent: 10*25+3*5-3-100*3/10*5+10-100+25*100-3-10/25-25/10*3+100/25/5 = 2511.90\n",
      "Generation 108: fitness min: 0.11, max: 10.10, mean: 2.45; best agent: 10*25+3*5-3-100*3/10*5+10-100+25*100-3-10/25-25/10*3+100/25/5 = 2511.90\n",
      "Generation 109: fitness min: 0.11, max: 10.10, mean: 3.03; best agent: 10*25+3*5-3-100*3/10*5+10-100+25*100-3-10/25-25/10*3+100/25/5 = 2511.90\n",
      "Generation 110: fitness min: 0.11, max: 10.10, mean: 2.33; best agent: 10*25+3*5-3-100*3/10*5+10-100+25*100-3-10/25-25/10*3+100/25/5 = 2511.90\n",
      "Generation 111: fitness min: 0.11, max: 10.10, mean: 2.73; best agent: 10*25+3*5-3-100*3/10*5+10-100+25*100-3-10/25-25/10*3+100/25/5 = 2511.90\n",
      "Generation 112: fitness min: 0.11, max: 10.10, mean: 1.78; best agent: 10*25+3*5-3-100*3/10*5+10-100+25*100-3-10/25-25/10*3+100/25/5 = 2511.90\n",
      "Generation 113: fitness min: 0.11, max: 16.75, mean: 3.09; best agent: 10*25+3*5-3-100*3/10*5+10-100+25*100-3+10/25-25/10*3+100/25/5/5 = 2512.06\n",
      "Generation 114: fitness min: 0.11, max: 16.75, mean: 2.76; best agent: 10*25+3*5-3-100*3/10*5+10-100+25*100-3+10/25-25/10*3+100/25/5/5 = 2512.06\n",
      "Generation 115: fitness min: 0.11, max: 16.75, mean: 2.58; best agent: 10*25+3*5-3-100*3/10*5+10-100+25*100-3+10/25-25/10*3+100/25/5/5 = 2512.06\n",
      "Generation 116: fitness min: 0.10, max: 16.75, mean: 3.52; best agent: 10*25+3*5-3-100*3/10*5+10-100+25*100-3+10/25-25/10*3+100/25/5/5 = 2512.06\n",
      "Generation 117: fitness min: 0.11, max: 16.75, mean: 3.20; best agent: 10*25+3*5-3-100*3/10*5+10-100+25*100-3+10/25-25/10*3+100/25/5/5 = 2512.06\n",
      "Generation 118: fitness min: 0.10, max: 16.75, mean: 2.82; best agent: 10*25+3*5-3-100*3/10*5+10-100+25*100-3+10/25-25/10*3+100/25/5/5 = 2512.06\n",
      "Generation 119: fitness min: 0.11, max: 16.75, mean: 2.65; best agent: 10*25+3*5-3-100*3/10*5+10-100+25*100-3+10/25-25/10*3+100/25/5/5 = 2512.06\n",
      "Generation 120: fitness min: 0.10, max: 16.75, mean: 2.91; best agent: 10*25+3*5-3-100*3/10*5+10-100+25*100-3+10/25-25/10*3+100/25/5/5 = 2512.06\n",
      "Generation 121: fitness min: 0.10, max: 16.75, mean: 3.56; best agent: 10*25+3*5-3-100*3/10*5+10-100+25*100-3+10/25-25/10*3+100/25/5/5 = 2512.06\n",
      "Generation 122: fitness min: 0.10, max: 16.75, mean: 4.27; best agent: 10*25+3*5-3-100*3/10*5+10-100+25*100-3+10/25-25/10*3+100/25/5/5 = 2512.06\n",
      "Generation 123: fitness min: 0.10, max: 16.75, mean: 4.38; best agent: 10*25+3*5-3-100*3/10*5+10-100+25*100-3+10/25-25/10*3+100/25/5/5 = 2512.06\n",
      "Generation 124: fitness min: 0.11, max: 16.75, mean: 4.98; best agent: 10*25+3*5-3-100*3/10*5+10-100+25*100-3+10/25-25/10*3+100/25/5/5 = 2512.06\n",
      "Generation 125: fitness min: 0.10, max: 16.75, mean: 3.84; best agent: 10*25+3*5-3-100*3/10*5+10-100+25*100-3+10/25-25/10*3+100/25/5/5 = 2512.06\n",
      "Generation 126: fitness min: 0.10, max: 16.75, mean: 4.54; best agent: 10*25+3*5-3-100*3/10*5+10-100+25*100-3+10/25-25/10*3+100/25/5/5 = 2512.06\n",
      "Generation 127: fitness min: 0.10, max: 16.75, mean: 3.98; best agent: 10*25+3*5-3-100*3/10*5+10-100+25*100-3+10/25-25/10*3+100/25/5/5 = 2512.06\n",
      "Generation 128: fitness min: 0.10, max: 16.75, mean: 4.83; best agent: 10*25+3*5-3-100*3/10*5+10-100+25*100-3+10/25-25/10*3+100/25/5/5 = 2512.06\n",
      "Generation 129: fitness min: 0.10, max: 16.75, mean: 4.16; best agent: 10*25+3*5-3-100*3/10*5+10-100+25*100-3+10/25-25/10*3+100/25/5/5 = 2512.06\n",
      "Generation 130: fitness min: 0.11, max: 16.75, mean: 4.37; best agent: 10*25+3*5-3-100*3/10*5+10-100+25*100-3+10/25-25/10*3+100/25/5/5 = 2512.06\n",
      "Generation 131: fitness min: 0.11, max: 16.75, mean: 4.46; best agent: 10*25+3*5-3-100*3/10*5+10-100+25*100-3+10/25-25/10*3+100/25/5/5 = 2512.06\n",
      "Generation 132: fitness min: 0.10, max: 16.75, mean: 5.22; best agent: 10*25+3*5-3-100*3/10*5+10-100+25*100-3+10/25-25/10*3+100/25/5/5 = 2512.06\n",
      "Generation 133: fitness min: 0.10, max: 16.75, mean: 5.71; best agent: 10*25+3*5-3-100*3/10*5+10-100+25*100-3+10/25-25/10*3+100/25/5/5 = 2512.06\n",
      "Generation 134: fitness min: 0.10, max: 16.75, mean: 4.75; best agent: 10*25+3*5-3-100*3/10*5+10-100+25*100-3+10/25-25/10*3+100/25/5/5 = 2512.06\n",
      "Generation 135: fitness min: 0.10, max: 16.75, mean: 4.81; best agent: 10*25+3*5-3-100*3/10*5+10-100+25*100-3+10/25-25/10*3+100/25/5/5 = 2512.06\n",
      "Generation 136: fitness min: 0.10, max: 16.75, mean: 4.69; best agent: 10*25+3*5-3-100*3/10*5+10-100+25*100-3+10/25-25/10*3+100/25/5/5 = 2512.06\n",
      "Generation 137: fitness min: 0.10, max: 16.75, mean: 4.23; best agent: 10*25+3*5-3-100*3/10*5+10-100+25*100-3+10/25-25/10*3+100/25/5/5 = 2512.06\n",
      "Generation 138: fitness min: 0.10, max: 16.75, mean: 5.06; best agent: 10*25+3*5-3-100*3/10*5+10-100+25*100-3+10/25-25/10*3+100/100/5/5 = 2511.94\n",
      "Generation 139: fitness min: 0.10, max: 16.75, mean: 4.30; best agent: 10*25+3*5-3-100*3/10*5+10-100+25*100-3+10/25-25/10*3+100/25/5/5 = 2512.06\n",
      "Generation 140: fitness min: 0.10, max: 16.75, mean: 4.55; best agent: 10*25+3*5-3-100*3/10*5+10-100+25*100-3+10/25-25/10*3+100/25/5/5 = 2512.06\n",
      "Generation 141: fitness min: 0.10, max: 16.75, mean: 5.40; best agent: 10*25+3*5-3-100*3/10*5+10-100+25*100-3+10/25-25/10*3+100/25/5/5 = 2512.06\n",
      "Generation 142: fitness min: 0.10, max: 16.75, mean: 3.78; best agent: 10*25+3*5-3-100*3/10*5+10-100+25*100-3+10/25-25/10*3+100/25/5/5 = 2512.06\n",
      "Generation 143: fitness min: 0.10, max: 16.75, mean: 3.62; best agent: 10*25+3*5-3-100*3/10*5+10-100+25*100-3+10/25-25/10*3+100/25/5/5 = 2512.06\n",
      "Generation 144: fitness min: 0.10, max: 16.75, mean: 3.34; best agent: 10*25+3*5-3-100*3/10*5+10-100+25*100-3+10/25-25/10*3+100/25/5/5 = 2512.06\n",
      "Generation 145: fitness min: 0.11, max: 16.75, mean: 3.69; best agent: 10*25+3*5-3-100*3/10*5+10-100+25*100-3+10/25-25/10*3+100/25/5/5 = 2512.06\n",
      "Generation 146: fitness min: 0.10, max: 16.75, mean: 5.87; best agent: 10*25+3*5-3-100*3/10*5+10-100+25*100-3+10/25-25/10*3+100/25/5/5 = 2512.06\n",
      "Generation 147: fitness min: 0.10, max: 16.75, mean: 3.18; best agent: 10*25+3*5-3-100*3/10*5+10-100+25*100-3+10/25-25/10*3+100/25/5/5 = 2512.06\n",
      "Generation 148: fitness min: 0.10, max: 16.75, mean: 3.47; best agent: 10*25+3*5-3-100*3/10*5+10-100+25*100-3+10/25-25/10*3+100/25/5/5 = 2512.06\n",
      "Generation 149: fitness min: 0.10, max: 16.75, mean: 4.07; best agent: 10*25+3*5-3-100*3/10*5+10-100+25*100-3+10/25-25/10*3+100/25/5/5 = 2512.06\n",
      "Generation 150: fitness min: 0.10, max: 16.75, mean: 4.96; best agent: 10*25+3*5-3-100*3/10*5+10-100+25*100-3+10/25-25/10*3+100/25/5/5 = 2512.06\n",
      "Generation 151: fitness min: 0.10, max: 16.75, mean: 3.63; best agent: 10*25+3*5-3-100*3/10*5+10-100+25*100-3+10/25-25/10*3+100/25/5/5 = 2512.06\n",
      "Generation 152: fitness min: 0.10, max: 16.75, mean: 4.73; best agent: 10*25+3*5-3-100*3/10*5+10-100+25*100-3+10/25-25/10*3+100/25/5/5 = 2512.06\n",
      "Generation 153: fitness min: 0.10, max: 16.75, mean: 3.64; best agent: 10*25+3*5-3-100*3/10*5+10-100+25*100-3+10/25-25/10*3+100/25/5/5 = 2512.06\n",
      "Generation 154: fitness min: 0.10, max: 16.75, mean: 5.00; best agent: 10*25+3*5-3-100*3/10*5+10-100+25*100-3+10/25-25/10*3+100/25/5/5 = 2512.06\n",
      "Generation 155: fitness min: 0.10, max: 16.75, mean: 4.29; best agent: 10*25+3*5-3-100*3/10*5+10-100+25*100-3+10/25-25/10*3+100/25/5/5 = 2512.06\n",
      "Generation 156: fitness min: 0.11, max: 16.75, mean: 3.44; best agent: 10*25+3*5-3-100*3/10*5+10-100+25*100-3+10/25-25/10*3+100/25/5/5 = 2512.06\n",
      "Generation 157: fitness min: 0.10, max: 16.75, mean: 4.47; best agent: 10*25+3*5-3-100*3/10*5+10-100+25*100-3+10/25-25/10*3+100/25/5/5 = 2512.06\n",
      "Generation 158: fitness min: 0.10, max: 16.75, mean: 3.41; best agent: 10*25+3*5-3-100*3/10*5+10-100+25*100-3+10/25-25/10*3+100/25/5/5 = 2512.06\n",
      "Generation 159: fitness min: 0.10, max: 16.75, mean: 4.33; best agent: 10*25+3*5-3-100*3/10*5+10-100+25*100-3+10/25-25/10*3+100/25/5/5 = 2512.06\n",
      "Generation 160: fitness min: 0.10, max: 16.75, mean: 4.89; best agent: 10*25+3*5-3-100*3/10*5+10-100+25*100-3+10/25-25/10*3+100/25/5/5 = 2512.06\n",
      "Generation 161: fitness min: 0.10, max: 16.75, mean: 3.48; best agent: 10*25+3*5-3-100*3/10*5+10-100+25*100-3+10/25-25/10*3+100/25/5/5 = 2512.06\n",
      "Generation 162: fitness min: 0.10, max: 16.75, mean: 5.04; best agent: 10*25+3*5-3-100*3/10*5+10-100+25*100-3+10/25-25/10*3+100/25/5/5 = 2512.06\n",
      "Generation 163: fitness min: 0.10, max: 16.75, mean: 4.28; best agent: 10*25+3*5-3-100*3/10*5+10-100+25*100-3+10/25-25/10*3+100/25/5/5 = 2512.06\n",
      "Generation 164: fitness min: 0.10, max: 16.75, mean: 4.08; best agent: 10*25+3*5-3-100*3/10*5+10-100+25*100-3+10/25-25/10*3+100/25/5/5 = 2512.06\n",
      "Generation 165: fitness min: 0.10, max: 16.75, mean: 3.99; best agent: 10*25+3*5-3-100*3/10*5+10-100+25*100-3+10/25-25/10*3+100/25/5/5 = 2512.06\n",
      "Generation 166: fitness min: 0.10, max: 16.75, mean: 3.45; best agent: 10*25+3*5-3-100*3/10*5+10-100+25*100-3+10/25-25/10*3+100/25/5/5 = 2512.06\n",
      "Generation 167: fitness min: 0.10, max: 16.75, mean: 3.03; best agent: 10*25+3*5-3-100*3/10*5+10-100+25*100-3+10/25-25/10*3+100/25/5/5 = 2512.06\n",
      "Generation 168: fitness min: 0.10, max: 16.75, mean: 3.81; best agent: 10*25+3*5-3-100*3/10*5+10-100+25*100-3+10/25-25/10*3+100/25/5/5 = 2512.06\n",
      "Generation 169: fitness min: 0.10, max: 16.75, mean: 4.85; best agent: 10*25+3*5-3-100*3/10*5+10-100+25*100-3+10/25-25/10*3+100/25/5/5 = 2512.06\n",
      "Generation 170: fitness min: 0.10, max: 16.75, mean: 3.86; best agent: 10*25+3*5-3-100*3/10*5+10-100+25*100-3+10/25-25/10*3+100/25/5/5 = 2512.06\n",
      "Generation 171: fitness min: 0.10, max: 16.75, mean: 4.52; best agent: 10*25+3*5-3-100*3/10*5+10-100+25*100-3+10/25-25/10*3+100/25/5/5 = 2512.06\n",
      "Generation 172: fitness min: 0.10, max: 16.75, mean: 2.83; best agent: 10*25+3*5-3-100*3/10*5+10-100+25*100-3+10/25-25/10*3+100/25/5/5 = 2512.06\n",
      "Generation 173: fitness min: 0.10, max: 16.75, mean: 3.09; best agent: 10*25+3*5-3-100*3/10*5+10-100+25*100-3+10/25-25/10*3+100/25/5/5 = 2512.06\n",
      "Generation 174: fitness min: 0.10, max: 16.75, mean: 2.81; best agent: 10*25+3*5-3-100*3/10*5+10-100+25*100-3+10/25-25/10*3+100/25/5/5 = 2512.06\n",
      "Generation 175: fitness min: 0.10, max: 16.75, mean: 4.18; best agent: 10*25+3*5-3-100*3/10*5+10-100+25*100-3+10/25-25/10*3+100/25/5/5 = 2512.06\n",
      "Generation 176: fitness min: 0.10, max: 16.75, mean: 3.97; best agent: 10*25+3*5-3-100*3/10*5+10-100+25*100-3+10/25-25/10*3+100/25/5/5 = 2512.06\n",
      "Generation 177: fitness min: 0.10, max: 16.75, mean: 4.12; best agent: 10*25+3*5-3-100*3/10*5+10-100+25*100-3+10/25-25/10*3+100/25/5/5 = 2512.06\n",
      "Generation 178: fitness min: 0.10, max: 16.75, mean: 3.82; best agent: 10*25+3*5-3-100*3/10*5+10-100+25*100-3+10/25-25/10*3+100/25/5/5 = 2512.06\n",
      "Generation 179: fitness min: 0.10, max: 16.75, mean: 3.31; best agent: 10*25+3*5-3-100*3/10*5+10-100+25*100-3+10/25-25/10*3+100/25/5/5 = 2512.06\n",
      "Generation 180: fitness min: 0.10, max: 16.75, mean: 3.85; best agent: 10*25+3*5-3-100*3/10*5+10-100+25*100-3+10/25-25/10*3+100/25/5/5 = 2512.06\n",
      "Generation 181: fitness min: 0.10, max: 16.75, mean: 4.13; best agent: 10*25+3*5-3-100*3/10*5+10-100+25*100-3+10/25-25/10*3+100/25/5/5 = 2512.06\n",
      "Generation 182: fitness min: 0.10, max: 16.75, mean: 5.06; best agent: 10*25+3*5-3-100*3/10*5+10-100+25*100-3+10/25-25/10*3+100/25/5/5 = 2512.06\n",
      "Generation 183: fitness min: 0.10, max: 16.75, mean: 2.82; best agent: 10*25+3*5-3-100*3/10*5+10-100+25*100-3+10/25-25/10*3+100/25/5/5 = 2512.06\n",
      "Generation 184: fitness min: 0.10, max: 16.75, mean: 4.26; best agent: 10*25+3*5-3-100*3/10*5+10-100+25*100-3+10/25-25/10*3+100/25/5/5 = 2512.06\n",
      "Generation 185: fitness min: 0.10, max: 16.75, mean: 3.97; best agent: 10*25+3*5-3-100*3/10*5+10-100+25*100-3+10/25-25/10*3+100/25/5/5 = 2512.06\n",
      "Generation 186: fitness min: 0.10, max: 16.75, mean: 4.14; best agent: 10*25+3*5-3-100*3/10*5+10-100+25*100-3+10/25-25/10*3+100/25/5/5 = 2512.06\n",
      "Generation 187: fitness min: 0.10, max: 16.75, mean: 4.49; best agent: 10*25+3*5-3-100*3/10*5+10-100+25*100-3+10/25-25/10*3+100/25/5/5 = 2512.06\n",
      "Generation 188: fitness min: 0.10, max: 16.75, mean: 3.17; best agent: 10*25+3*5-3-100*3/10*5+10-100+25*100-3+10/25-25/10*3+100/25/5/5 = 2512.06\n",
      "Generation 189: fitness min: 0.10, max: 16.75, mean: 4.11; best agent: 10*25+3*5-3-100*3/10*5+10-100+25*100-3+10/25-25/10*3+100/25/5/5 = 2512.06\n",
      "Generation 190: fitness min: 0.11, max: 16.75, mean: 5.50; best agent: 10*25+3*5-3-100*3/10*5+10-100+25*100-3+10/25-25/10*3+100/25/5/5 = 2512.06\n",
      "Generation 191: fitness min: 0.10, max: 16.75, mean: 3.54; best agent: 10*25+3*5-3-100*3/10*5+10-100+25*100-3+10/25-25/10*3+100/25/5/5 = 2512.06\n",
      "Generation 192: fitness min: 0.10, max: 16.75, mean: 3.96; best agent: 10*25+3*5-3-100*3/10*5+10-100+25*100-3+10/25-25/10*3+100/25/5/5 = 2512.06\n",
      "Generation 193: fitness min: 0.10, max: 16.75, mean: 3.32; best agent: 10*25+3*5-3-100*3/10*5+10-100+25*100-3+10/25-25/10*3+100/25/5/5 = 2512.06\n",
      "Generation 194: fitness min: 0.10, max: 16.75, mean: 3.65; best agent: 10*25+3*5-3-100*3/10*5+10-100+25*100-3+10/25-25/10*3+100/25/5/5 = 2512.06\n",
      "Generation 195: fitness min: 0.10, max: 16.75, mean: 3.80; best agent: 10*25+3*5-3-100*3/10*5+10-100+25*100-3+10/25-25/10*3+100/100/5/5 = 2511.94\n",
      "Generation 196: fitness min: 0.10, max: 16.75, mean: 4.95; best agent: 10*25+3*5-3-100*3/10*5+10-100+25*100-3+10/25-25/10*3+100/25/5/5 = 2512.06\n",
      "Generation 197: fitness min: 0.10, max: 16.75, mean: 3.73; best agent: 10*25+3*5-3-100*3/10*5+10-100+25*100-3+10/25-25/10*3+100/25/5/5 = 2512.06\n",
      "Generation 198: fitness min: 0.10, max: 16.75, mean: 3.62; best agent: 10*25+3*5-3-100*3/10*5+10-100+25*100-3+10/25-25/10*3+100/25/5/5 = 2512.06\n",
      "Generation 199: fitness min: 0.10, max: 16.75, mean: 4.03; best agent: 10*25+3*5-3-100*3/10*5+10-100+25*100-3+10/25-25/10*3+100/25/5/5 = 2512.06\n",
      "Generation 200: fitness min: 0.11, max: 16.75, mean: 3.30; best agent: 10*25+3*5-3-100*3/10*5+10-100+25*100-3+10/25-25/10*3+100/25/5/5 = 2512.06\n",
      "Generation 201: fitness min: 0.10, max: 16.75, mean: 4.19; best agent: 10*25+3*5-3-100*3/10*5+10-100+25*100-3+10/25-25/10*3+100/25/5/5 = 2512.06\n",
      "Generation 202: fitness min: 0.10, max: 16.75, mean: 3.65; best agent: 10*25+3*5-3-100*3/10*5+10-100+25*100-3+10/25-25/10*3+100/25/5/5 = 2512.06\n",
      "Generation 203: fitness min: 0.10, max: 16.75, mean: 3.96; best agent: 10*25+3*5-3-100*3/10*5+10-100+25*100-3+10/25-25/10*3+100/25/5/5 = 2512.06\n",
      "Generation 204: fitness min: 0.10, max: 16.75, mean: 4.62; best agent: 10*25+3*5-3-100*3/10*5+10-100+25*100-3+10/25-25/10*3+100/25/5/5 = 2512.06\n",
      "Generation 205: fitness min: 0.10, max: 16.75, mean: 4.48; best agent: 10*25+3*5-3-100*3/10*5+10-100+25*100-3+10/25-25/10*3+100/25/5/5 = 2512.06\n",
      "Generation 206: fitness min: 0.10, max: 16.75, mean: 4.83; best agent: 10*25+3*5-3-100*3/10*5+10-100+25*100-3+10/25-25/10*3+100/25/5/5 = 2512.06\n",
      "Generation 207: fitness min: 0.10, max: 16.75, mean: 4.80; best agent: 10*25+3*5-3-100*3/10*5+10-100+25*100-3+10/25-25/10*3+100/25/5/5 = 2512.06\n",
      "Generation 208: fitness min: 0.10, max: 16.75, mean: 3.96; best agent: 10*25+3*5-3-100*3/10*5+10-100+25*100-3+10/25-25/10*3+100/25/5/5 = 2512.06\n",
      "Generation 209: fitness min: 0.10, max: 16.75, mean: 4.03; best agent: 10*25+3*5-3-100*3/10*5+10-100+25*100-3+10/25-25/10*3+100/25/5/5 = 2512.06\n",
      "Generation 210: fitness min: 0.10, max: 16.75, mean: 5.29; best agent: 10*25+3*5-3-100*3/10*5+10-100+25*100-3+10/25-25/10*3+100/25/5/5 = 2512.06\n",
      "Generation 211: fitness min: 0.10, max: 16.75, mean: 3.98; best agent: 10*25+3*5-3-100*3/10*5+10-100+25*100-3+10/25-25/10*3+100/25/5/5 = 2512.06\n",
      "Generation 212: fitness min: 0.10, max: 16.75, mean: 4.91; best agent: 10*25+3*5-3-100*3/10*5+10-100+25*100-3+10/25-25/10*3+100/25/5/5 = 2512.06\n",
      "Generation 213: fitness min: 0.10, max: 16.75, mean: 3.24; best agent: 10*25+3*5-3-100*3/10*5+10-100+25*100-3+10/25-25/10*3+100/25/5/5 = 2512.06\n",
      "Generation 214: fitness min: 0.10, max: 16.75, mean: 4.08; best agent: 10*25+3*5-3-100*3/10*5+10-100+25*100-3+10/25-25/10*3+100/25/5/5 = 2512.06\n",
      "Generation 215: fitness min: 0.10, max: 16.75, mean: 4.45; best agent: 10*25+3*5-3-100*3/10*5+10-100+25*100-3+10/25-25/10*3+100/25/5/5 = 2512.06\n",
      "Generation 216: fitness min: 0.10, max: 16.75, mean: 5.16; best agent: 10*25+3*5-3-100*3/10*5+10-100+25*100-3+10/25-25/10*3+100/25/5/5 = 2512.06\n",
      "Generation 217: fitness min: 0.10, max: 16.75, mean: 4.47; best agent: 10*25+3*5-3-100*3/10*5+10-100+25*100-3+10/25-25/10*3+100/25/5/5 = 2512.06\n",
      "Generation 218: fitness min: 0.10, max: 16.75, mean: 4.45; best agent: 10*25+3*5-3-100*3/10*5+10-100+25*100-3+10/25-25/10*3+100/25/5/5 = 2512.06\n",
      "Generation 219: fitness min: 0.10, max: 16.75, mean: 3.97; best agent: 10*25+3*5-3-100*3/10*5+10-100+25*100-3+10/25-25/10*3+100/25/5/5 = 2512.06\n",
      "Generation 220: fitness min: 0.10, max: 16.75, mean: 4.35; best agent: 10*25+3*5-3-100*3/10*5+10-100+25*100-3+10/25-25/10*3+100/25/5/5 = 2512.06\n",
      "Generation 221: fitness min: 0.11, max: 16.75, mean: 4.81; best agent: 10*25+3*5-3-100*3/10*5+10-100+25*100-3+10/25-25/10*3+100/25/5/5 = 2512.06\n",
      "Generation 222: fitness min: 0.10, max: 16.75, mean: 5.76; best agent: 10*25+3*5-3-100*3/10*5+10-100+25*100-3+10/25-25/10*3+100/25/5/5 = 2512.06\n",
      "Generation 223: fitness min: 0.10, max: 16.75, mean: 6.14; best agent: 10*25+3*5-3-100*3/10*5+10-100+25*100-3+10/25-25/10*3+100/25/5/5 = 2512.06\n",
      "Generation 224: fitness min: 0.10, max: 16.75, mean: 3.92; best agent: 10*25+3*5-3-100*3/10*5+10-100+25*100-3+10/25-25/10*3+100/25/5/5 = 2512.06\n",
      "Generation 225: fitness min: 0.10, max: 16.75, mean: 4.16; best agent: 10*25+3*5-3-100*3/10*5+10-100+25*100-3+10/25-25/10*3+100/25/5/5 = 2512.06\n",
      "Generation 226: fitness min: 0.11, max: 16.75, mean: 3.66; best agent: 10*25+3*5-3-100*3/10*5+10-100+25*100-3+10/25-25/10*3+100/25/5/5 = 2512.06\n",
      "Generation 227: fitness min: 0.11, max: 16.75, mean: 4.12; best agent: 10*25+3*5-3-100*3/10*5+10-100+25*100-3+10/25-25/10*3+100/25/5/5 = 2512.06\n",
      "Generation 228: fitness min: 0.10, max: 16.75, mean: 6.98; best agent: 10*25+3*5-3-100*3/10*5+10-100+25*100-3+10/25-25/10*3+100/25/5/5 = 2512.06\n",
      "Generation 229: fitness min: 0.10, max: 16.75, mean: 4.62; best agent: 10*25+3*5-3-100*3/10*5+10-100+25*100-3+10/25-25/10*3+100/25/5/5 = 2512.06\n",
      "Generation 230: fitness min: 0.10, max: 16.75, mean: 4.31; best agent: 10*25+3*5-3-100*3/10*5+10-100+25*100-3+10/25-25/10*3+100/25/5/5 = 2512.06\n",
      "Generation 231: fitness min: 0.10, max: 16.75, mean: 5.33; best agent: 10*25+3*5-3-100*3/10*5+10-100+25*100-3+10/25-25/10*3+100/25/5/5 = 2512.06\n",
      "Generation 232: fitness min: 0.10, max: 16.75, mean: 3.63; best agent: 10*25+3*5-3-100*3/10*5+10-100+25*100-3+10/25-25/10*3+100/25/5/5 = 2512.06\n",
      "Generation 233: fitness min: 0.10, max: 16.75, mean: 4.51; best agent: 10*25+3*5-3-100*3/10*5+10-100+25*100-3+10/25-25/10*3+100/25/5/5 = 2512.06\n",
      "Generation 234: fitness min: 0.10, max: 16.75, mean: 3.82; best agent: 10*25+3*5-3-100*3/10*5+10-100+25*100-3+10/25-25/10*3+100/25/5/5 = 2512.06\n",
      "Generation 235: fitness min: 0.10, max: 16.75, mean: 4.85; best agent: 10*25+3*5-3-100*3/10*5+10-100+25*100-3+10/25-25/10*3+100/25/5/5 = 2512.06\n",
      "Generation 236: fitness min: 0.10, max: 16.75, mean: 3.62; best agent: 10*25+3*5-3-100*3/10*5+10-100+25*100-3+10/25-25/10*3+100/25/5/5 = 2512.06\n",
      "Generation 237: fitness min: 0.10, max: 16.75, mean: 3.64; best agent: 10*25+3*5-3-100*3/10*5+10-100+25*100-3+10/25-25/10*3+100/25/5/5 = 2512.06\n",
      "Generation 238: fitness min: 0.10, max: 16.75, mean: 4.56; best agent: 10*25+3*5-3-100*3/10*5+10-100+25*100-3+10/25-25/10*3+100/25/5/5 = 2512.06\n",
      "Generation 239: fitness min: 0.10, max: 16.75, mean: 3.95; best agent: 10*25+3*5-3-100*3/10*5+10-100+25*100-3+10/25-25/10*3+100/25/5/5 = 2512.06\n",
      "Generation 240: fitness min: 0.10, max: 16.75, mean: 3.96; best agent: 10*25+3*5-3-100*3/10*5+10-100+25*100-3+10/25-25/10*3+100/25/5/5 = 2512.06\n",
      "Generation 241: fitness min: 0.10, max: 16.75, mean: 5.01; best agent: 10*25+3*5-3-100*3/10*5+10-100+25*100-3+10/25-25/10*3+100/25/5/5 = 2512.06\n",
      "Generation 242: fitness min: 0.10, max: 16.75, mean: 3.62; best agent: 10*25+3*5-3-100*3/10*5+10-100+25*100-3+10/25-25/10*3+100/25/5/5 = 2512.06\n",
      "Generation 243: fitness min: 0.10, max: 16.75, mean: 4.01; best agent: 10*25+3*5-3-100*3/10*5+10-100+25*100-3+10/25-25/10*3+100/25/5/5 = 2512.06\n",
      "Generation 244: fitness min: 0.10, max: 16.75, mean: 3.84; best agent: 10*25+3*5-3-100*3/10*5+10-100+25*100-3+10/25-25/10*3+100/25/5/5 = 2512.06\n",
      "Generation 245: fitness min: 0.10, max: 16.75, mean: 3.34; best agent: 10*25+3*5-3-100*3/10*5+10-100+25*100-3+10/25-25/10*3+100/25/5/5 = 2512.06\n",
      "Generation 246: fitness min: 0.10, max: 16.75, mean: 3.35; best agent: 10*25+3*5-3-100*3/10*5+10-100+25*100-3+10/25-25/10*3+100/25/5/5 = 2512.06\n",
      "Generation 247: fitness min: 0.10, max: 16.75, mean: 4.72; best agent: 10*25+3*5-3-100*3/10*5+10-100+25*100-3+10/25-25/10*3+100/25/5/5 = 2512.06\n",
      "Generation 248: fitness min: 0.10, max: 16.75, mean: 4.43; best agent: 10*25+3*5-3-100*3/10*5+10-100+25*100-3+10/25-25/10*3+100/25/5/5 = 2512.06\n",
      "Generation 249: fitness min: 0.10, max: 16.75, mean: 4.62; best agent: 10*25+3*5-3-100*3/10*5+10-100+25*100-3+10/25-25/10*3+100/25/5/5 = 2512.06\n",
      "Generation 250: fitness min: 0.10, max: 16.75, mean: 3.15; best agent: 10*25+3*5-3-100*3/10*5+10-100+25*100-3+10/25-25/10*3+100/25/5/5 = 2512.06\n",
      "Generation 251: fitness min: 0.10, max: 16.75, mean: 4.64; best agent: 10*25+3*5-3-100*3/10*5+10-100+25*100-3+10/25-25/10*3+100/25/5/5 = 2512.06\n",
      "Generation 252: fitness min: 0.10, max: 16.75, mean: 4.14; best agent: 10*25+3*5-3-100*3/10*5+10-100+25*100-3+10/25-25/10*3+100/100/5/5 = 2511.94\n",
      "Generation 253: fitness min: 0.10, max: 16.75, mean: 4.32; best agent: 10*25+3*5-3-100*3/10*5+10-100+25*100-3+10/25-25/10*3+100/100/5/5 = 2511.94\n",
      "Generation 254: fitness min: 0.10, max: 16.75, mean: 3.55; best agent: 10*25+3*5-3-100*3/10*5+10-100+25*100-3+10/25-25/10*3+100/100/5/5 = 2511.94\n",
      "Generation 255: fitness min: 0.10, max: 16.75, mean: 5.02; best agent: 10*25+3*5-3-100*3/10*5+10-100+25*100-3+10/25-25/10*3+100/100/5/5 = 2511.94\n",
      "Generation 256: fitness min: 0.10, max: 16.75, mean: 4.29; best agent: 10*25+3*5-3-100*3/10*5+10-100+25*100-3+10/25-25/10*3+100/100/5/5 = 2511.94\n",
      "Generation 257: fitness min: 0.10, max: 16.75, mean: 4.17; best agent: 10*25+3*5-3-100*3/10*5+10-100+25*100-3+10/25-25/10*3+100/100/5/5 = 2511.94\n",
      "Generation 258: fitness min: 0.10, max: 16.75, mean: 5.79; best agent: 10*25+3*5-3-100*3/10*5+10-100+25*100-3+10/25-25/10*3+100/100/5/5 = 2511.94\n",
      "Generation 259: fitness min: 0.10, max: 16.75, mean: 3.78; best agent: 10*25+3*5-3-100*3/10*5+10-100+25*100-3+10/25-25/10*3+100/100/5/5 = 2511.94\n",
      "Generation 260: fitness min: 0.10, max: 16.75, mean: 3.75; best agent: 10*25+3*5-3-100*3/10*5+10-100+25*100-3+10/25-25/10*3+100/100/5/5 = 2511.94\n",
      "Generation 261: fitness min: 0.10, max: 16.75, mean: 4.79; best agent: 10*25+3*5-3-100*3/10*5+10-100+25*100-3+10/25-25/10*3+100/100/5/5 = 2511.94\n",
      "Generation 262: fitness min: 0.10, max: 16.75, mean: 3.98; best agent: 10*25+3*5-3-100*3/10*5+10-100+25*100-3+10/25-25/10*3+100/100/5/5 = 2511.94\n",
      "Generation 263: fitness min: 0.10, max: 16.75, mean: 4.78; best agent: 10*25+3*5-3-100*3/10*5+10-100+25*100-3+10/25-25/10*3+100/100/5/5 = 2511.94\n",
      "Generation 264: fitness min: 0.10, max: 16.75, mean: 4.15; best agent: 10*25+3*5-3-100*3/10*5+10-100+25*100-3+10/25-25/10*3+100/25/5/5 = 2512.06\n",
      "Generation 265: fitness min: 0.10, max: 16.75, mean: 3.33; best agent: 10*25+3*5-3-100*3/10*5+10-100+25*100-3+10/25-25/10*3+100/25/5/5 = 2512.06\n",
      "Generation 266: fitness min: 0.10, max: 16.75, mean: 4.17; best agent: 10*25+3*5-3-100*3/10*5+10-100+25*100-3+10/25-25/10*3+100/25/5/5 = 2512.06\n",
      "Generation 267: fitness min: 0.10, max: 16.75, mean: 4.41; best agent: 10*25+3*5-3-100*3/10*5+10-100+25*100-3+10/25-25/10*3+100/25/5/5 = 2512.06\n",
      "Generation 268: fitness min: 0.10, max: 16.75, mean: 4.68; best agent: 10*25+3*5-3-100*3/10*5+10-100+25*100-3+10/25-25/10*3+100/25/5/5 = 2512.06\n",
      "Generation 269: fitness min: 0.10, max: 16.75, mean: 4.47; best agent: 10*25+3*5-3-100*3/10*5+10-100+25*100-3+10/25-25/10*3+100/25/5/5 = 2512.06\n",
      "Generation 270: fitness min: 0.10, max: 16.75, mean: 4.62; best agent: 10*25+3*5-3-100*3/10*5+10-100+25*100-3+10/25-25/10*3+100/25/5/5 = 2512.06\n",
      "Generation 271: fitness min: 0.10, max: 16.75, mean: 5.19; best agent: 10*25+3*5-3-100*3/10*5+10-100+25*100-3+10/25-25/10*3+100/25/5/5 = 2512.06\n",
      "Generation 272: fitness min: 0.10, max: 16.75, mean: 5.00; best agent: 10*25+3*5-3-100*3/10*5+10-100+25*100-3+10/25-25/10*3+100/25/5/5 = 2512.06\n",
      "Generation 273: fitness min: 0.10, max: 16.75, mean: 3.80; best agent: 10*25+3*5-3-100*3/10*5+10-100+25*100-3+10/25-25/10*3+100/25/5/5 = 2512.06\n",
      "Generation 274: fitness min: 0.10, max: 16.75, mean: 3.21; best agent: 10*25+3*5-3-100*3/10*5+10-100+25*100-3+10/25-25/10*3+100/25/5/5 = 2512.06\n",
      "Generation 275: fitness min: 0.10, max: 16.75, mean: 4.51; best agent: 10*25+3*5-3-100*3/10*5+10-100+25*100-3+10/25-25/10*3+100/25/5/5 = 2512.06\n",
      "Generation 276: fitness min: 0.10, max: 16.75, mean: 2.48; best agent: 10*25+3*5-3-100*3/10*5+10-100+25*100-3+10/25-25/10*3+100/25/5/5 = 2512.06\n",
      "Generation 277: fitness min: 0.10, max: 16.75, mean: 3.64; best agent: 10*25+3*5-3-100*3/10*5+10-100+25*100-3+10/25-25/10*3+100/25/5/5 = 2512.06\n",
      "Generation 278: fitness min: 0.10, max: 16.75, mean: 5.70; best agent: 10*25+3*5-3-100*3/10*5+10-100+25*100-3+10/25-25/10*3+100/25/5/5 = 2512.06\n",
      "Generation 279: fitness min: 0.10, max: 16.75, mean: 4.49; best agent: 10*25+3*5-3-100*3/10*5+10-100+25*100-3+10/25-25/10*3+100/25/5/5 = 2512.06\n",
      "Generation 280: fitness min: 0.10, max: 16.75, mean: 4.99; best agent: 10*25+3*5-3-100*3/10*5+10-100+25*100-3+10/25-25/10*3+100/25/5/5 = 2512.06\n",
      "Generation 281: fitness min: 0.10, max: 16.75, mean: 3.12; best agent: 10*25+3*5-3-100*3/10*5+10-100+25*100-3+10/25-25/10*3+100/25/5/5 = 2512.06\n",
      "Generation 282: fitness min: 0.10, max: 16.75, mean: 2.39; best agent: 10*25+3*5-3-100*3/10*5+10-100+25*100-3+10/25-25/10*3+100/25/5/5 = 2512.06\n",
      "Generation 283: fitness min: 0.10, max: 16.75, mean: 3.07; best agent: 10*25+3*5-3-100*3/10*5+10-100+25*100-3+10/25-25/10*3+100/25/5/5 = 2512.06\n",
      "Generation 284: fitness min: 0.10, max: 16.75, mean: 2.92; best agent: 10*25+3*5-3-100*3/10*5+10-100+25*100-3+10/25-25/10*3+100/25/5/5 = 2512.06\n",
      "Generation 285: fitness min: 0.10, max: 16.75, mean: 4.00; best agent: 10*25+3*5-3-100*3/10*5+10-100+25*100-3+10/25-25/10*3+100/25/5/5 = 2512.06\n",
      "Generation 286: fitness min: 0.10, max: 16.75, mean: 4.46; best agent: 10*25+3*5-3-100*3/10*5+10-100+25*100-3+10/25-25/10*3+100/25/5/5 = 2512.06\n",
      "Generation 287: fitness min: 0.10, max: 16.75, mean: 5.34; best agent: 10*25+3*5-3-100*3/10*5+10-100+25*100-3+10/25-25/10*3+100/25/5/5 = 2512.06\n",
      "Generation 288: fitness min: 0.10, max: 16.75, mean: 4.11; best agent: 10*25+3*5-3-100*3/10*5+10-100+25*100-3+10/25-25/10*3+100/25/5/5 = 2512.06\n",
      "Generation 289: fitness min: 0.10, max: 16.75, mean: 3.68; best agent: 10*25+3*5-3-100*3/10*5+10-100+25*100-3+10/25-25/10*3+100/25/5/5 = 2512.06\n",
      "Generation 290: fitness min: 0.10, max: 16.75, mean: 4.29; best agent: 10*25+3*5-3-100*3/10*5+10-100+25*100-3+10/25-25/10*3+100/25/5/5 = 2512.06\n",
      "Generation 291: fitness min: 0.10, max: 16.75, mean: 4.17; best agent: 10*25+3*5-3-100*3/10*5+10-100+25*100-3+10/25-25/10*3+100/25/5/5 = 2512.06\n",
      "Generation 292: fitness min: 0.10, max: 16.75, mean: 6.02; best agent: 10*25+3*5-3-100*3/10*5+10-100+25*100-3+10/25-25/10*3+100/25/5/5 = 2512.06\n",
      "Generation 293: fitness min: 0.10, max: 16.75, mean: 5.12; best agent: 10*25+3*5-3-100*3/10*5+10-100+25*100-3+10/25-25/10*3+100/25/5/5 = 2512.06\n",
      "Generation 294: fitness min: 0.10, max: 16.75, mean: 3.40; best agent: 10*25+3*5-3-100*3/10*5+10-100+25*100-3+10/25-25/10*3+100/25/5/5 = 2512.06\n",
      "Generation 295: fitness min: 0.10, max: 16.75, mean: 2.45; best agent: 10*25+3*5-3-100*3/10*5+10-100+25*100-3+10/25-25/10*3+100/25/5/5 = 2512.06\n",
      "Generation 296: fitness min: 0.10, max: 16.75, mean: 2.64; best agent: 10*25+3*5-3-100*3/10*5+10-100+25*100-3+10/25-25/10*3+100/25/5/5 = 2512.06\n",
      "Generation 297: fitness min: 0.11, max: 16.75, mean: 4.28; best agent: 10*25+3*5-3-100*3/10*5+10-100+25*100-3+10/25-25/10*3+100/25/5/5 = 2512.06\n",
      "Generation 298: fitness min: 0.10, max: 16.75, mean: 4.33; best agent: 10*25+3*5-3-100*3/10*5+10-100+25*100-3+10/25-25/10*3+100/25/5/5 = 2512.06\n",
      "Generation 299: fitness min: 0.11, max: 16.75, mean: 5.33; best agent: 10*25+3*5-3-100*3/10*5+10-100+25*100-3+10/25-25/10*3+100/25/5/5 = 2512.06\n"
     ]
    },
    {
     "data": {
      "image/png": "[encoded data removed]",
      "text/plain": [
       "<Figure size 720x720 with 1 Axes>"
      ]
     },
     "metadata": {
      "needs_background": "light"
     },
     "output_type": "display_data"
    }
   ],
   "source": [
    "population = [generate_agent() for _ in range(population_size)]\n",
    "_ = evolve(\n",
    "    population,\n",
    "    fitness_length,\n",
    "    select_best_agents,\n",
    "    crossover,\n",
    "    mutation,\n",
    "    fitness_threshold=10000.00,\n",
    "    mutation_probability=0.4, survival_probability=0.2, max_iterations=300,\n",
    "    verbose=True, keep_best=True, plot=True\n",
    ")"
   ]
  },
  {
   "cell_type": "code",
   "execution_count": 155,
   "metadata": {},
   "outputs": [],
   "source": [
    "def fitness_length_2(agent):\n",
    "    return fitness_abs(agent) - len(agent)*2"
   ]
  },
  {
   "cell_type": "code",
   "execution_count": 162,
   "metadata": {},
   "outputs": [
    {
     "name": "stdout",
     "output_type": "stream",
     "text": [
      "Generation 0: fitness min: -672514.00, max: -23.47, mean: -15221.39; best agent: 25-10/3-5/25+100*25 = 2521.47\n",
      "Generation 1: fitness min: -22622.12, max: -23.47, mean: -2177.94; best agent: 25-10/3-5/25+100*25 = 2521.47\n",
      "Generation 2: fitness min: -9372512.00, max: -18.00, mean: -148314.84; best agent: 3-5+25*10/25+100*25 = 2508.00\n",
      "Generation 3: fitness min: -92928.67, max: -18.00, mean: -2205.47; best agent: 3-5+25*10/25+100*25 = 2508.00\n",
      "Generation 4: fitness min: -60029.01, max: -16.40, mean: -1618.49; best agent: 25-5*3-10/25+100*25 = 2509.60\n",
      "Generation 5: fitness min: -64999.40, max: -16.40, mean: -1496.29; best agent: 25-10/25-5-3-5+100*25 = 2511.60\n",
      "Generation 6: fitness min: -247517.40, max: -14.20, mean: -3728.37; best agent: 25-3-10+5/25+100*25 = 2512.20\n",
      "Generation 7: fitness min: -22530.88, max: -14.40, mean: -1651.65; best agent: 5+10-10/25-3+100*25 = 2511.60\n",
      "Generation 8: fitness min: -5059.60, max: -12.33, mean: -663.76; best agent: 5+10-10/3+100*25 = 2511.67\n",
      "Generation 9: fitness min: -60017.88, max: -12.33, mean: -1811.37; best agent: 5+10-10/3+100*25 = 2511.67\n",
      "Generation 10: fitness min: -9977.67, max: -14.00, mean: -1466.21; best agent: 5+10-10/10+100*25 = 2514.00\n",
      "Generation 11: fitness min: -5041.10, max: -14.00, mean: -915.60; best agent: 5+10-10/10+100*25 = 2514.00\n",
      "Generation 12: fitness min: -5124.60, max: -14.00, mean: -1151.11; best agent: 5+10-10/10+100*25 = 2514.00\n",
      "Generation 13: fitness min: -5009.10, max: -13.00, mean: -1129.67; best agent: 10-10/10+100*25 = 2509.00\n",
      "Generation 14: fitness min: -60016.00, max: -13.00, mean: -1748.44; best agent: 10-10/10+100*25 = 2509.00\n",
      "Generation 15: fitness min: -4998.60, max: -11.00, mean: -794.67; best agent: 10+10/10+100*25 = 2511.00\n",
      "Generation 16: fitness min: -60016.00, max: -11.00, mean: -1270.02; best agent: 10+10/10+100*25 = 2511.00\n",
      "Generation 17: fitness min: -7536.00, max: -11.00, mean: -912.92; best agent: 10+10/10+100*25 = 2511.00\n",
      "Generation 18: fitness min: -247511.00, max: -11.00, mean: -3172.61; best agent: 10+10/10+100*25 = 2511.00\n",
      "Generation 19: fitness min: -10011.00, max: -11.00, mean: -766.53; best agent: 10+10/10+100*25 = 2511.00\n",
      "Generation 20: fitness min: -10000.10, max: -10.00, mean: -736.04; best agent: 10+10/5+100*25 = 2512.00\n",
      "Generation 21: fitness min: -22499.00, max: -10.00, mean: -1044.20; best agent: 10+10/5+100*25 = 2512.00\n",
      "Generation 22: fitness min: -247511.00, max: -10.00, mean: -4016.26; best agent: 10+10/5+100*25 = 2512.00\n",
      "Generation 23: fitness min: -18334.33, max: -10.00, mean: -936.43; best agent: 10+10/5+100*25 = 2512.00\n",
      "Generation 24: fitness min: -10012.50, max: -10.00, mean: -1088.12; best agent: 10+10/5+100*25 = 2512.00\n",
      "Generation 25: fitness min: -3758.00, max: -10.00, mean: -1037.51; best agent: 10+10/5+100*25 = 2512.00\n",
      "Generation 26: fitness min: -60012.00, max: -10.00, mean: -1848.60; best agent: 10+10/5+100*25 = 2512.00\n",
      "Generation 27: fitness min: -7510.00, max: -10.00, mean: -995.72; best agent: 10+10/5+100*25 = 2512.00\n",
      "Generation 28: fitness min: -22512.00, max: -10.00, mean: -1356.11; best agent: 10+10/5+100*25 = 2512.00\n",
      "Generation 29: fitness min: -97505.40, max: -10.00, mean: -2806.80; best agent: 10+10/5+100*25 = 2512.00\n",
      "Generation 30: fitness min: -4912.00, max: -10.00, mean: -898.35; best agent: 10+10/5+100*25 = 2512.00\n",
      "Generation 31: fitness min: -4923.80, max: -10.00, mean: -873.42; best agent: 10+10/5+100*25 = 2512.00\n",
      "Generation 32: fitness min: -7487.00, max: -10.00, mean: -938.60; best agent: 10+10/5+100*25 = 2512.00\n",
      "Generation 33: fitness min: -7537.00, max: -10.00, mean: -1080.47; best agent: 10+10/5+100*25 = 2512.00\n",
      "Generation 34: fitness min: -7510.00, max: -10.00, mean: -932.89; best agent: 10+10/5+100*25 = 2512.00\n",
      "Generation 35: fitness min: -3516.60, max: -10.00, mean: -1088.06; best agent: 10+10/5+100*25 = 2512.00\n",
      "Generation 36: fitness min: -7517.00, max: -10.00, mean: -1091.95; best agent: 10+10/5+100*25 = 2512.00\n",
      "Generation 37: fitness min: -4997.00, max: -10.00, mean: -1062.47; best agent: 10+10/5+100*25 = 2512.00\n",
      "Generation 38: fitness min: -97527.00, max: -10.00, mean: -2204.17; best agent: 10+10/5+100*25 = 2512.00\n",
      "Generation 39: fitness min: -5010.00, max: -10.00, mean: -906.78; best agent: 10+10/5+100*25 = 2512.00\n",
      "Generation 40: fitness min: -22500.00, max: -10.00, mean: -1323.71; best agent: 10+10/5+100*25 = 2512.00\n",
      "Generation 41: fitness min: -7537.00, max: -10.00, mean: -968.71; best agent: 10+10/5+100*25 = 2512.00\n",
      "Generation 42: fitness min: -97527.00, max: -10.00, mean: -1949.86; best agent: 10+10/5+100*25 = 2512.00\n",
      "Generation 43: fitness min: -5010.00, max: -10.00, mean: -796.21; best agent: 10+10/5+100*25 = 2512.00\n",
      "Generation 44: fitness min: -2519.96, max: -10.00, mean: -689.20; best agent: 10+10/5+100*25 = 2512.00\n",
      "Generation 45: fitness min: -10012.00, max: -10.00, mean: -841.63; best agent: 10+10/5+100*25 = 2512.00\n",
      "Generation 46: fitness min: -2517.50, max: -10.00, mean: -713.80; best agent: 10+10/5+100*25 = 2512.00\n",
      "Generation 47: fitness min: -2537.00, max: -10.00, mean: -1087.51; best agent: 10+10/5+100*25 = 2512.00\n",
      "Generation 48: fitness min: -7510.00, max: -10.00, mean: -1005.39; best agent: 10+10/5+100*25 = 2512.00\n",
      "Generation 49: fitness min: -60012.00, max: -10.00, mean: -1692.44; best agent: 10+10/5+100*25 = 2512.00\n",
      "Generation 50: fitness min: -22500.00, max: -10.00, mean: -1015.83; best agent: 10+10/5+100*25 = 2512.00\n",
      "Generation 51: fitness min: -247512.00, max: -10.00, mean: -3555.95; best agent: 10+10/5+100*25 = 2512.00\n",
      "Generation 52: fitness min: -2517.50, max: -10.00, mean: -918.25; best agent: 10+10/5+100*25 = 2512.00\n",
      "Generation 53: fitness min: -5010.00, max: -10.00, mean: -1252.84; best agent: 10+10/5+100*25 = 2512.00\n",
      "Generation 54: fitness min: -5010.00, max: -10.00, mean: -1210.32; best agent: 10+10/5+100*25 = 2512.00\n",
      "Generation 55: fitness min: -7498.20, max: -10.00, mean: -800.30; best agent: 10+10/5+100*25 = 2512.00\n",
      "Generation 56: fitness min: -22512.00, max: -10.00, mean: -948.33; best agent: 10+10/5+100*25 = 2512.00\n",
      "Generation 57: fitness min: -60012.00, max: -10.00, mean: -1532.52; best agent: 10+10/5+100*25 = 2512.00\n",
      "Generation 58: fitness min: -7510.00, max: -10.00, mean: -1162.79; best agent: 10+10/5+100*25 = 2512.00\n",
      "Generation 59: fitness min: -247512.00, max: -10.00, mean: -3267.20; best agent: 10+10/5+100*25 = 2512.00\n",
      "Generation 60: fitness min: -22512.00, max: -10.00, mean: -992.07; best agent: 10+10/5+100*25 = 2512.00\n",
      "Generation 61: fitness min: -22500.00, max: -10.00, mean: -1090.74; best agent: 10+10/5+100*25 = 2512.00\n",
      "Generation 62: fitness min: -7527.00, max: -10.00, mean: -924.41; best agent: 10+10/5+100*25 = 2512.00\n",
      "Generation 63: fitness min: -2517.50, max: -10.00, mean: -811.03; best agent: 10+10/5+100*25 = 2512.00\n",
      "Generation 64: fitness min: -7510.00, max: -10.00, mean: -1119.12; best agent: 10+10/5+100*25 = 2512.00\n",
      "Generation 65: fitness min: -5012.00, max: -10.00, mean: -1016.95; best agent: 10+10/5+100*25 = 2512.00\n",
      "Generation 66: fitness min: -7510.00, max: -10.00, mean: -758.71; best agent: 10+10/5+100*25 = 2512.00\n",
      "Generation 67: fitness min: -247512.00, max: -10.00, mean: -4097.95; best agent: 10+10/5+100*25 = 2512.00\n",
      "Generation 68: fitness min: -7510.00, max: -10.00, mean: -868.76; best agent: 10+10/5+100*25 = 2512.00\n",
      "Generation 69: fitness min: -22512.00, max: -10.00, mean: -1453.74; best agent: 10+10/5+100*25 = 2512.00\n",
      "Generation 70: fitness min: -5021.90, max: -10.00, mean: -1019.93; best agent: 10+10/5+100*25 = 2512.00\n",
      "Generation 71: fitness min: -60012.00, max: -10.00, mean: -1881.17; best agent: 10+10/5+100*25 = 2512.00\n",
      "Generation 72: fitness min: -60012.00, max: -10.00, mean: -1645.25; best agent: 10+10/5+100*25 = 2512.00\n",
      "Generation 73: fitness min: -7510.00, max: -10.00, mean: -935.09; best agent: 10+10/5+100*25 = 2512.00\n",
      "Generation 74: fitness min: -2560.00, max: -10.00, mean: -659.75; best agent: 10+10/5+100*25 = 2512.00\n",
      "Generation 75: fitness min: -22512.00, max: -10.00, mean: -1069.56; best agent: 10+10/5+100*25 = 2512.00\n",
      "Generation 76: fitness min: -7510.00, max: -10.00, mean: -947.47; best agent: 10+10/5+100*25 = 2512.00\n",
      "Generation 77: fitness min: -10012.00, max: -10.00, mean: -1323.48; best agent: 10+10/5+100*25 = 2512.00\n",
      "Generation 78: fitness min: -247512.00, max: -10.00, mean: -3444.20; best agent: 10+10/5+100*25 = 2512.00\n",
      "Generation 79: fitness min: -247512.00, max: -10.00, mean: -4198.51; best agent: 10+10/5+100*25 = 2512.00\n",
      "Generation 80: fitness min: -22512.00, max: -10.00, mean: -1041.12; best agent: 10+10/5+100*25 = 2512.00\n",
      "Generation 81: fitness min: -60012.00, max: -10.00, mean: -1488.00; best agent: 10+10/5+100*25 = 2512.00\n",
      "Generation 82: fitness min: -97527.00, max: -10.00, mean: -2110.58; best agent: 10+10/5+100*25 = 2512.00\n",
      "Generation 83: fitness min: -60012.00, max: -10.00, mean: -1561.00; best agent: 10+10/5+100*25 = 2512.00\n",
      "Generation 84: fitness min: -4912.00, max: -10.00, mean: -859.66; best agent: 10+10/5+100*25 = 2512.00\n",
      "Generation 85: fitness min: -2521.50, max: -10.00, mean: -1191.59; best agent: 10+10/5+100*25 = 2512.00\n",
      "Generation 86: fitness min: -60012.00, max: -10.00, mean: -1410.40; best agent: 10+10/5+100*25 = 2512.00\n",
      "Generation 87: fitness min: -60012.00, max: -10.00, mean: -1924.83; best agent: 10+10/5+100*25 = 2512.00\n",
      "Generation 88: fitness min: -7510.00, max: -10.00, mean: -953.53; best agent: 10+10/5+100*25 = 2512.00\n",
      "Generation 89: fitness min: -22512.00, max: -10.00, mean: -1187.53; best agent: 10+10/5+100*25 = 2512.00\n",
      "Generation 90: fitness min: -97505.40, max: -10.00, mean: -2212.11; best agent: 10+10/5+100*25 = 2512.00\n",
      "Generation 91: fitness min: -7527.00, max: -10.00, mean: -1022.54; best agent: 10+10/5+100*25 = 2512.00\n",
      "Generation 92: fitness min: -247512.00, max: -10.00, mean: -3637.96; best agent: 10+10/5+100*25 = 2512.00\n",
      "Generation 93: fitness min: -247500.20, max: -10.00, mean: -3843.46; best agent: 10+10/5+100*25 = 2512.00\n",
      "Generation 94: fitness min: -22512.00, max: -10.00, mean: -1243.63; best agent: 10+10/5+100*25 = 2512.00\n",
      "Generation 95: fitness min: -247512.00, max: -10.00, mean: -3423.91; best agent: 10+10/5+100*25 = 2512.00\n",
      "Generation 96: fitness min: -247512.00, max: -10.00, mean: -3411.72; best agent: 10+10/5+100*25 = 2512.00\n",
      "Generation 97: fitness min: -7525.00, max: -10.00, mean: -1021.84; best agent: 10+10/5+100*25 = 2512.00\n",
      "Generation 98: fitness min: -247512.00, max: -10.00, mean: -6945.81; best agent: 10+10/5+100*25 = 2512.00\n",
      "Generation 99: fitness min: -247512.00, max: -10.00, mean: -4082.56; best agent: 10+10/5+100*25 = 2512.00\n",
      "Generation 100: fitness min: -2517.90, max: -10.00, mean: -504.78; best agent: 10+10/5+100*25 = 2512.00\n",
      "Generation 101: fitness min: -97527.00, max: -10.00, mean: -2115.76; best agent: 10+10/5+100*25 = 2512.00\n",
      "Generation 102: fitness min: -22512.00, max: -10.00, mean: -1007.73; best agent: 10+10/5+100*25 = 2512.00\n",
      "Generation 103: fitness min: -60012.00, max: -10.00, mean: -1897.64; best agent: 10+10/5+100*25 = 2512.00\n",
      "Generation 104: fitness min: -22512.00, max: -10.00, mean: -889.57; best agent: 10+10/5+100*25 = 2512.00\n",
      "Generation 105: fitness min: -247512.00, max: -10.00, mean: -3689.14; best agent: 10+10/5+100*25 = 2512.00\n",
      "Generation 106: fitness min: -2519.96, max: -10.00, mean: -943.49; best agent: 10+10/5+100*25 = 2512.00\n",
      "Generation 107: fitness min: -60012.00, max: -10.00, mean: -1823.08; best agent: 10+10/5+100*25 = 2512.00\n",
      "Generation 108: fitness min: -60012.00, max: -10.00, mean: -1363.68; best agent: 10+10/5+100*25 = 2512.00\n",
      "Generation 109: fitness min: -22512.00, max: -10.00, mean: -1357.61; best agent: 10+10/5+100*25 = 2512.00\n",
      "Generation 110: fitness min: -10012.00, max: -10.00, mean: -1168.76; best agent: 10+10/5+100*25 = 2512.00\n",
      "Generation 111: fitness min: -60012.00, max: -10.00, mean: -1832.48; best agent: 10+10/5+100*25 = 2512.00\n",
      "Generation 112: fitness min: -247512.00, max: -10.00, mean: -3909.09; best agent: 10+10/5+100*25 = 2512.00\n",
      "Generation 113: fitness min: -247512.00, max: -10.00, mean: -3249.30; best agent: 10+10/5+100*25 = 2512.00\n",
      "Generation 114: fitness min: -5010.00, max: -10.00, mean: -928.08; best agent: 10+10/5+100*25 = 2512.00\n",
      "Generation 115: fitness min: -10012.00, max: -10.00, mean: -1233.38; best agent: 10+10/5+100*25 = 2512.00\n",
      "Generation 116: fitness min: -60012.00, max: -10.00, mean: -1826.22; best agent: 10+10/5+100*25 = 2512.00\n",
      "Generation 117: fitness min: -22512.00, max: -10.00, mean: -1268.96; best agent: 10+10/5+100*25 = 2512.00\n",
      "Generation 118: fitness min: -247512.00, max: -10.00, mean: -3469.04; best agent: 10+10/5+100*25 = 2512.00\n",
      "Generation 119: fitness min: -60012.00, max: -10.00, mean: -1444.63; best agent: 10+10/5+100*25 = 2512.00\n",
      "Generation 120: fitness min: -22512.00, max: -10.00, mean: -1315.95; best agent: 10+10/5+100*25 = 2512.00\n",
      "Generation 121: fitness min: -2517.50, max: -10.00, mean: -665.18; best agent: 10+10/5+100*25 = 2512.00\n",
      "Generation 122: fitness min: -2519.75, max: -10.00, mean: -947.81; best agent: 10+10/5+100*25 = 2512.00\n",
      "Generation 123: fitness min: -7510.00, max: -10.00, mean: -1305.16; best agent: 10+10/5+100*25 = 2512.00\n",
      "Generation 124: fitness min: -5010.00, max: -10.00, mean: -1100.71; best agent: 10+10/5+100*25 = 2512.00\n",
      "Generation 125: fitness min: -7525.00, max: -10.00, mean: -755.45; best agent: 10+10/5+100*25 = 2512.00\n",
      "Generation 126: fitness min: -22512.00, max: -10.00, mean: -1320.81; best agent: 10+10/5+100*25 = 2512.00\n",
      "Generation 127: fitness min: -5012.00, max: -10.00, mean: -876.62; best agent: 10+10/5+100*25 = 2512.00\n",
      "Generation 128: fitness min: -7510.00, max: -10.00, mean: -1209.15; best agent: 10+10/5+100*25 = 2512.00\n",
      "Generation 129: fitness min: -97505.40, max: -10.00, mean: -2166.72; best agent: 10+10/5+100*25 = 2512.00\n",
      "Generation 130: fitness min: -5007.00, max: -10.00, mean: -724.87; best agent: 10+10/5+100*25 = 2512.00\n",
      "Generation 131: fitness min: -247512.00, max: -10.00, mean: -3417.83; best agent: 10+10/5+100*25 = 2512.00\n",
      "Generation 132: fitness min: -247512.00, max: -10.00, mean: -4323.91; best agent: 10+10/5+100*25 = 2512.00\n",
      "Generation 133: fitness min: -2517.50, max: -10.00, mean: -830.31; best agent: 10+10/5+100*25 = 2512.00\n",
      "Generation 134: fitness min: -7510.00, max: -10.00, mean: -1032.91; best agent: 10+10/5+100*25 = 2512.00\n",
      "Generation 135: fitness min: -22513.00, max: -10.00, mean: -980.60; best agent: 10+10/5+100*25 = 2512.00\n",
      "Generation 136: fitness min: -22512.00, max: -10.00, mean: -1382.29; best agent: 10+10/5+100*25 = 2512.00\n",
      "Generation 137: fitness min: -247512.00, max: -10.00, mean: -3709.87; best agent: 10+10/5+100*25 = 2512.00\n",
      "Generation 138: fitness min: -4912.00, max: -10.00, mean: -1009.75; best agent: 10+10/5+100*25 = 2512.00\n",
      "Generation 139: fitness min: -10012.00, max: -10.00, mean: -887.33; best agent: 10+10/5+100*25 = 2512.00\n",
      "Generation 140: fitness min: -10012.00, max: -10.00, mean: -867.08; best agent: 10+10/5+100*25 = 2512.00\n",
      "Generation 141: fitness min: -247512.00, max: -10.00, mean: -3443.89; best agent: 10+10/5+100*25 = 2512.00\n",
      "Generation 142: fitness min: -60012.00, max: -10.00, mean: -2956.15; best agent: 10+10/5+100*25 = 2512.00\n",
      "Generation 143: fitness min: -10012.00, max: -10.00, mean: -1049.55; best agent: 10+10/5+100*25 = 2512.00\n",
      "Generation 144: fitness min: -247512.00, max: -10.00, mean: -3711.57; best agent: 10+10/5+100*25 = 2512.00\n",
      "Generation 145: fitness min: -97527.00, max: -10.00, mean: -2010.35; best agent: 10+10/5+100*25 = 2512.00\n",
      "Generation 146: fitness min: -22500.00, max: -10.00, mean: -1067.33; best agent: 10+10/5+100*25 = 2512.00\n",
      "Generation 147: fitness min: -22512.00, max: -10.00, mean: -1326.40; best agent: 10+10/5+100*25 = 2512.00\n",
      "Generation 148: fitness min: -5012.00, max: -10.00, mean: -956.90; best agent: 10+10/5+100*25 = 2512.00\n",
      "Generation 149: fitness min: -10012.00, max: -10.00, mean: -865.25; best agent: 10+10/5+100*25 = 2512.00\n",
      "Generation 150: fitness min: -7510.00, max: -10.00, mean: -885.92; best agent: 10+10/5+100*25 = 2512.00\n",
      "Generation 151: fitness min: -5010.00, max: -10.00, mean: -1031.92; best agent: 10+10/5+100*25 = 2512.00\n",
      "Generation 152: fitness min: -5021.80, max: -10.00, mean: -867.23; best agent: 10+10/5+100*25 = 2512.00\n",
      "Generation 153: fitness min: -7527.00, max: -10.00, mean: -1064.32; best agent: 10+10/5+100*25 = 2512.00\n",
      "Generation 154: fitness min: -7510.00, max: -10.00, mean: -1014.80; best agent: 10+10/5+100*25 = 2512.00\n",
      "Generation 155: fitness min: -97505.40, max: -10.00, mean: -1919.93; best agent: 10+10/5+100*25 = 2512.00\n",
      "Generation 156: fitness min: -247512.00, max: -10.00, mean: -3737.91; best agent: 10+10/5+100*25 = 2512.00\n",
      "Generation 157: fitness min: -7537.00, max: -10.00, mean: -833.77; best agent: 10+10/5+100*25 = 2512.00\n",
      "Generation 158: fitness min: -7537.00, max: -10.00, mean: -874.33; best agent: 10+10/5+100*25 = 2512.00\n",
      "Generation 159: fitness min: -5005.67, max: -10.00, mean: -1109.67; best agent: 10+10/5+100*25 = 2512.00\n",
      "Generation 160: fitness min: -5007.00, max: -10.00, mean: -983.48; best agent: 10+10/5+100*25 = 2512.00\n",
      "Generation 161: fitness min: -22512.00, max: -10.00, mean: -1216.33; best agent: 10+10/5+100*25 = 2512.00\n",
      "Generation 162: fitness min: -5010.00, max: -10.00, mean: -893.56; best agent: 10+10/5+100*25 = 2512.00\n",
      "Generation 163: fitness min: -2537.00, max: -10.00, mean: -733.78; best agent: 10+10/5+100*25 = 2512.00\n",
      "Generation 164: fitness min: -2517.50, max: -10.00, mean: -883.90; best agent: 10+10/5+100*25 = 2512.00\n",
      "Generation 165: fitness min: -2519.96, max: -10.00, mean: -861.99; best agent: 10+10/5+100*25 = 2512.00\n",
      "Generation 166: fitness min: -247512.00, max: -10.00, mean: -3329.99; best agent: 10+10/5+100*25 = 2512.00\n",
      "Generation 167: fitness min: -7510.00, max: -10.00, mean: -852.11; best agent: 10+10/5+100*25 = 2512.00\n",
      "Generation 168: fitness min: -22513.00, max: -10.00, mean: -1251.43; best agent: 10+10/5+100*25 = 2512.00\n",
      "Generation 169: fitness min: -5012.00, max: -10.00, mean: -842.99; best agent: 10+10/5+100*25 = 2512.00\n",
      "Generation 170: fitness min: -5010.00, max: -10.00, mean: -1059.23; best agent: 10+10/5+100*25 = 2512.00\n",
      "Generation 171: fitness min: -2521.98, max: -10.00, mean: -1001.81; best agent: 10+10/5+100*25 = 2512.00\n",
      "Generation 172: fitness min: -60012.00, max: -10.00, mean: -2206.34; best agent: 10+10/5+100*25 = 2512.00\n",
      "Generation 173: fitness min: -7487.00, max: -10.00, mean: -825.92; best agent: 10+10/5+100*25 = 2512.00\n",
      "Generation 174: fitness min: -2521.50, max: -10.00, mean: -768.26; best agent: 10+10/5+100*25 = 2512.00\n",
      "Generation 175: fitness min: -5010.00, max: -10.00, mean: -932.77; best agent: 10+10/5+100*25 = 2512.00\n",
      "Generation 176: fitness min: -5010.00, max: -10.00, mean: -1053.45; best agent: 10+10/5+100*25 = 2512.00\n",
      "Generation 177: fitness min: -60012.00, max: -10.00, mean: -1817.02; best agent: 10+10/5+100*25 = 2512.00\n",
      "Generation 178: fitness min: -97527.00, max: -10.00, mean: -1854.80; best agent: 10+10/5+100*25 = 2512.00\n",
      "Generation 179: fitness min: -7510.00, max: -10.00, mean: -895.54; best agent: 10+10/5+100*25 = 2512.00\n",
      "Generation 180: fitness min: -7510.00, max: -10.00, mean: -1020.41; best agent: 10+10/5+100*25 = 2512.00\n",
      "Generation 181: fitness min: -2517.80, max: -10.00, mean: -924.96; best agent: 10+10/5+100*25 = 2512.00\n",
      "Generation 182: fitness min: -60000.20, max: -10.00, mean: -1869.87; best agent: 10+10/5+100*25 = 2512.00\n",
      "Generation 183: fitness min: -2519.75, max: -10.00, mean: -990.63; best agent: 10+10/5+100*25 = 2512.00\n",
      "Generation 184: fitness min: -5012.00, max: -10.00, mean: -1131.22; best agent: 10+10/5+100*25 = 2512.00\n",
      "Generation 185: fitness min: -10012.00, max: -10.00, mean: -1059.70; best agent: 10+10/5+100*25 = 2512.00\n",
      "Generation 186: fitness min: -7537.00, max: -10.00, mean: -956.13; best agent: 10+10/5+100*25 = 2512.00\n",
      "Generation 187: fitness min: -60012.00, max: -10.00, mean: -1684.87; best agent: 10+10/5+100*25 = 2512.00\n",
      "Generation 188: fitness min: -7510.00, max: -10.00, mean: -802.71; best agent: 10+10/5+100*25 = 2512.00\n",
      "Generation 189: fitness min: -22512.00, max: -10.00, mean: -1405.25; best agent: 10+10/5+100*25 = 2512.00\n",
      "Generation 190: fitness min: -97527.00, max: -10.00, mean: -2126.07; best agent: 10+10/5+100*25 = 2512.00\n",
      "Generation 191: fitness min: -5010.00, max: -10.00, mean: -1128.20; best agent: 10+10/5+100*25 = 2512.00\n",
      "Generation 192: fitness min: -10012.00, max: -10.00, mean: -1036.07; best agent: 10+10/5+100*25 = 2512.00\n",
      "Generation 193: fitness min: -7487.00, max: -10.00, mean: -886.23; best agent: 10+10/5+100*25 = 2512.00\n",
      "Generation 194: fitness min: -10012.00, max: -10.00, mean: -1096.79; best agent: 10+10/5+100*25 = 2512.00\n",
      "Generation 195: fitness min: -247512.00, max: -10.00, mean: -3592.28; best agent: 10+10/5+100*25 = 2512.00\n",
      "Generation 196: fitness min: -10012.00, max: -10.00, mean: -906.29; best agent: 10+10/5+100*25 = 2512.00\n",
      "Generation 197: fitness min: -5010.00, max: -10.00, mean: -1103.89; best agent: 10+10/5+100*25 = 2512.00\n",
      "Generation 198: fitness min: -22512.00, max: -10.00, mean: -1241.78; best agent: 10+10/5+100*25 = 2512.00\n",
      "Generation 199: fitness min: -4987.00, max: -10.00, mean: -923.87; best agent: 10+10/5+100*25 = 2512.00\n",
      "Generation 200: fitness min: -247512.00, max: -10.00, mean: -3400.61; best agent: 10+10/5+100*25 = 2512.00\n",
      "Generation 201: fitness min: -60012.00, max: -10.00, mean: -1614.83; best agent: 10+10/5+100*25 = 2512.00\n",
      "Generation 202: fitness min: -22500.00, max: -10.00, mean: -1054.86; best agent: 10+10/5+100*25 = 2512.00\n",
      "Generation 203: fitness min: -10012.00, max: -10.00, mean: -1113.01; best agent: 10+10/5+100*25 = 2512.00\n",
      "Generation 204: fitness min: -60012.00, max: -10.00, mean: -1481.57; best agent: 10+10/5+100*25 = 2512.00\n",
      "Generation 205: fitness min: -10012.00, max: -10.00, mean: -1223.13; best agent: 10+10/5+100*25 = 2512.00\n",
      "Generation 206: fitness min: -60012.00, max: -10.00, mean: -2470.94; best agent: 10+10/5+100*25 = 2512.00\n",
      "Generation 207: fitness min: -22512.00, max: -10.00, mean: -1529.67; best agent: 10+10/5+100*25 = 2512.00\n",
      "Generation 208: fitness min: -5012.00, max: -10.00, mean: -1050.55; best agent: 10+10/5+100*25 = 2512.00\n",
      "Generation 209: fitness min: -22512.00, max: -10.00, mean: -1427.89; best agent: 10+10/5+100*25 = 2512.00\n",
      "Generation 210: fitness min: -22513.00, max: -10.00, mean: -1113.58; best agent: 10/5+10+100*25 = 2512.00\n",
      "Generation 211: fitness min: -247512.00, max: -10.00, mean: -3433.30; best agent: 10+10/5+100*25 = 2512.00\n",
      "Generation 212: fitness min: -7537.00, max: -10.00, mean: -942.70; best agent: 10+10/5+100*25 = 2512.00\n",
      "Generation 213: fitness min: -10012.00, max: -10.00, mean: -833.54; best agent: 10+10/5+100*25 = 2512.00\n",
      "Generation 214: fitness min: -247512.00, max: -10.00, mean: -3713.46; best agent: 10+10/5+100*25 = 2512.00\n",
      "Generation 215: fitness min: -97527.00, max: -10.00, mean: -2963.61; best agent: 10+10/5+100*25 = 2512.00\n",
      "Generation 216: fitness min: -7537.00, max: -10.00, mean: -888.04; best agent: 10+10/5+100*25 = 2512.00\n",
      "Generation 217: fitness min: -247512.00, max: -10.00, mean: -3893.89; best agent: 10+10/5+100*25 = 2512.00\n",
      "Generation 218: fitness min: -247512.00, max: -10.00, mean: -3541.00; best agent: 10+10/5+100*25 = 2512.00\n",
      "Generation 219: fitness min: -22500.20, max: -10.00, mean: -1136.08; best agent: 10+10/5+100*25 = 2512.00\n",
      "Generation 220: fitness min: -5010.00, max: -10.00, mean: -1036.12; best agent: 10+10/5+100*25 = 2512.00\n",
      "Generation 221: fitness min: -22512.00, max: -10.00, mean: -1390.58; best agent: 10+10/5+100*25 = 2512.00\n",
      "Generation 222: fitness min: -7510.00, max: -10.00, mean: -934.94; best agent: 10+10/5+100*25 = 2512.00\n",
      "Generation 223: fitness min: -60012.00, max: -10.00, mean: -1592.57; best agent: 10+10/5+100*25 = 2512.00\n",
      "Generation 224: fitness min: -22527.00, max: -10.00, mean: -1421.16; best agent: 10+10/5+100*25 = 2512.00\n",
      "Generation 225: fitness min: -7517.00, max: -10.00, mean: -1172.86; best agent: 10+10/5+100*25 = 2512.00\n",
      "Generation 226: fitness min: -2520.00, max: -10.00, mean: -701.35; best agent: 10+10/5+100*25 = 2512.00\n",
      "Generation 227: fitness min: -247512.00, max: -10.00, mean: -3302.86; best agent: 10+10/5+100*25 = 2512.00\n",
      "Generation 228: fitness min: -2517.50, max: -10.00, mean: -949.96; best agent: 10+10/5+100*25 = 2512.00\n",
      "Generation 229: fitness min: -2518.75, max: -10.00, mean: -873.33; best agent: 10+10/5+100*25 = 2512.00\n",
      "Generation 230: fitness min: -7475.20, max: -10.00, mean: -991.16; best agent: 10+10/5+100*25 = 2512.00\n",
      "Generation 231: fitness min: -247512.00, max: -10.00, mean: -3281.05; best agent: 10+10/5+100*25 = 2512.00\n",
      "Generation 232: fitness min: -60012.00, max: -10.00, mean: -1514.12; best agent: 10+10/5+100*25 = 2512.00\n",
      "Generation 233: fitness min: -2521.95, max: -10.00, mean: -694.33; best agent: 10+10/5+100*25 = 2512.00\n",
      "Generation 234: fitness min: -7510.00, max: -10.00, mean: -948.59; best agent: 10+10/5+100*25 = 2512.00\n",
      "Generation 235: fitness min: -22500.20, max: -10.00, mean: -1667.56; best agent: 10+10/5+100*25 = 2512.00\n",
      "Generation 236: fitness min: -22500.20, max: -10.00, mean: -1307.80; best agent: 10+10/5+100*25 = 2512.00\n",
      "Generation 237: fitness min: -7537.00, max: -10.00, mean: -1162.86; best agent: 10+10/5+100*25 = 2512.00\n",
      "Generation 238: fitness min: -7537.00, max: -10.00, mean: -988.56; best agent: 10+10/5+100*25 = 2512.00\n",
      "Generation 239: fitness min: -5012.00, max: -10.00, mean: -975.94; best agent: 10+10/5+100*25 = 2512.00\n",
      "Generation 240: fitness min: -5010.00, max: -10.00, mean: -1145.01; best agent: 10+10/5+100*25 = 2512.00\n",
      "Generation 241: fitness min: -2544.50, max: -10.00, mean: -1075.70; best agent: 10+10/5+100*25 = 2512.00\n",
      "Generation 242: fitness min: -5010.00, max: -10.00, mean: -827.57; best agent: 10+10/5+100*25 = 2512.00\n",
      "Generation 243: fitness min: -2522.50, max: -10.00, mean: -910.33; best agent: 10+10/5+100*25 = 2512.00\n",
      "Generation 244: fitness min: -10012.00, max: -10.00, mean: -929.94; best agent: 10+10/5+100*25 = 2512.00\n",
      "Generation 245: fitness min: -7510.00, max: -10.00, mean: -852.95; best agent: 10+10/5+100*25 = 2512.00\n",
      "Generation 246: fitness min: -10012.00, max: -10.00, mean: -1035.33; best agent: 10+10/5+100*25 = 2512.00\n",
      "Generation 247: fitness min: -5012.00, max: -10.00, mean: -1118.73; best agent: 10+10/5+100*25 = 2512.00\n",
      "Generation 248: fitness min: -5010.00, max: -10.00, mean: -806.58; best agent: 10+10/5+100*25 = 2512.00\n",
      "Generation 249: fitness min: -247512.00, max: -10.00, mean: -3475.76; best agent: 10+10/5+100*25 = 2512.00\n",
      "Generation 250: fitness min: -60012.00, max: -10.00, mean: -1782.27; best agent: 10+10/5+100*25 = 2512.00\n",
      "Generation 251: fitness min: -7510.00, max: -10.00, mean: -1343.55; best agent: 10+10/5+100*25 = 2512.00\n",
      "Generation 252: fitness min: -60012.00, max: -10.00, mean: -1865.56; best agent: 10+10/5+100*25 = 2512.00\n",
      "Generation 253: fitness min: -2520.50, max: -10.00, mean: -1082.92; best agent: 10+10/5+100*25 = 2512.00\n",
      "Generation 254: fitness min: -22500.00, max: -10.00, mean: -1156.96; best agent: 10+10/5+100*25 = 2512.00\n",
      "Generation 255: fitness min: -2521.99, max: -10.00, mean: -1161.04; best agent: 10+10/5+100*25 = 2512.00\n",
      "Generation 256: fitness min: -7510.00, max: -10.00, mean: -1083.49; best agent: 10+10/5+100*25 = 2512.00\n",
      "Generation 257: fitness min: -7510.00, max: -10.00, mean: -997.83; best agent: 10+10/5+100*25 = 2512.00\n",
      "Generation 258: fitness min: -7537.00, max: -10.00, mean: -945.92; best agent: 10+10/5+100*25 = 2512.00\n",
      "Generation 259: fitness min: -22512.00, max: -10.00, mean: -1343.67; best agent: 10+10/5+100*25 = 2512.00\n",
      "Generation 260: fitness min: -7503.40, max: -10.00, mean: -1020.55; best agent: 10+10/5+100*25 = 2512.00\n",
      "Generation 261: fitness min: -10012.00, max: -10.00, mean: -1000.10; best agent: 10+10/5+100*25 = 2512.00\n",
      "Generation 262: fitness min: -22500.00, max: -10.00, mean: -1081.75; best agent: 10+10/5+100*25 = 2512.00\n",
      "Generation 263: fitness min: -2557.00, max: -10.00, mean: -1078.02; best agent: 10+10/5+100*25 = 2512.00\n",
      "Generation 264: fitness min: -22513.00, max: -10.00, mean: -1218.24; best agent: 10+10/5+100*25 = 2512.00\n",
      "Generation 265: fitness min: -5009.00, max: -10.00, mean: -1030.51; best agent: 10+10/5+100*25 = 2512.00\n",
      "Generation 266: fitness min: -22512.00, max: -10.00, mean: -1085.30; best agent: 10+10/5+100*25 = 2512.00\n",
      "Generation 267: fitness min: -22500.00, max: -10.00, mean: -1121.57; best agent: 10+10/5+100*25 = 2512.00\n",
      "Generation 268: fitness min: -7537.00, max: -10.00, mean: -1082.79; best agent: 10+10/5+100*25 = 2512.00\n",
      "Generation 269: fitness min: -7487.00, max: -10.00, mean: -987.05; best agent: 10+10/5+100*25 = 2512.00\n",
      "Generation 270: fitness min: -2521.98, max: -10.00, mean: -705.44; best agent: 10+10/5+100*25 = 2512.00\n",
      "Generation 271: fitness min: -60012.00, max: -10.00, mean: -1486.10; best agent: 10+10/5+100*25 = 2512.00\n",
      "Generation 272: fitness min: -22513.00, max: -10.00, mean: -1208.80; best agent: 10+10/5+100*25 = 2512.00\n",
      "Generation 273: fitness min: -10012.00, max: -10.00, mean: -1105.06; best agent: 10+10/5+100*25 = 2512.00\n",
      "Generation 274: fitness min: -10012.00, max: -10.00, mean: -1176.94; best agent: 10+10/5+100*25 = 2512.00\n",
      "Generation 275: fitness min: -7510.00, max: -10.00, mean: -1297.89; best agent: 10+10/5+100*25 = 2512.00\n",
      "Generation 276: fitness min: -5010.00, max: -10.00, mean: -690.70; best agent: 10+10/5+100*25 = 2512.00\n",
      "Generation 277: fitness min: -22500.20, max: -10.00, mean: -1039.08; best agent: 10+10/5+100*25 = 2512.00\n",
      "Generation 278: fitness min: -247500.20, max: -10.00, mean: -3466.62; best agent: 10+10/5+100*25 = 2512.00\n",
      "Generation 279: fitness min: -7510.00, max: -10.00, mean: -1127.98; best agent: 10+10/5+100*25 = 2512.00\n",
      "Generation 280: fitness min: -7525.00, max: -10.00, mean: -1203.81; best agent: 10+10/5+100*25 = 2512.00\n",
      "Generation 281: fitness min: -22512.00, max: -10.00, mean: -1177.55; best agent: 10+10/5+100*25 = 2512.00\n",
      "Generation 282: fitness min: -22512.00, max: -10.00, mean: -1302.06; best agent: 10+10/5+100*25 = 2512.00\n",
      "Generation 283: fitness min: -2559.00, max: -10.00, mean: -873.28; best agent: 10+10/5+100*25 = 2512.00\n",
      "Generation 284: fitness min: -7487.00, max: -10.00, mean: -1008.24; best agent: 10+10/5+100*25 = 2512.00\n",
      "Generation 285: fitness min: -22512.00, max: -10.00, mean: -981.60; best agent: 10+10/5+100*25 = 2512.00\n",
      "Generation 286: fitness min: -5010.00, max: -10.00, mean: -1009.43; best agent: 10+10/5+100*25 = 2512.00\n",
      "Generation 287: fitness min: -7510.00, max: -10.00, mean: -1196.76; best agent: 10+10/5+100*25 = 2512.00\n",
      "Generation 288: fitness min: -7537.00, max: -10.00, mean: -957.92; best agent: 10+10/5+100*25 = 2512.00\n",
      "Generation 289: fitness min: -7510.00, max: -10.00, mean: -1053.98; best agent: 10+10/5+100*25 = 2512.00\n",
      "Generation 290: fitness min: -5012.00, max: -10.00, mean: -944.38; best agent: 10+10/5+100*25 = 2512.00\n",
      "Generation 291: fitness min: -247500.20, max: -10.00, mean: -3778.27; best agent: 10+10/5+100*25 = 2512.00\n",
      "Generation 292: fitness min: -3418.60, max: -10.00, mean: -863.40; best agent: 10+10/5+100*25 = 2512.00\n",
      "Generation 293: fitness min: -7517.00, max: -10.00, mean: -871.15; best agent: 10+10/5+100*25 = 2512.00\n",
      "Generation 294: fitness min: -22500.00, max: -10.00, mean: -1021.75; best agent: 10+10/5+100*25 = 2512.00\n",
      "Generation 295: fitness min: -247512.00, max: -10.00, mean: -3618.64; best agent: 10+10/5+100*25 = 2512.00\n",
      "Generation 296: fitness min: -5010.00, max: -10.00, mean: -1090.43; best agent: 10+10/5+100*25 = 2512.00\n",
      "Generation 297: fitness min: -97527.00, max: -10.00, mean: -2601.46; best agent: 10+10/5+100*25 = 2512.00\n",
      "Generation 298: fitness min: -247512.00, max: -10.00, mean: -3540.33; best agent: 10+10/5+100*25 = 2512.00\n",
      "Generation 299: fitness min: -247512.00, max: -10.00, mean: -3836.00; best agent: 10+10/5+100*25 = 2512.00\n"
     ]
    },
    {
     "data": {
      "image/png": "[encoded data removed]",
      "text/plain": [
       "<Figure size 720x720 with 1 Axes>"
      ]
     },
     "metadata": {
      "needs_background": "light"
     },
     "output_type": "display_data"
    }
   ],
   "source": [
    "population = [generate_agent() for _ in range(population_size)]\n",
    "_ = evolve(\n",
    "    population,\n",
    "    fitness_length_2,\n",
    "    select_best_agents,\n",
    "    crossover,\n",
    "    mutation,\n",
    "    fitness_threshold=-8,\n",
    "    mutation_probability=0.4, survival_probability=0.2, max_iterations=300,\n",
    "    verbose=True, keep_best=False, plot=True\n",
    ")"
   ]
  }
 ],
 "metadata": {
  "interpreter": {
   "hash": "1baa965d5efe3ac65b79dfc60c0d706280b1da80fedb7760faf2759126c4f253"
  },
  "kernelspec": {
   "display_name": "Python 3.8.7 64-bit",
   "language": "python",
   "name": "python3"
  },
  "language_info": {
   "codemirror_mode": {
    "name": "ipython",
    "version": 3
   },
   "file_extension": ".py",
   "mimetype": "text/x-python",
   "name": "python",
   "nbconvert_exporter": "python",
   "pygments_lexer": "ipython3",
   "version": "3.8.7"
  },
  "orig_nbformat": 4
 },
 "nbformat": 4,
 "nbformat_minor": 2
}
