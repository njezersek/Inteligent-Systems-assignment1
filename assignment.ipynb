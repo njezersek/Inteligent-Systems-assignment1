{
 "cells": [
  {
   "cell_type": "markdown",
   "metadata": {},
   "source": [
    "# Intelligent Systems Seminar Assignment 1"
   ]
  },
  {
   "cell_type": "code",
   "execution_count": 63,
   "metadata": {},
   "outputs": [],
   "source": [
    "import statistics\n",
    "import math\n",
    "import random\n",
    "from matplotlib import pyplot as plt\n",
    "import numpy as np"
   ]
  },
  {
   "cell_type": "markdown",
   "metadata": {},
   "source": [
    "## Population generation\n",
    "\n",
    "Agent is an arithmetic expression constructed of numbers and symbols specified below.\n",
    "\n",
    "Each number can be used `max_number_use` times, therefore the expression can contain from `1` to `len(numbers)*max_number_use` numbers.\n",
    "\n",
    "After each number there is a symbol from `symbols`. But the symbol after the last number is ignored, but may be in future generations like an unexpressed gene in human genome. That decision was made primarly to make permutation like crossover easier to implement."
   ]
  },
  {
   "cell_type": "code",
   "execution_count": 2,
   "metadata": {},
   "outputs": [],
   "source": [
    "numbers = ['10', '25', '100', '5', '3']\n",
    "symbols = ['+', '-', '*', '/']\n",
    "\n",
    "max_number_use = 1\n",
    "min_numbers_in_expresion = 1\n",
    "\n",
    "target_value = 2512"
   ]
  },
  {
   "cell_type": "code",
   "execution_count": 3,
   "metadata": {},
   "outputs": [],
   "source": [
    "def generate_agent():\n",
    "    n_numbers = random.randint(min_numbers_in_expresion, len(numbers)*max_number_use)\n",
    "    selected_numbers = random.sample(numbers*max_number_use, n_numbers)\n",
    "    return [(number, random.choice(symbols)) for number in selected_numbers]\n",
    "\n",
    "def agent_to_expression(agent):\n",
    "        expression = \"\".join(n + s for i, (n, s) in enumerate(agent))\n",
    "        return expression[:-1] # remove last operator\n",
    "    \n",
    "def evaluate_agent(agent):\n",
    "    expression = agent_to_expression(agent)\n",
    "    if len(expression) == 0: return 0\n",
    "    else: return eval(expression)\n",
    "\n",
    "def agent_to_string(agent):\n",
    "    return f\"{agent_to_expression(agent)} = {evaluate_agent(agent):.2f}\"\n"
   ]
  },
  {
   "cell_type": "markdown",
   "metadata": {},
   "source": [
    "Here are some randomly generated agents:"
   ]
  },
  {
   "cell_type": "code",
   "execution_count": 4,
   "metadata": {},
   "outputs": [
    {
     "name": "stdout",
     "output_type": "stream",
     "text": [
      "10/5-3-25-100 = -126.00\n",
      "100+25 = 125.00\n",
      "10*3/25+5*100 = 501.20\n",
      "25-3 = 22.00\n",
      "10-3 = 7.00\n",
      "100 = 100.00\n",
      "5*25-10 = 115.00\n",
      "10-5 = 5.00\n",
      "10/5*100 = 200.00\n",
      "5/100*3*25 = 3.75\n",
      "100/5-3/25 = 19.88\n",
      "10/3*100+5+25 = 363.33\n",
      "10+3*100 = 310.00\n",
      "5-10 = -5.00\n",
      "25-100+5-3-10 = -83.00\n",
      "3-100/10-25 = -32.00\n",
      "100+25+3 = 128.00\n",
      "25/100*10 = 2.50\n",
      "3+100 = 103.00\n",
      "100-25/10/5-3 = 96.50\n"
     ]
    }
   ],
   "source": [
    "for i in range(20):\n",
    "    a = generate_agent()\n",
    "    print(agent_to_string(a))"
   ]
  },
  {
   "cell_type": "markdown",
   "metadata": {},
   "source": [
    "## fitness"
   ]
  },
  {
   "cell_type": "code",
   "execution_count": 5,
   "metadata": {},
   "outputs": [],
   "source": [
    "def fitness_abs(agent):\n",
    "    return -abs(evaluate_agent(agent) - target_value)"
   ]
  },
  {
   "cell_type": "code",
   "execution_count": 40,
   "metadata": {},
   "outputs": [],
   "source": [
    "def fitness_inverse(agent):\n",
    "    return 1/(abs(evaluate_agent(agent) - target_value)+.0001) # + 0.0001 to avoid zero devision"
   ]
  },
  {
   "cell_type": "code",
   "execution_count": 7,
   "metadata": {},
   "outputs": [],
   "source": [
    "def fitness_squared(agent):\n",
    "    return -(evaluate_agent(agent) - target_value)**2"
   ]
  },
  {
   "cell_type": "markdown",
   "metadata": {},
   "source": [
    "## Mutation\n",
    "\n",
    "We defined 4 different types of mutation. Implementation and example mutations can be seen below:"
   ]
  },
  {
   "cell_type": "code",
   "execution_count": 8,
   "metadata": {},
   "outputs": [
    {
     "name": "stdout",
     "output_type": "stream",
     "text": [
      "[('10', '/')]\n"
     ]
    }
   ],
   "source": [
    "agent = generate_agent()\n",
    "print(agent)"
   ]
  },
  {
   "cell_type": "code",
   "execution_count": 9,
   "metadata": {},
   "outputs": [],
   "source": [
    "def mutation_change_symbol(agent):\n",
    "    a = agent.copy()\n",
    "    i = random.randrange(len(a))\n",
    "    number, _ = a[i]\n",
    "    a[i] = (number, random.choice(symbols))\n",
    "    \n",
    "    return a"
   ]
  },
  {
   "cell_type": "code",
   "execution_count": 10,
   "metadata": {},
   "outputs": [
    {
     "name": "stdout",
     "output_type": "stream",
     "text": [
      "[('10', '/')]\n",
      "[('10', '-')]\n"
     ]
    }
   ],
   "source": [
    "print(agent)\n",
    "print(mutation_change_symbol(agent))"
   ]
  },
  {
   "cell_type": "code",
   "execution_count": 11,
   "metadata": {},
   "outputs": [],
   "source": [
    "def mutation_change_number(agent):\n",
    "    a = agent.copy()\n",
    "    agent_numbers = [number for number, _ in a]\n",
    "    # choose numbers that can be added without violating `max_number_use`\n",
    "    candidate_numbers = list(filter(lambda n: agent_numbers.count(n) < max_number_use, numbers))\n",
    "    if len(candidate_numbers) == 0: return a\n",
    "    i = random.randrange(len(a))\n",
    "    _, symbol = a[i]\n",
    "    a[i] = (random.choice(candidate_numbers), symbol)\n",
    "    \n",
    "    return a"
   ]
  },
  {
   "cell_type": "code",
   "execution_count": 12,
   "metadata": {},
   "outputs": [
    {
     "name": "stdout",
     "output_type": "stream",
     "text": [
      "[('10', '/')]\n",
      "[('5', '/')]\n"
     ]
    }
   ],
   "source": [
    "print(agent)\n",
    "print(mutation_change_number(agent))"
   ]
  },
  {
   "cell_type": "code",
   "execution_count": 13,
   "metadata": {},
   "outputs": [],
   "source": [
    "def mutation_add_element(agent):\n",
    "    a = agent.copy()\n",
    "    agent_numbers = [number for number, _ in a]\n",
    "    # choose numbers that can be added without violating `max_number_use`\n",
    "    candidate_numbers = list(filter(lambda n: agent_numbers.count(n) < max_number_use, numbers))\n",
    "    if len(candidate_numbers) == 0: return a\n",
    "    a.insert(random.randint(0, len(a)), (random.choice(candidate_numbers), random.choice(symbols)))\n",
    "    \n",
    "    return a"
   ]
  },
  {
   "cell_type": "code",
   "execution_count": 14,
   "metadata": {},
   "outputs": [
    {
     "name": "stdout",
     "output_type": "stream",
     "text": [
      "[('10', '/')]\n",
      "[('10', '/'), ('5', '-')]\n"
     ]
    }
   ],
   "source": [
    "print(agent)\n",
    "print(mutation_add_element(agent))"
   ]
  },
  {
   "cell_type": "code",
   "execution_count": 15,
   "metadata": {},
   "outputs": [],
   "source": [
    "def mutation_remove_element(agent):\n",
    "    a = agent.copy()\n",
    "    if len(a) <= 1: return a # nothing to remove\n",
    "    del a[random.randrange(len(a))]\n",
    "    \n",
    "    return a"
   ]
  },
  {
   "cell_type": "code",
   "execution_count": 16,
   "metadata": {},
   "outputs": [
    {
     "name": "stdout",
     "output_type": "stream",
     "text": [
      "[('10', '/')]\n",
      "[('10', '/')]\n"
     ]
    }
   ],
   "source": [
    "print(agent)\n",
    "print(mutation_remove_element(agent))"
   ]
  },
  {
   "cell_type": "code",
   "execution_count": 17,
   "metadata": {},
   "outputs": [],
   "source": [
    "def mutation(agent):\n",
    "    mutation_type = random.randint(1, 4)\n",
    "    if mutation_type == 1:\n",
    "        return mutation_change_symbol(agent)\n",
    "    if mutation_type == 2:\n",
    "        return mutation_change_number(agent)\n",
    "    if mutation_type == 3:\n",
    "        return mutation_add_element(agent)\n",
    "    if mutation_type == 4:\n",
    "        return mutation_remove_element(agent)"
   ]
  },
  {
   "cell_type": "code",
   "execution_count": 18,
   "metadata": {},
   "outputs": [
    {
     "name": "stdout",
     "output_type": "stream",
     "text": [
      "[('10', '/')]\n",
      "[('3', '+'), ('10', '/')]\n"
     ]
    }
   ],
   "source": [
    "print(agent)\n",
    "print(mutation(agent))"
   ]
  },
  {
   "cell_type": "markdown",
   "metadata": {},
   "source": [
    "## Crossover\n",
    "\n",
    "Crossover takes 2 parents: `parent1` and `parent2`:"
   ]
  },
  {
   "cell_type": "code",
   "execution_count": 19,
   "metadata": {},
   "outputs": [
    {
     "name": "stdout",
     "output_type": "stream",
     "text": [
      "100+3-5/10*25 = 90.50\n",
      "100-10-3/5*25 = 75.00\n"
     ]
    }
   ],
   "source": [
    "parent1 = generate_agent()\n",
    "parent2 = generate_agent()\n",
    "print(agent_to_string(parent1))\n",
    "print(agent_to_string(parent2))"
   ]
  },
  {
   "cell_type": "markdown",
   "metadata": {},
   "source": [
    "It than selects a section that overlaps both parents and initializes `child1` to a section of `parent1` and `child2` to a section of `parent2`."
   ]
  },
  {
   "cell_type": "code",
   "execution_count": 20,
   "metadata": {},
   "outputs": [
    {
     "name": "stdout",
     "output_type": "stream",
     "text": [
      "5/10 = 0.50\n",
      "3/5 = 0.60\n"
     ]
    }
   ],
   "source": [
    "min_len = min(len(parent1), len(parent2))\n",
    "selection_start = random.randrange(0, min_len)\n",
    "selection_end = random.randrange(selection_start, min_len)\n",
    "\n",
    "child1 = parent1[selection_start:selection_end]\n",
    "child2 = parent2[selection_start:selection_end]\n",
    "\n",
    "print(agent_to_string(child1))\n",
    "print(agent_to_string(child2))"
   ]
  },
  {
   "cell_type": "markdown",
   "metadata": {},
   "source": [
    "The rest of the elements come from the other parent by removing the numbers that already come from the first parent."
   ]
  },
  {
   "cell_type": "code",
   "execution_count": 21,
   "metadata": {},
   "outputs": [],
   "source": [
    "def agent_substract(agent1, agent2):\n",
    "    agent2_numbers = [n for n, _ in agent2]\n",
    "    res = []\n",
    "    for number, symbol in agent1:\n",
    "        if number in agent2_numbers: agent2_numbers.remove(number)\n",
    "        else: res.append((number, symbol))\n",
    "    return res"
   ]
  },
  {
   "cell_type": "code",
   "execution_count": 22,
   "metadata": {},
   "outputs": [
    {
     "name": "stdout",
     "output_type": "stream",
     "text": [
      "100+10*25 = 350.00\n",
      "100-3/25 = 99.88\n"
     ]
    }
   ],
   "source": [
    "parent1_remainder = agent_substract(parent1, child2)\n",
    "parent2_remainder = agent_substract(parent2, child1)\n",
    "\n",
    "print(agent_to_string(parent1_remainder))\n",
    "print(agent_to_string(parent2_remainder))"
   ]
  },
  {
   "cell_type": "code",
   "execution_count": 23,
   "metadata": {},
   "outputs": [
    {
     "name": "stdout",
     "output_type": "stream",
     "text": [
      "5/10*100-3/25 = 49.88\n",
      "3/5*100+10*25 = 310.00\n"
     ]
    }
   ],
   "source": [
    "child1.extend(parent2_remainder)\n",
    "child2.extend(parent1_remainder)\n",
    "\n",
    "print(agent_to_string(child1))\n",
    "print(agent_to_string(child2))"
   ]
  },
  {
   "cell_type": "markdown",
   "metadata": {},
   "source": [
    "Everything from above packed into a function:"
   ]
  },
  {
   "cell_type": "code",
   "execution_count": 24,
   "metadata": {},
   "outputs": [],
   "source": [
    "def crossover(parent1, parent2):\n",
    "    min_len = min(len(parent1), len(parent2))\n",
    "    selection_start = random.randrange(0, min_len)\n",
    "    selection_end = random.randrange(selection_start, min_len)\n",
    "\n",
    "    child1 = parent1[selection_start:selection_end]\n",
    "    child2 = parent2[selection_start:selection_end]\n",
    "    child1.extend(agent_substract(parent2, child1))\n",
    "    child2.extend(agent_substract(parent1, child2))\n",
    "    \n",
    "    return (child1, child2)"
   ]
  },
  {
   "cell_type": "code",
   "execution_count": 25,
   "metadata": {},
   "outputs": [
    {
     "name": "stdout",
     "output_type": "stream",
     "text": [
      "Parent 1: 100+3-5/10*25 = 90.50; lenght: 5\n",
      "Parent 2: 100-10-3/5*25 = 75.00; length: 5\n",
      "Child 1: 3-5/100-10-25 = -32.05; length: 5\n",
      "Child 2: 10-3/100+5/25 = 10.17; length: 5\n"
     ]
    }
   ],
   "source": [
    "child1, child2 = crossover(parent1, parent2)\n",
    "print(f\"Parent 1: {agent_to_string(parent1)}; lenght: {len(parent1)}\")\n",
    "print(f\"Parent 2: {agent_to_string(parent2)}; length: {len(parent2)}\")\n",
    "print(f\"Child 1: {agent_to_string(child1)}; length: {len(child2)}\")\n",
    "print(f\"Child 2: {agent_to_string(child2)}; length: {len(child2)}\")"
   ]
  },
  {
   "cell_type": "markdown",
   "metadata": {},
   "source": [
    "## Selection"
   ]
  },
  {
   "cell_type": "code",
   "execution_count": 27,
   "metadata": {},
   "outputs": [],
   "source": [
    "def select_best_agents(population_with_fitness, n_agents):\n",
    "    return list(sorted(population_with_fitness, key=lambda e: e[1], reverse=True))[:n_agents]"
   ]
  },
  {
   "cell_type": "code",
   "execution_count": 101,
   "metadata": {},
   "outputs": [],
   "source": [
    "population_size = 100\n",
    "max_iterations = 300"
   ]
  },
  {
   "cell_type": "code",
   "execution_count": 93,
   "metadata": {},
   "outputs": [],
   "source": [
    "def evolve(\n",
    "    population, fitness_function, selection_function, crossover_function, mutation_function, \n",
    "    mutation_probability=0.4, survival_probability=0.1, max_iterations=100, fitness_threshold=0, keep_best = False,\n",
    "    verbose=False, plot=False\n",
    "):\n",
    "    population_size = len(population)\n",
    "    \n",
    "    min_fitness_log = []\n",
    "    max_fitness_log = []\n",
    "    mean_fitness_log = []\n",
    "    \n",
    "    iterations = 0\n",
    "    \n",
    "    for generation in range(max_iterations):\n",
    "        iterations += 1\n",
    "        # evaluate population\n",
    "        population_with_fitness = [(a, fitness_function(a)) for a in population]\n",
    "        population_fitness = [f for a, f in population_with_fitness]\n",
    "        \n",
    "        \n",
    "        mean_fitness = statistics.mean(population_fitness)\n",
    "        max_fitness = max(population_fitness)\n",
    "        min_fitness = min(population_fitness)\n",
    "        mean_fitness_log.append(mean_fitness)\n",
    "        max_fitness_log.append(max_fitness)\n",
    "        min_fitness_log.append(min_fitness)\n",
    "        \n",
    "        best_agents_with_fitness = selection_function(population_with_fitness, math.ceil(population_size*survival_probability))\n",
    "        best_agents = [a for a, _ in best_agents_with_fitness]\n",
    "        \n",
    "        # print metrics\n",
    "        if verbose:\n",
    "            print(f\"Generation {generation}: fitness min: {min_fitness:.2f}, max: {max_fitness:.2f}, mean: {mean_fitness:.2f}; best agent: {agent_to_string(best_agents[0])}\")\n",
    "            \n",
    "        if max_fitness >= fitness_threshold: break\n",
    "        \n",
    "            \n",
    "        if keep_best:\n",
    "            population = best_agents.copy()\n",
    "        else:\n",
    "            population = []\n",
    "\n",
    "        # crossover\n",
    "        for i in range(len(population), population_size, 2):\n",
    "            parent1, parent2 = random.sample(best_agents, 2)\n",
    "            child1, child2 = crossover_function(parent1, parent2)\n",
    "            population.append(child1)\n",
    "            population.append(child2)\n",
    "            \n",
    "        # mutation\n",
    "        for i, agent in enumerate(population):\n",
    "            if random.random() < mutation_probability:\n",
    "                population[i] = mutation_function(agent)\n",
    "                \n",
    "            \n",
    "    if plot:\n",
    "        plt.figure(figsize=(10,10))\n",
    "        plt.plot(max_fitness_log, label=\"max\")\n",
    "        plt.plot(mean_fitness_log, label=\"mean\")\n",
    "        #plt.plot(min_fitness_log, label=\"min\")\n",
    "        plt.legend()\n",
    "        \n",
    "    return (iterations, (max_fitness_log, mean_fitness_log, min_fitness_log))"
   ]
  },
  {
   "cell_type": "markdown",
   "metadata": {},
   "source": [
    "## Evaluation"
   ]
  },
  {
   "cell_type": "code",
   "execution_count": 94,
   "metadata": {},
   "outputs": [
    {
     "name": "stdout",
     "output_type": "stream",
     "text": [
      "Generation 0: fitness min: 0.00, max: 0.33, mean: 0.00; best agent: 10+5+100*25 = 2515.00\n",
      "Generation 1: fitness min: 0.00, max: 0.33, mean: 0.01; best agent: 10+5+100*25 = 2515.00\n",
      "Generation 2: fitness min: 0.00, max: 1.00, mean: 0.05; best agent: 10+3+100*25 = 2513.00\n",
      "Generation 3: fitness min: 0.00, max: 10000.00, mean: 100.18; best agent: 10+100*25+5-3 = 2512.00\n"
     ]
    },
    {
     "data": {
      "image/png": "[encoded data removed]",
      "text/plain": [
       "<Figure size 720x720 with 1 Axes>"
      ]
     },
     "metadata": {
      "needs_background": "light"
     },
     "output_type": "display_data"
    }
   ],
   "source": [
    "population = [generate_agent() for _ in range(population_size)]\n",
    "_ = evolve(\n",
    "    population,\n",
    "    fitness_inverse,\n",
    "    select_best_agents,\n",
    "    crossover,\n",
    "    mutation,\n",
    "    fitness_threshold=10000.00,\n",
    "    mutation_probability=0.2, survival_probability=0.2, max_iterations=300,\n",
    "    verbose=True, keep_best=False, plot=True\n",
    ")"
   ]
  },
  {
   "cell_type": "markdown",
   "metadata": {},
   "source": [
    "### Comparison with random search"
   ]
  },
  {
   "cell_type": "code",
   "execution_count": 103,
   "metadata": {},
   "outputs": [
    {
     "data": {
      "image/png": "[encoded data removed]",
      "text/plain": [
       "<Figure size 432x288 with 1 Axes>"
      ]
     },
     "metadata": {
      "needs_background": "light"
     },
     "output_type": "display_data"
    }
   ],
   "source": [
    "N = 200\n",
    "iterations_log = []\n",
    "for i in range(N):\n",
    "    iterations = 0\n",
    "    for i in range(max_iterations):\n",
    "        iterations += 1\n",
    "        population = [generate_agent() for _ in range(population_size)]\n",
    "        population_with_fitness = [(a, fitness_abs(a)) for a in population]\n",
    "        population_fitness = [f for a, f in population_with_fitness]\n",
    "        if max(population_fitness) == 0: break\n",
    "\n",
    "    iterations_log.append(iterations)\n",
    "\n",
    "plt.title(\"Random search\")\n",
    "_ = plt.hist(iterations_log, bins=100)"
   ]
  },
  {
   "cell_type": "markdown",
   "metadata": {},
   "source": [
    "### Different fitness functions\n",
    "\n",
    "Lets see how does the choice of a fitness function effect performance. We run genetic alghorithm with each fitness function a 200 times and plot a histogram of iterations it took to find the optimal agent. "
   ]
  },
  {
   "cell_type": "code",
   "execution_count": 91,
   "metadata": {},
   "outputs": [
    {
     "name": "stdout",
     "output_type": "stream",
     "text": [
      "abs - mean: 31.39, min: 1, max: 300, stdev: 76.96718546361791\n",
      "inverse - mean: 22.895, min: 1, max: 300, stdev: 60.67148523485325\n",
      "sqared - mean: 25.8, min: 1, max: 300, stdev: 66.69151965557427\n"
     ]
    },
    {
     "data": {
      "image/png": "[encoded data removed]",
      "text/plain": [
       "<Figure size 1440x432 with 3 Axes>"
      ]
     },
     "metadata": {
      "needs_background": "light"
     },
     "output_type": "display_data"
    }
   ],
   "source": [
    "N = 200\n",
    "fitness_functions = [(fitness_abs, 0, \"abs\"), (fitness_inverse, 10000, \"inverse\"), (fitness_squared, 0, \"sqared\")]\n",
    "\n",
    "plt.figure(figsize=(20,6))\n",
    "\n",
    "for j, (fitness_function, fitness_threshold, label) in enumerate(fitness_functions):\n",
    "    iterations_log = []\n",
    "\n",
    "    for i in range(N):\n",
    "        population = [generate_agent() for _ in range(population_size)]\n",
    "        iterations, _ = evolve(\n",
    "            population,\n",
    "            fitness_function,\n",
    "            select_best_agents,\n",
    "            crossover,\n",
    "            mutation,\n",
    "            mutation_probability=0.2, survival_probability=0.2, max_iterations=300, keep_best=False, fitness_threshold=fitness_threshold\n",
    "        )\n",
    "\n",
    "        iterations_log.append(iterations)\n",
    "        \n",
    "    print(f\"{label} - mean: {statistics.mean(iterations_log)}, min: {min(iterations_log)}, max: {max(iterations_log)}, stdev: {statistics.stdev(iterations_log)}\")\n",
    "    \n",
    "    plt.subplot(1, 3, j+1)\n",
    "    plt.title(f\"fitness: {label}\")\n",
    "    _ = plt.hist(iterations_log, bins=100)\n",
    "        "
   ]
  }
 ],
 "metadata": {
  "interpreter": {
   "hash": "1baa965d5efe3ac65b79dfc60c0d706280b1da80fedb7760faf2759126c4f253"
  },
  "kernelspec": {
   "display_name": "Python 3.8.7 64-bit",
   "language": "python",
   "name": "python3"
  },
  "language_info": {
   "codemirror_mode": {
    "name": "ipython",
    "version": 3
   },
   "file_extension": ".py",
   "mimetype": "text/x-python",
   "name": "python",
   "nbconvert_exporter": "python",
   "pygments_lexer": "ipython3",
   "version": "3.8.7"
  },
  "orig_nbformat": 4
 },
 "nbformat": 4,
 "nbformat_minor": 2
}
