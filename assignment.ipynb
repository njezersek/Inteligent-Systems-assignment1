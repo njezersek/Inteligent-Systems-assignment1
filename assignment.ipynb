{
 "cells": [
  {
   "cell_type": "code",
   "execution_count": 604,
   "metadata": {},
   "outputs": [],
   "source": [
    "import statistics\n",
    "import math\n",
    "import random\n",
    "from matplotlib import pyplot as plt"
   ]
  },
  {
   "cell_type": "markdown",
   "metadata": {},
   "source": [
    "## Population generation\n",
    "\n",
    "Agent is an arithmetic expression constructed of numbers and symbols specified below.\n",
    "\n",
    "Each number can be used `max_number_use` times, therefore the expression can contain from `1` to `len(numbers)*max_number_use` numbers.\n",
    "\n",
    "After each number there is a symbol from `symbols`. But the symbol after the last number is ignored, but may be in future generations like an unexpressed gene in human genome. That decision was made primarly to make permutation like crossover easier to implement."
   ]
  },
  {
   "cell_type": "code",
   "execution_count": 679,
   "metadata": {},
   "outputs": [],
   "source": [
    "numbers = ['10', '25', '100', '5', '3']\n",
    "symbols = ['+', '-', '*', '/']\n",
    "\n",
    "max_number_use = 1\n",
    "min_numbers_in_expresion = 1\n",
    "\n",
    "target_value = 2512"
   ]
  },
  {
   "cell_type": "code",
   "execution_count": 318,
   "metadata": {},
   "outputs": [],
   "source": [
    "def generate_agent():\n",
    "    n_numbers = random.randint(min_numbers_in_expresion, len(numbers)*max_number_use)\n",
    "    selected_numbers = random.sample(numbers*max_number_use, n_numbers)\n",
    "    return [(number, random.choice(symbols)) for number in selected_numbers]\n",
    "\n",
    "def agent_to_expression(agent):\n",
    "        expression = \"\".join(n + s for i, (n, s) in enumerate(agent))\n",
    "        return expression[:-1] # remove last operator\n",
    "    \n",
    "def evaluate_agent(agent):\n",
    "    expression = agent_to_expression(agent)\n",
    "    if len(expression) == 0: return 0\n",
    "    else: return eval(expression)\n",
    "\n",
    "def agent_to_string(agent):\n",
    "    return f\"{agent_to_expression(agent)} = {evaluate_agent(agent):.2f}\"\n"
   ]
  },
  {
   "cell_type": "markdown",
   "metadata": {},
   "source": [
    "Here are some randomly generated agents:"
   ]
  },
  {
   "cell_type": "code",
   "execution_count": 316,
   "metadata": {},
   "outputs": [
    {
     "name": "stdout",
     "output_type": "stream",
     "text": [
      "3/5*10+100*25 = 2506.00\n",
      "25-3/10*5/100 = 24.98\n",
      "10+25*3/100/5 = 10.15\n",
      "10/25/5*100-3 = 5.00\n",
      "3/10-100+25-5 = -79.70\n",
      "5+10*100/3+25 = 363.33\n",
      "25/100/10+3+5 = 8.03\n",
      "3-10*100/25/5 = -5.00\n",
      "100+25/3*5*10 = 516.67\n",
      "10*100*5*25/3 = 41666.67\n",
      "10+3*100/25+5 = 27.00\n",
      "10+25+3-5+100 = 133.00\n",
      "100-5-25*3-10 = 10.00\n",
      "10*5/100-3-25 = -27.50\n",
      "3+10-5+100*25 = 2508.00\n",
      "10-5*25/100*3 = 6.25\n",
      "3+25*5-100/10 = 118.00\n",
      "5*100*3+10-25 = 1485.00\n",
      "25*3-10*5-100 = -75.00\n",
      "5-100/25+10*3 = 31.00\n"
     ]
    }
   ],
   "source": [
    "for i in range(20):\n",
    "    a = generate_agent()\n",
    "    print(agent_to_string(a))"
   ]
  },
  {
   "cell_type": "markdown",
   "metadata": {},
   "source": [
    "## Fittnes"
   ]
  },
  {
   "cell_type": "code",
   "execution_count": 322,
   "metadata": {},
   "outputs": [],
   "source": [
    "def fittnes(agent):\n",
    "    return -abs(evaluate_agent(agent) - target_value)"
   ]
  },
  {
   "cell_type": "markdown",
   "metadata": {},
   "source": [
    "## Mutation"
   ]
  },
  {
   "cell_type": "code",
   "execution_count": 497,
   "metadata": {},
   "outputs": [
    {
     "name": "stdout",
     "output_type": "stream",
     "text": [
      "[('10', '*'), ('3', '+'), ('100', '+'), ('5', '-')]\n"
     ]
    }
   ],
   "source": [
    "agent = generate_agent()\n",
    "print(agent)"
   ]
  },
  {
   "cell_type": "code",
   "execution_count": 494,
   "metadata": {},
   "outputs": [],
   "source": [
    "def mutation_change_symbol(agent):\n",
    "    a = agent.copy()\n",
    "    i = random.randrange(len(a))\n",
    "    number, _ = a[i]\n",
    "    a[i] = (number, random.choice(symbols))\n",
    "    \n",
    "    return a"
   ]
  },
  {
   "cell_type": "code",
   "execution_count": 498,
   "metadata": {},
   "outputs": [
    {
     "name": "stdout",
     "output_type": "stream",
     "text": [
      "[('10', '*'), ('3', '+'), ('100', '+'), ('5', '-')]\n",
      "[('10', '*'), ('3', '+'), ('100', '+'), ('5', '/')]\n"
     ]
    }
   ],
   "source": [
    "print(agent)\n",
    "print(mutation_change_symbol(agent))"
   ]
  },
  {
   "cell_type": "code",
   "execution_count": 501,
   "metadata": {},
   "outputs": [],
   "source": [
    "def mutation_change_number(agent):\n",
    "    a = agent.copy()\n",
    "    agent_numbers = [number for number, _ in a]\n",
    "    # choose numbers that can be added without violating `max_number_use`\n",
    "    candidate_numbers = list(filter(lambda n: agent_numbers.count(n) < max_number_use, numbers))\n",
    "    if len(candidate_numbers) == 0: return a\n",
    "    i = random.randrange(len(a))\n",
    "    _, symbol = a[i]\n",
    "    a[i] = (random.choice(candidate_numbers), symbol)\n",
    "    \n",
    "    return a"
   ]
  },
  {
   "cell_type": "code",
   "execution_count": 503,
   "metadata": {},
   "outputs": [
    {
     "name": "stdout",
     "output_type": "stream",
     "text": [
      "[('10', '*'), ('3', '+'), ('100', '+'), ('5', '-')]\n",
      "[('10', '*'), ('25', '+'), ('100', '+'), ('5', '-')]\n"
     ]
    }
   ],
   "source": [
    "print(agent)\n",
    "print(mutation_change_number(agent))"
   ]
  },
  {
   "cell_type": "code",
   "execution_count": 504,
   "metadata": {},
   "outputs": [],
   "source": [
    "def mutation_add_element(agent):\n",
    "    a = agent.copy()\n",
    "    agent_numbers = [number for number, _ in a]\n",
    "    # choose numbers that can be added without violating `max_number_use`\n",
    "    candidate_numbers = list(filter(lambda n: agent_numbers.count(n) < max_number_use, numbers))\n",
    "    if len(candidate_numbers) == 0: return a\n",
    "    a.insert(random.randint(0, len(a)), (random.choice(candidate_numbers), random.choice(symbols)))\n",
    "    \n",
    "    return a"
   ]
  },
  {
   "cell_type": "code",
   "execution_count": 506,
   "metadata": {},
   "outputs": [
    {
     "name": "stdout",
     "output_type": "stream",
     "text": [
      "[('10', '*'), ('3', '+'), ('100', '+'), ('5', '-')]\n",
      "[('10', '*'), ('3', '+'), ('100', '+'), ('5', '-'), ('25', '-')]\n"
     ]
    }
   ],
   "source": [
    "print(agent)\n",
    "print(mutation_add_element(agent))"
   ]
  },
  {
   "cell_type": "code",
   "execution_count": 507,
   "metadata": {},
   "outputs": [],
   "source": [
    "def mutation_remove_element(agent):\n",
    "    a = agent.copy()\n",
    "    if len(a) <= 1: return a # nothing to remove\n",
    "    del a[random.randrange(len(a))]\n",
    "    \n",
    "    return a"
   ]
  },
  {
   "cell_type": "code",
   "execution_count": 508,
   "metadata": {},
   "outputs": [
    {
     "name": "stdout",
     "output_type": "stream",
     "text": [
      "[('10', '*'), ('3', '+'), ('100', '+'), ('5', '-')]\n",
      "[('3', '+'), ('100', '+'), ('5', '-')]\n"
     ]
    }
   ],
   "source": [
    "print(agent)\n",
    "print(mutation_remove_element(agent))"
   ]
  },
  {
   "cell_type": "code",
   "execution_count": 509,
   "metadata": {},
   "outputs": [],
   "source": [
    "def mutation(agent):\n",
    "    mutation_type = random.randint(1, 4)\n",
    "    if mutation_type == 1:\n",
    "        return mutation_change_symbol(agent)\n",
    "    if mutation_type == 2:\n",
    "        return mutation_change_number(agent)\n",
    "    if mutation_type == 3:\n",
    "        return mutation_add_element(agent)\n",
    "    if mutation_type == 4:\n",
    "        return mutation_remove_element(agent)"
   ]
  },
  {
   "cell_type": "code",
   "execution_count": 510,
   "metadata": {},
   "outputs": [
    {
     "name": "stdout",
     "output_type": "stream",
     "text": [
      "[('10', '*'), ('3', '+'), ('100', '+'), ('5', '-')]\n",
      "[('10', '*'), ('25', '+'), ('100', '+'), ('5', '-')]\n"
     ]
    }
   ],
   "source": [
    "print(agent)\n",
    "print(mutation(agent))"
   ]
  },
  {
   "cell_type": "markdown",
   "metadata": {},
   "source": [
    "## Crossover\n",
    "\n",
    "Crossover takes 2 parents: `parent1` and `parent2`:"
   ]
  },
  {
   "cell_type": "code",
   "execution_count": 226,
   "metadata": {},
   "outputs": [
    {
     "name": "stdout",
     "output_type": "stream",
     "text": [
      "100/5-3*10-100/25-3+3+100*5-25-10 = 451.00\n",
      "25/3+100-3+5*3*3+100-10-5-100+25+10-5-25+5*3-100-10-10 = 35.33\n"
     ]
    }
   ],
   "source": [
    "parent1 = generate_agent()\n",
    "parent2 = generate_agent()\n",
    "print(agent_to_string(parent1))\n",
    "print(agent_to_string(parent2))"
   ]
  },
  {
   "cell_type": "markdown",
   "metadata": {},
   "source": [
    "It than selects a section that overlaps both parents and initializes `child1` to a section of `parent1` and `child2` to a section of `parent2`."
   ]
  },
  {
   "cell_type": "code",
   "execution_count": 234,
   "metadata": {},
   "outputs": [
    {
     "name": "stdout",
     "output_type": "stream",
     "text": [
      "3*10-100/25-3+3+100*5-25 = 501.00\n",
      "100-3+5*3*3+100-10-5-100 = 127.00\n"
     ]
    }
   ],
   "source": [
    "min_len = min(len(parent1), len(parent2))\n",
    "selection_start = random.randrange(0, min_len)\n",
    "selection_end = random.randrange(selection_start, min_len)\n",
    "\n",
    "child1 = parent1[selection_start:selection_end]\n",
    "child2 = parent2[selection_start:selection_end]\n",
    "\n",
    "print(agent_to_string(child1))\n",
    "print(agent_to_string(child2))"
   ]
  },
  {
   "cell_type": "markdown",
   "metadata": {},
   "source": [
    "The rest of elements come from the other parent by removing the numbers that already come from the first parent."
   ]
  },
  {
   "cell_type": "code",
   "execution_count": 237,
   "metadata": {},
   "outputs": [],
   "source": [
    "def agent_substract(agent1, agent2):\n",
    "    agent2_numbers = [n for n, _ in agent2]\n",
    "    res = []\n",
    "    for number, symbol in agent1:\n",
    "        if number in agent2_numbers: agent2_numbers.remove(number)\n",
    "        else: res.append((number, symbol))\n",
    "    return res"
   ]
  },
  {
   "cell_type": "code",
   "execution_count": 239,
   "metadata": {},
   "outputs": [
    {
     "name": "stdout",
     "output_type": "stream",
     "text": [
      "25-25-10 = -10.00\n",
      "3+5-100+10-5-25+5*3-100-10-10 = -217.00\n"
     ]
    }
   ],
   "source": [
    "parent1_remainder = agent_substract(parent1, child2)\n",
    "parent2_remainder = agent_substract(parent2, child1)\n",
    "\n",
    "print(agent_to_string(parent1_remainder))\n",
    "print(agent_to_string(parent2_remainder))"
   ]
  },
  {
   "cell_type": "code",
   "execution_count": 240,
   "metadata": {},
   "outputs": [
    {
     "name": "stdout",
     "output_type": "stream",
     "text": [
      "3*10-100/25-3+3+100*5-25-3+5-100+10-5-25+5*3-100-10-10 = 278.00\n",
      "100-3+5*3*3+100-10-5-100+25-25-10 = 117.00\n"
     ]
    }
   ],
   "source": [
    "child1.extend(parent2_remainder)\n",
    "child2.extend(parent1_remainder)\n",
    "\n",
    "print(agent_to_string(child1))\n",
    "print(agent_to_string(child2))"
   ]
  },
  {
   "cell_type": "markdown",
   "metadata": {},
   "source": [
    "Everything from above packed into a function:"
   ]
  },
  {
   "cell_type": "code",
   "execution_count": 270,
   "metadata": {},
   "outputs": [],
   "source": [
    "def crossover(parent1, parent2):\n",
    "    min_len = min(len(parent1), len(parent2))\n",
    "    selection_start = random.randrange(0, min_len)\n",
    "    selection_end = random.randrange(selection_start, min_len)\n",
    "\n",
    "    child1 = parent1[selection_start:selection_end]\n",
    "    child2 = parent2[selection_start:selection_end]\n",
    "    child1.extend(agent_substract(parent2, child1))\n",
    "    child2.extend(agent_substract(parent1, child2))\n",
    "    \n",
    "    return (child1, child2)"
   ]
  },
  {
   "cell_type": "code",
   "execution_count": 284,
   "metadata": {},
   "outputs": [
    {
     "name": "stdout",
     "output_type": "stream",
     "text": [
      "Parent 1: 100/5-3*10-100/25-3+3+100*5-25-10 = 451.00; lenght: 12\n",
      "Parent 2: 25/3+100-3+5*3*3+100-10-5-100+25+10-5-25+5*3-100-10-10 = 35.33; length: 20\n",
      "Child 1: 5-25/3+100-3+3*3+100-10-5-100+25+10-5-25+5*3-100-10-10 = -12.33; length: 12\n",
      "Child 2: 3+100/5-10-100/25-3+3+100*5-25-10 = 474.00; length: 12\n"
     ]
    }
   ],
   "source": [
    "child1, child2 = crossover(parent1, parent2)\n",
    "print(f\"Parent 1: {agent_to_string(parent1)}; lenght: {len(parent1)}\")\n",
    "print(f\"Parent 2: {agent_to_string(parent2)}; length: {len(parent2)}\")\n",
    "print(f\"Child 1: {agent_to_string(child1)}; length: {len(child2)}\")\n",
    "print(f\"Child 2: {agent_to_string(child2)}; length: {len(child2)}\")"
   ]
  },
  {
   "cell_type": "code",
   "execution_count": 728,
   "metadata": {},
   "outputs": [
    {
     "name": "stdout",
     "output_type": "stream",
     "text": [
      "[1, 2, 3, 4, 1]\n",
      "[4, 3, 2]\n"
     ]
    }
   ],
   "source": [
    "a = [1,2,3,4,1]\n",
    "b = sorted(a, reverse=True)\n",
    "print(a)\n",
    "print(b[:3])"
   ]
  },
  {
   "cell_type": "markdown",
   "metadata": {},
   "source": [
    "## Selection"
   ]
  },
  {
   "cell_type": "code",
   "execution_count": 729,
   "metadata": {},
   "outputs": [],
   "source": [
    "def select_best_agents(population_with_fittnes, n_agents):\n",
    "    return list(sorted(population_with_fittnes, key=lambda e: e[1], reverse=True))[:n_agents]"
   ]
  },
  {
   "cell_type": "code",
   "execution_count": 559,
   "metadata": {},
   "outputs": [],
   "source": [
    "population_size = 100\n",
    "max_iterations = 20\n",
    "mutation_probability = 0.2"
   ]
  },
  {
   "cell_type": "code",
   "execution_count": 733,
   "metadata": {},
   "outputs": [],
   "source": [
    "def evolve(\n",
    "    population, fittnes_function, selection_function, crossover_function, mutation_function, \n",
    "    mutation_probability=0.4, survival_probability=0.1, max_iterations=100, fittnes_threshold=0, keep_best = False,\n",
    "    verbose=False, plot=False\n",
    "):\n",
    "    population_size = len(population)\n",
    "    \n",
    "    min_fittnes_log = []\n",
    "    max_fittnes_log = []\n",
    "    mean_fittnes_log = []\n",
    "    \n",
    "    for generation in range(max_iterations):\n",
    "        # evaluate population\n",
    "        population_with_fittnes = [(a, fittnes_function(a)) for a in population]\n",
    "        population_fittnes = [f for a, f in population_with_fittnes]\n",
    "        \n",
    "        \n",
    "        mean_fittnes = statistics.mean(population_fittnes)\n",
    "        max_fittnes = max(population_fittnes)\n",
    "        min_fittnes = min(population_fittnes)\n",
    "        mean_fittnes_log.append(mean_fittnes)\n",
    "        max_fittnes_log.append(max_fittnes)\n",
    "        min_fittnes_log.append(min_fittnes)\n",
    "        \n",
    "        best_agents_with_fittnes = selection_function(population_with_fittnes, math.ceil(population_size*survival_probability))\n",
    "        best_agents = [a for a, _ in best_agents_with_fittnes]\n",
    "        \n",
    "        # print metrics\n",
    "        if verbose:\n",
    "            print(f\"Generation {generation}: fittnes min: {min_fittnes:.2f}, max: {max_fittnes:.2f}, mean: {mean_fittnes:.2f}; best agent: {agent_to_string(best_agents[0])}\")\n",
    "            \n",
    "        if max_fittnes >= fittnes_threshold: break\n",
    "        \n",
    "            \n",
    "        if keep_best:\n",
    "            population = best_agents.copy()\n",
    "        else:\n",
    "            population = []\n",
    "\n",
    "        # crossover\n",
    "        for i in range(len(population), population_size, 2):\n",
    "            parent1, parent2 = random.sample(best_agents, 2)\n",
    "            child1, child2 = crossover_function(parent1, parent2)\n",
    "            population.append(child1)\n",
    "            population.append(child2)\n",
    "            \n",
    "        # mutation\n",
    "        for i, agent in enumerate(population):\n",
    "            if random.random() < mutation_probability:\n",
    "                population[i] = mutation_function(agent)\n",
    "                \n",
    "            \n",
    "    if plot:\n",
    "        plt.figure(figsize=(10,10))\n",
    "        plt.plot(max_fittnes_log)\n",
    "        plt.plot(mean_fittnes_log)\n",
    "        #plt.plot(min_fittnes_log)\n",
    "        \n",
    "    return (max_fittnes_log, mean_fittnes_log, min_fittnes_log)"
   ]
  },
  {
   "cell_type": "code",
   "execution_count": 731,
   "metadata": {},
   "outputs": [
    {
     "data": {
      "text/plain": [
       "-7"
      ]
     },
     "execution_count": 731,
     "metadata": {},
     "output_type": "execute_result"
    }
   ],
   "source": [
    "population = [generate_agent() for _ in range(300)]\n",
    "population_with_fittnes = [(a, fittnes(a)) for a in population]\n",
    "population_fittnes = [f for a, f in population_with_fittnes]\n",
    "max(population_fittnes)\n"
   ]
  },
  {
   "cell_type": "code",
   "execution_count": 756,
   "metadata": {},
   "outputs": [
    {
     "name": "stdout",
     "output_type": "stream",
     "text": [
      "Generation 0: fittnes min: -27514.00, max: -4.67, mean: -2615.03; best agent: 25*100+5*10/3 = 2516.67\n",
      "Generation 1: fittnes min: -22491.00, max: -4.67, mean: -2220.64; best agent: 100*25+10*5/3 = 2516.67\n",
      "Generation 2: fittnes min: -72488.00, max: -0.33, mean: -3269.01; best agent: 10+100*25+5/3 = 2511.67\n",
      "Generation 3: fittnes min: -9981.00, max: -0.33, mean: -746.61; best agent: 10+100*25+5/3 = 2511.67\n",
      "Generation 4: fittnes min: -39154.67, max: -0.33, mean: -3021.27; best agent: 10+100*25+5/3 = 2511.67\n",
      "Generation 5: fittnes min: -39154.67, max: -0.33, mean: -880.84; best agent: 10+100*25+5/3 = 2511.67\n",
      "Generation 6: fittnes min: -2483.50, max: -0.33, mean: -611.95; best agent: 10+100*25+5/3 = 2511.67\n",
      "Generation 7: fittnes min: -2310.33, max: -0.33, mean: -227.98; best agent: 10+100*25+5/3 = 2511.67\n",
      "Generation 8: fittnes min: -2507.75, max: 0.00, mean: -422.72; best agent: 10+100*25+5-3 = 2512.00\n"
     ]
    },
    {
     "data": {
      "image/png": "[encoded data removed]",
      "text/plain": [
       "<Figure size 720x720 with 1 Axes>"
      ]
     },
     "metadata": {
      "needs_background": "light"
     },
     "output_type": "display_data"
    }
   ],
   "source": [
    "population = [generate_agent() for _ in range(100)]\n",
    "max_fittnes_log, mean_fittnes_log, min_fittnes_log = evolve(\n",
    "    population,\n",
    "    fittnes,\n",
    "    select_best_agents,\n",
    "    crossover,\n",
    "    mutation,\n",
    "    mutation_probability=0.2, survival_probability=0.2, max_iterations=300,\n",
    "    verbose=True, keep_best=False, plot=True\n",
    ")"
   ]
  },
  {
   "cell_type": "markdown",
   "metadata": {},
   "source": [
    "## Evaluation"
   ]
  }
 ],
 "metadata": {
  "interpreter": {
   "hash": "1baa965d5efe3ac65b79dfc60c0d706280b1da80fedb7760faf2759126c4f253"
  },
  "kernelspec": {
   "display_name": "Python 3.8.7 64-bit",
   "language": "python",
   "name": "python3"
  },
  "language_info": {
   "codemirror_mode": {
    "name": "ipython",
    "version": 3
   },
   "file_extension": ".py",
   "mimetype": "text/x-python",
   "name": "python",
   "nbconvert_exporter": "python",
   "pygments_lexer": "ipython3",
   "version": "3.8.7"
  },
  "orig_nbformat": 4
 },
 "nbformat": 4,
 "nbformat_minor": 2
}
