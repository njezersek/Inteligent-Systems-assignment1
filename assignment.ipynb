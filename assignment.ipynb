{
 "cells": [
  {
   "cell_type": "markdown",
   "metadata": {},
   "source": [
    "# Intelligent Systems Seminar Assignment 1\n",
    "**Genetic algorith written in python** \\\n",
    "Authors: *Nejc Jezeršek, Žan Oberstar*"
   ]
  },
  {
   "cell_type": "markdown",
   "metadata": {},
   "source": [
    "### Libraries"
   ]
  },
  {
   "cell_type": "code",
   "execution_count": 2,
   "metadata": {},
   "outputs": [],
   "source": [
    "import statistics\n",
    "import math\n",
    "import random\n",
    "from matplotlib import pyplot as plt\n",
    "import numpy as np"
   ]
  },
  {
   "cell_type": "markdown",
   "metadata": {},
   "source": [
    "## Population generation"
   ]
  },
  {
   "cell_type": "markdown",
   "metadata": {},
   "source": [
    "Agent is an arithmetic expression constructed of numbers and symbols specified below.\n",
    "\n",
    "Each number can be used `max_number_use` times, therefore the expression can contain from `1` to `len(numbers)*max_number_use` numbers.\n",
    "\n",
    "After each number there is a symbol from `symbols`. The symbol after the last number is ignored, but may be used in future generations like an unexpressed gene in a human genome. That decision was made primarily to make crossover (based on permutations) easier to implement."
   ]
  },
  {
   "cell_type": "code",
   "execution_count": 3,
   "metadata": {},
   "outputs": [],
   "source": [
    "numbers = ['10', '25', '100', '5', '3']\n",
    "symbols = ['+', '-', '*', '/']\n",
    "\n",
    "max_number_use = 1\n",
    "min_numbers_in_expresion = 1\n",
    "\n",
    "target_value = 2512"
   ]
  },
  {
   "cell_type": "code",
   "execution_count": 4,
   "metadata": {},
   "outputs": [],
   "source": [
    "def generate_agent():\n",
    "    n_numbers = random.randint(min_numbers_in_expresion, len(numbers)*max_number_use)\n",
    "    selected_numbers = random.sample(numbers*max_number_use, n_numbers)\n",
    "    return [(number, random.choice(symbols)) for number in selected_numbers]\n",
    "\n",
    "def agent_to_expression(agent):\n",
    "        expression = \"\".join(n + s for n, s in agent)\n",
    "        return expression[:-1] # remove last operator\n",
    "    \n",
    "def evaluate_agent(agent):\n",
    "    expression = agent_to_expression(agent)\n",
    "    if len(expression) == 0: return 0\n",
    "    else: return eval(expression)\n",
    "\n",
    "def agent_to_string(agent):\n",
    "    return f\"{agent_to_expression(agent)} = {evaluate_agent(agent):.2f}\""
   ]
  },
  {
   "cell_type": "markdown",
   "metadata": {},
   "source": [
    "Agent is constructed of tuples of a number and a symbol as seen below:\n",
    " - `generate_agent` generates a random agent\n",
    " - `agent_to_expression` function joins the tuples together into a string, ignoring the last symbol\n",
    " - `evaluate_agent` generates the expression and evaluates it\n",
    " - `agent_to_string` creates a string with expression and its value"
   ]
  },
  {
   "cell_type": "code",
   "execution_count": 5,
   "metadata": {},
   "outputs": [
    {
     "name": "stdout",
     "output_type": "stream",
     "text": [
      "Generate agent   :  [('25', '/'), ('5', '/'), ('10', '+')]\n",
      "Agent expression :  25/5/10\n",
      "Evaluated        :  0.5\n",
      "Pretty print     :  25/5/10 = 0.50\n"
     ]
    }
   ],
   "source": [
    "a = generate_agent()\n",
    "print(\"Generate agent   : \", a)\n",
    "print(\"Agent expression : \", agent_to_expression(a))\n",
    "print(\"Evaluated        : \", evaluate_agent(a))\n",
    "print(\"Pretty print     : \", agent_to_string(a))"
   ]
  },
  {
   "cell_type": "markdown",
   "metadata": {},
   "source": [
    "Here are some randomly generated agents:"
   ]
  },
  {
   "cell_type": "code",
   "execution_count": 6,
   "metadata": {},
   "outputs": [
    {
     "name": "stdout",
     "output_type": "stream",
     "text": [
      "0.  5-3+10 = 12.00\n",
      "1.  10*3-100/5-25 = -15.00\n",
      "2.  10/3-5+100+25 = 123.33\n",
      "3.  5-10 = -5.00\n",
      "4.  5 = 5.00\n",
      "5.  100/5 = 20.00\n",
      "6.  3+5/10/25 = 3.02\n",
      "7.  100-10/25*5 = 98.00\n",
      "8.  100+25/5*10 = 150.00\n",
      "9.  10+25*3*5*100 = 37510.00\n",
      "10.  25 = 25.00\n",
      "11.  3+5+100-25 = 83.00\n",
      "12.  5+10*25+3 = 258.00\n",
      "13.  10-5-25 = -20.00\n",
      "14.  25/100 = 0.25\n",
      "15.  10/25+100 = 100.40\n",
      "16.  10 = 10.00\n",
      "17.  3 = 3.00\n",
      "18.  10/3*100+25*5 = 458.33\n",
      "19.  3-10*25*5/100 = -9.50\n"
     ]
    }
   ],
   "source": [
    "for i in range(20):\n",
    "    a = generate_agent()\n",
    "    print(f\"{i}. \", agent_to_string(a))"
   ]
  },
  {
   "cell_type": "markdown",
   "metadata": {},
   "source": [
    "## Fitness"
   ]
  },
  {
   "cell_type": "markdown",
   "metadata": {},
   "source": [
    "Fitness is used as a scoring function for the genetic algorithm to determine the best agents to use for reproduction.\n",
    "\n",
    "We defined some different fitness functions, which will be compared in section _Evaluation_:\n",
    " - `fitness_abs` returns the negative of an absolute value of the error\n",
    " - `fitness_inverse` returns 1 over an absolute value of the error\n",
    " - `fitness_squared` returns negative of the error squared\n",
    " - `fitness_log` returns negative of the logarithm of the error"
   ]
  },
  {
   "cell_type": "code",
   "execution_count": 7,
   "metadata": {},
   "outputs": [],
   "source": [
    "def error(agent):\n",
    "    return abs(evaluate_agent(agent) - target_value)\n",
    "\n",
    "def fitness_abs(agent):\n",
    "    return -error(agent)\n",
    "\n",
    "def fitness_inverse(agent):\n",
    "    return 1/(error(agent) + 0.0001) # + 0.0001 to avoid zero devision\n",
    "\n",
    "def fitness_squared(agent):\n",
    "    return -(error(agent)**2)\n",
    "\n",
    "def fitness_log(agent):\n",
    "    return -math.log2(error(agent)+1)"
   ]
  },
  {
   "cell_type": "markdown",
   "metadata": {},
   "source": [
    "## Mutation"
   ]
  },
  {
   "cell_type": "markdown",
   "metadata": {},
   "source": [
    "We defined 7 different types of mutation:\n",
    " - `mutation_change_symbol` changes a random symbol\n",
    " - `mutation_change_number` changes a random number\n",
    " - `mutation_add_element` adds a new element to the agent\n",
    " - `mutation_remove_element` removes a random element from the agent\n",
    " - `mutation_swap_symbol` swaps two random symbols  \n",
    " - `mutation_swap_number` swaps two random numbers\n",
    " - `mutation_swap_element` swaps two random elements (i.e. tuples consistion of a number and a symbol (\"5\", \"+\"))\n",
    "\n",
    "We add function `mutation` so that it randomly chooses between all of the mutations listed above"
   ]
  },
  {
   "cell_type": "code",
   "execution_count": 8,
   "metadata": {},
   "outputs": [],
   "source": [
    "def mutation_change_symbol(agent):\n",
    "    a = agent.copy()\n",
    "    i = random.randrange(len(a))\n",
    "    number, _ = a[i]\n",
    "    a[i] = (number, random.choice(symbols))\n",
    "    \n",
    "    return a\n",
    "\n",
    "def mutation_change_number(agent):\n",
    "    a = agent.copy()\n",
    "    agent_numbers = [number for number, _ in a]\n",
    "    # choose numbers that can be added without violating `max_number_use`\n",
    "    candidate_numbers = list(filter(lambda n: agent_numbers.count(n) < max_number_use, numbers))\n",
    "    if len(candidate_numbers) == 0: return a\n",
    "    i = random.randrange(len(a))\n",
    "    _, symbol = a[i]\n",
    "    a[i] = (random.choice(candidate_numbers), symbol)\n",
    "    \n",
    "    return a\n",
    "\n",
    "def mutation_add_element(agent):\n",
    "    a = agent.copy()\n",
    "    agent_numbers = [number for number, _ in a]\n",
    "    # choose numbers that can be added without violating `max_number_use`\n",
    "    candidate_numbers = list(filter(lambda n: agent_numbers.count(n) < max_number_use, numbers))\n",
    "    if len(candidate_numbers) == 0: return a\n",
    "    a.insert(random.randint(0, len(a)), (random.choice(candidate_numbers), random.choice(symbols)))\n",
    "    \n",
    "    return a\n",
    "\n",
    "def mutation_remove_element(agent):\n",
    "    a = agent.copy()\n",
    "    if len(a) <= 1: return a # nothing to remove\n",
    "    del a[random.randrange(len(a))]\n",
    "    \n",
    "    return a\n",
    "\n",
    "def mutation_swap_symbol(agent):\n",
    "    a = agent.copy()\n",
    "    i = random.randrange(len(agent))\n",
    "    j = random.randrange(len(agent))\n",
    "    \n",
    "    a[i], a[j] = (a[i][0], a[j][1]), (a[j][0], a[i][1])\n",
    "    \n",
    "    return a\n",
    "\n",
    "def mutation_swap_number(agent):\n",
    "    a = agent.copy()\n",
    "    i = random.randrange(len(agent))\n",
    "    j = random.randrange(len(agent))\n",
    "    \n",
    "    a[i], a[j] = (a[j][0], a[i][1]), (a[i][0], a[j][1])\n",
    "    \n",
    "    return a\n",
    "\n",
    "def mutation_swap_element(agent):\n",
    "    a = agent.copy()\n",
    "    i = random.randrange(len(agent))\n",
    "    j = random.randrange(len(agent))\n",
    "    \n",
    "    a[i], a[j] = a[j], a[i]\n",
    "    \n",
    "    return a\n",
    "\n",
    "def mutation(agent):\n",
    "    mutation_functions = [mutation_change_symbol, mutation_change_number, mutation_add_element, mutation_remove_element, \n",
    "                          mutation_swap_number, mutation_swap_symbol, mutation_swap_element]\n",
    "    return random.choice(mutation_functions)(agent)"
   ]
  },
  {
   "cell_type": "markdown",
   "metadata": {},
   "source": [
    "Here is an example of all the mutations made on the same agent:"
   ]
  },
  {
   "cell_type": "code",
   "execution_count": 13,
   "metadata": {},
   "outputs": [
    {
     "name": "stdout",
     "output_type": "stream",
     "text": [
      "Generated agent :  [('100', '/'), ('5', '+'), ('25', '+')]\n",
      "Change symbol   :  [('100', '*'), ('5', '+'), ('25', '+')]\n",
      "Change number   :  [('100', '/'), ('5', '+'), ('10', '+')]\n",
      "Add element     :  [('100', '/'), ('10', '*'), ('5', '+'), ('25', '+')]\n",
      "Remove element  :  [('100', '/'), ('5', '+')]\n",
      "Swap symbol     :  [('100', '/'), ('5', '+'), ('25', '+')]\n",
      "Swap number     :  [('25', '/'), ('5', '+'), ('100', '+')]\n",
      "Swap element    :  [('100', '/'), ('5', '+'), ('25', '+')]\n",
      "Random mutation :  [('100', '/'), ('25', '+')]\n"
     ]
    }
   ],
   "source": [
    "agent = generate_agent()\n",
    "print(\"Generated agent : \", agent)\n",
    "print(\"Change symbol   : \", mutation_change_symbol(agent))\n",
    "print(\"Change number   : \", mutation_change_number(agent))\n",
    "print(\"Add element     : \", mutation_add_element(agent))\n",
    "print(\"Remove element  : \", mutation_remove_element(agent))\n",
    "print(\"Swap symbol     : \", mutation_swap_symbol(agent))\n",
    "print(\"Swap number     : \", mutation_swap_number(agent))\n",
    "print(\"Swap element    : \", mutation_swap_element(agent))\n",
    "print(\"Random mutation : \", mutation(agent))"
   ]
  },
  {
   "cell_type": "markdown",
   "metadata": {},
   "source": [
    "## Crossover"
   ]
  },
  {
   "cell_type": "markdown",
   "metadata": {},
   "source": [
    "Crossover takes 2 parents: `parent1` and `parent2`. \\\n",
    "It then splits `parent1` and `parent2` into 2 parts and takes one part from `parent1` and another from `parent2` and stiches them together to create `child1`. \\\n",
    "It does the same for `child2`, just that it takes the other 2 parts."
   ]
  },
  {
   "cell_type": "markdown",
   "metadata": {},
   "source": [
    "### Functions"
   ]
  },
  {
   "cell_type": "code",
   "execution_count": 9,
   "metadata": {},
   "outputs": [],
   "source": [
    "def agent_subtract(agent1, agent2):\n",
    "    agent2_numbers = [n for n, _ in agent2]\n",
    "    res = []\n",
    "    for number, symbol in agent1:\n",
    "        if number in agent2_numbers: agent2_numbers.remove(number)\n",
    "        else: res.append((number, symbol))\n",
    "    return res\n",
    "\n",
    "def crossover(parent1, parent2):\n",
    "    min_len = min(len(parent1), len(parent2))\n",
    "    selection_start = random.randrange(0, min_len)\n",
    "    selection_end = random.randrange(selection_start, min_len)\n",
    "\n",
    "    child1 = parent1[selection_start:selection_end]\n",
    "    child2 = parent2[selection_start:selection_end]\n",
    "    child1.extend(agent_subtract(parent2, child1))\n",
    "    child2.extend(agent_subtract(parent1, child2))\n",
    "    \n",
    "    return (child1, child2)"
   ]
  },
  {
   "cell_type": "markdown",
   "metadata": {},
   "source": [
    "### Step by step example"
   ]
  },
  {
   "cell_type": "markdown",
   "metadata": {},
   "source": [
    "We first generate two parents `parent1` and `parent2`:"
   ]
  },
  {
   "cell_type": "code",
   "execution_count": 50,
   "metadata": {},
   "outputs": [
    {
     "name": "stdout",
     "output_type": "stream",
     "text": [
      "parent1:  [('25', '*'), ('5', '*'), ('3', '+'), ('10', '+')] 25*5*3+10 = 385.00\n",
      "parent2:  [('25', '/'), ('5', '*'), ('3', '/')] 25/5*3 = 15.00\n"
     ]
    }
   ],
   "source": [
    "parent1 = generate_agent()\n",
    "parent2 = generate_agent()\n",
    "print(\"parent1: \", parent1, agent_to_string(parent1))\n",
    "print(\"parent2: \", parent2, agent_to_string(parent2))"
   ]
  },
  {
   "cell_type": "markdown",
   "metadata": {},
   "source": [
    "We then select a section that overlaps both parents and initializes `child1` to a section of `parent1` and `child2` to a section of `parent2`."
   ]
  },
  {
   "cell_type": "code",
   "execution_count": 61,
   "metadata": {},
   "outputs": [
    {
     "name": "stdout",
     "output_type": "stream",
     "text": [
      "child1:  [('25', '*'), ('5', '*')] 25*5 = 125.00\n",
      "child2:  [('25', '/'), ('5', '*')] 25/5 = 5.00\n"
     ]
    }
   ],
   "source": [
    "min_len = min(len(parent1), len(parent2))\n",
    "selection_start = random.randrange(0, min_len)\n",
    "selection_end = random.randrange(selection_start, min_len)\n",
    "\n",
    "child1 = parent1[selection_start:selection_end]\n",
    "child2 = parent2[selection_start:selection_end]\n",
    "\n",
    "print(\"child1: \", child1, agent_to_string(child1))\n",
    "print(\"child2: \", child2, agent_to_string(child2))"
   ]
  },
  {
   "cell_type": "markdown",
   "metadata": {},
   "source": [
    "The rest of the elements come from the other parent by removing the numbers that already came from the first parent. \\\n",
    "We do that using the function `agent_subtract`, so that we stay within the bounds of the problem (all of the numbers can only be used once)"
   ]
  },
  {
   "cell_type": "code",
   "execution_count": 62,
   "metadata": {},
   "outputs": [
    {
     "name": "stdout",
     "output_type": "stream",
     "text": [
      "parent1_remainder:  [('3', '+'), ('10', '+')] 3+10 = 13.00\n",
      "parent2_remainder:  [('3', '/')] 3 = 3.00\n"
     ]
    }
   ],
   "source": [
    "parent1_remainder = agent_subtract(parent1, child2)\n",
    "parent2_remainder = agent_subtract(parent2, child1)\n",
    "\n",
    "print(\"parent1_remainder: \", parent1_remainder, agent_to_string(parent1_remainder))\n",
    "print(\"parent2_remainder: \", parent2_remainder, agent_to_string(parent2_remainder))"
   ]
  },
  {
   "cell_type": "markdown",
   "metadata": {},
   "source": [
    "In the end we stich both children together using the `parent_remainder`."
   ]
  },
  {
   "cell_type": "code",
   "execution_count": 46,
   "metadata": {},
   "outputs": [
    {
     "name": "stdout",
     "output_type": "stream",
     "text": [
      "child1 result:  [('3', '+'), ('100', '/')] 3+100 = 103.00\n",
      "child2 result:  [('100', '/'), ('3', '+'), ('10', '+'), ('25', '/'), ('5', '-')] 100/3+10+25/5 = 48.33\n"
     ]
    }
   ],
   "source": [
    "child1.extend(parent2_remainder)\n",
    "child2.extend(parent1_remainder)\n",
    "\n",
    "print(\"child1 result: \", child1, agent_to_string(child1))\n",
    "print(\"child2 result: \", child2, agent_to_string(child2))"
   ]
  },
  {
   "cell_type": "markdown",
   "metadata": {},
   "source": [
    "Example of the `crossover` function:"
   ]
  },
  {
   "cell_type": "code",
   "execution_count": 48,
   "metadata": {},
   "outputs": [
    {
     "name": "stdout",
     "output_type": "stream",
     "text": [
      "parent1 : 3+100+10+25/5 = 118.00; lenght: 5\n",
      "parent2 : 100/3 = 33.33; length: 2\n",
      "child1  : 3+100 = 103.00; length: 2\n",
      "child2  : 100/3+10+25/5 = 48.33; length: 5\n"
     ]
    }
   ],
   "source": [
    "child1, child2 = crossover(parent1, parent2)\n",
    "print(f\"parent1 : {agent_to_string(parent1)}; lenght: {len(parent1)}\")\n",
    "print(f\"parent2 : {agent_to_string(parent2)}; length: {len(parent2)}\")\n",
    "print(f\"child1  : {agent_to_string(child1)}; length: {len(child1)}\")\n",
    "print(f\"child2  : {agent_to_string(child2)}; length: {len(child2)}\")"
   ]
  },
  {
   "cell_type": "markdown",
   "metadata": {},
   "source": [
    "## Selection"
   ]
  },
  {
   "cell_type": "markdown",
   "metadata": {},
   "source": [
    "### Top agents\n",
    "The first naive approach is to order the agents by their fitness and select the top $n$ agents."
   ]
  },
  {
   "cell_type": "code",
   "execution_count": 10,
   "metadata": {},
   "outputs": [],
   "source": [
    "def select_best_agents(population_with_fitness, n_agents):\n",
    "    return list(sorted(population_with_fitness, key=lambda e: e[1], reverse=True))[:n_agents]"
   ]
  },
  {
   "cell_type": "markdown",
   "metadata": {},
   "source": [
    "Lets create a 100 agents and select the best 10."
   ]
  },
  {
   "cell_type": "code",
   "execution_count": 11,
   "metadata": {},
   "outputs": [
    {
     "name": "stdout",
     "output_type": "stream",
     "text": [
      "error: 7.000, fitness: -3.000, agent: 100*25+3*5-10 = 2505.00, \n",
      "error: 1012.000, fitness: -9.984, agent: 3*5*100 = 1500.00, \n",
      "error: 1484.000, fitness: -10.536, agent: 10*100+3+25 = 1028.00, \n",
      "error: 1485.000, fitness: -10.537, agent: 5+100*10+25-3 = 1027.00, \n",
      "error: 1509.000, fitness: -10.560, agent: 10*100+3 = 1003.00, \n",
      "error: 1512.000, fitness: -10.563, agent: 100*10 = 1000.00, \n",
      "error: 2002.000, fitness: -10.968, agent: 5*100+10 = 510.00, \n",
      "error: 2013.667, fitness: -10.976, agent: 100*5-10+25/3 = 498.33, \n",
      "error: 2030.000, fitness: -10.988, agent: 5*100-25-3+10 = 482.00, \n",
      "error: 2212.000, fitness: -11.112, agent: 3*100 = 300.00, \n"
     ]
    }
   ],
   "source": [
    "population = [generate_agent() for _ in range(100)]\n",
    "population_with_fitness = [(a, fitness_log(a)) for a in population]\n",
    "population_fitness = [f for a, f in population_with_fitness]\n",
    "\n",
    "best_agents = select_best_agents(population_with_fitness, 10)\n",
    "\n",
    "for a, f in best_agents:\n",
    "    print(f\"error: {error(a):.3f}, fitness: {f:.3f}, agent: {agent_to_string(a)}, \")"
   ]
  },
  {
   "cell_type": "markdown",
   "metadata": {},
   "source": [
    "### Weighted choice\n",
    "Another approach is to compute wheits based on the fitness value and than make a random weighted choice of $n$ agents."
   ]
  },
  {
   "cell_type": "code",
   "execution_count": 24,
   "metadata": {},
   "outputs": [],
   "source": [
    "def get_weights(population_with_fitness, verbose=False):\n",
    "    k = 1.0 # if k is close to 1 best agents are more favored if k > 1 the difference in weights between different agents gets smaller\n",
    "    population_fitness = [f for a, f in population_with_fitness]\n",
    "    min_fitness = min(population_fitness)\n",
    "    base_fitness = -min_fitness*k\n",
    "    population_with_weights = [(a, f, ((f+base_fitness)/base_fitness)**2) for a, f in population_with_fitness]\n",
    "    population_with_weights_ordered = sorted(population_with_weights, key=lambda e: e[2], reverse=True)\n",
    "\n",
    "    if verbose:\n",
    "        for a, f, w in population_with_weights_ordered[:10]:\n",
    "            print(f\"fitness: {f:.3f}, weight: {w:.3f}, agent: {agent_to_string(a)}\")\n",
    "            \n",
    "        weights_ordered = [w for a, f, w in population_with_weights_ordered]\n",
    "        plt.figure(figsize=(10, 5))\n",
    "        plt.subplot(1,2,1)\n",
    "        plt.title(\"Oredered agents (x) and their weights (y)\")\n",
    "        plt.plot(weights_ordered)\n",
    "        plt.subplot(1,2,2)\n",
    "        plt.title(\"Distribution of weights\")\n",
    "        _ = plt.hist(weights_ordered, bins=40)\n",
    "    \n",
    "    return [w for a, f, w in population_with_weights]"
   ]
  },
  {
   "cell_type": "markdown",
   "metadata": {},
   "source": [
    "Lets look at the distribution of the weights with logarithmic fitness function:"
   ]
  },
  {
   "cell_type": "code",
   "execution_count": 25,
   "metadata": {},
   "outputs": [
    {
     "name": "stdout",
     "output_type": "stream",
     "text": [
      "fitness: -3.000, weight: 0.635, agent: 100*25+3*5-10 = 2505.00\n",
      "fitness: -9.984, weight: 0.104, agent: 3*5*100 = 1500.00\n",
      "fitness: -10.536, weight: 0.082, agent: 10*100+3+25 = 1028.00\n",
      "fitness: -10.537, weight: 0.082, agent: 5+100*10+25-3 = 1027.00\n",
      "fitness: -10.560, weight: 0.081, agent: 10*100+3 = 1003.00\n",
      "fitness: -10.563, weight: 0.080, agent: 100*10 = 1000.00\n",
      "fitness: -10.968, weight: 0.066, agent: 5*100+10 = 510.00\n",
      "fitness: -10.976, weight: 0.065, agent: 100*5-10+25/3 = 498.33\n",
      "fitness: -10.988, weight: 0.065, agent: 5*100-25-3+10 = 482.00\n",
      "fitness: -11.112, weight: 0.061, agent: 3*100 = 300.00\n"
     ]
    },
    {
     "data": {
      "image/png": "[encoded data removed]",
      "text/plain": [
       "<Figure size 720x360 with 2 Axes>"
      ]
     },
     "metadata": {
      "needs_background": "light"
     },
     "output_type": "display_data"
    }
   ],
   "source": [
    "population_with_fitness = [(a, fitness_log(a)) for a in population]\n",
    "_ = get_weights(population_with_fitness, verbose=True)"
   ]
  },
  {
   "cell_type": "markdown",
   "metadata": {},
   "source": [
    "We can see that the best few agents get very large weight and the most agents get weights around 0.2 to 0.5 (depends on the population). There are some very bad agents that gat almost 0 weight."
   ]
  },
  {
   "cell_type": "markdown",
   "metadata": {},
   "source": [
    "If we use different fitness function (negative absolute error for example), we get differnet distrubution."
   ]
  },
  {
   "cell_type": "code",
   "execution_count": 26,
   "metadata": {},
   "outputs": [
    {
     "name": "stdout",
     "output_type": "stream",
     "text": [
      "fitness: -7.000, weight: 0.999, agent: 100*25+3*5-10 = 2505.00\n",
      "fitness: -1012.000, weight: 0.928, agent: 3*5*100 = 1500.00\n",
      "fitness: -1484.000, weight: 0.895, agent: 10*100+3+25 = 1028.00\n",
      "fitness: -1485.000, weight: 0.895, agent: 5+100*10+25-3 = 1027.00\n",
      "fitness: -1509.000, weight: 0.893, agent: 10*100+3 = 1003.00\n",
      "fitness: -1512.000, weight: 0.893, agent: 100*10 = 1000.00\n",
      "fitness: -2002.000, weight: 0.860, agent: 5*100+10 = 510.00\n",
      "fitness: -2013.667, weight: 0.859, agent: 100*5-10+25/3 = 498.33\n",
      "fitness: -2030.000, weight: 0.858, agent: 5*100-25-3+10 = 482.00\n",
      "fitness: -2212.000, weight: 0.846, agent: 3*100 = 300.00\n"
     ]
    },
    {
     "data": {
      "image/png": "[encoded data removed]",
      "text/plain": [
       "<Figure size 720x360 with 2 Axes>"
      ]
     },
     "metadata": {
      "needs_background": "light"
     },
     "output_type": "display_data"
    }
   ],
   "source": [
    "population_with_fitness = [(a, fitness_abs(a)) for a in population]\n",
    "_ = get_weights(population_with_fitness, verbose=True)"
   ]
  },
  {
   "cell_type": "markdown",
   "metadata": {},
   "source": [
    "Now we can implement a function that makes a weighted random choice based on before computed wheights:"
   ]
  },
  {
   "cell_type": "code",
   "execution_count": 28,
   "metadata": {},
   "outputs": [],
   "source": [
    "def select_weighted(population_with_fitness, n_agents):\n",
    "    weights = get_weights(population_with_fitness)\n",
    "    return random.choices(population_with_fitness, weights=weights, k=n_agents)"
   ]
  },
  {
   "cell_type": "code",
   "execution_count": 32,
   "metadata": {},
   "outputs": [
    {
     "name": "stdout",
     "output_type": "stream",
     "text": [
      "error: 2521.850, fitness: -11.301, agent: 25/5/100*3-10 = -9.85, \n",
      "error: 2309.000, fitness: -11.174, agent: 10*100/5+3 = 203.00, \n",
      "error: 2482.000, fitness: -11.278, agent: 5+25 = 30.00, \n",
      "error: 2532.000, fitness: -11.307, agent: 5-25 = -20.00, \n",
      "error: 7.000, fitness: -3.000, agent: 100*25+3*5-10 = 2505.00, \n",
      "error: 2507.000, fitness: -11.292, agent: 5 = 5.00, \n",
      "error: 2511.867, fitness: -11.295, agent: 100/3/25/10 = 0.13, \n",
      "error: 2574.000, fitness: -11.330, agent: 25+10+3-100 = -62.00, \n",
      "error: 7.000, fitness: -3.000, agent: 100*25+3*5-10 = 2505.00, \n",
      "error: 2507.000, fitness: -11.292, agent: 5 = 5.00, \n"
     ]
    }
   ],
   "source": [
    "population_with_fitness = [(a, fitness_log(a)) for a in population]\n",
    "best_agents_weighted = select_weighted(population_with_fitness, 10)\n",
    "\n",
    "for a, f in best_agents_weighted:\n",
    "    print(f\"error: {error(a):.3f}, fitness: {f:.3f}, agent: {agent_to_string(a)}, \")"
   ]
  },
  {
   "cell_type": "markdown",
   "metadata": {},
   "source": [
    "### Best plus random selection"
   ]
  },
  {
   "cell_type": "code",
   "execution_count": 58,
   "metadata": {},
   "outputs": [],
   "source": [
    "def select_best_plus_random(population_with_fitness, n_agents):\n",
    "    best_agents = select_best_agents(population_with_fitness, n_agents//2)\n",
    "    best_agents.extend(random.choices(population_with_fitness, k=(n_agents - n_agents//2)))\n",
    "    \n",
    "    return best_agents"
   ]
  },
  {
   "cell_type": "markdown",
   "metadata": {},
   "source": [
    "## Evolution\n"
   ]
  },
  {
   "cell_type": "code",
   "execution_count": 51,
   "metadata": {},
   "outputs": [],
   "source": [
    "def evolve(\n",
    "    population, fitness_function, selection_function, crossover_function, mutation_function, \n",
    "    mutation_probability=0.4, survival_probability=0.1, max_iterations=100, fitness_threshold=0, keep_best = False,\n",
    "    verbose=False, plot=False\n",
    "):\n",
    "    population_size = len(population)\n",
    "    \n",
    "    min_fitness_log = []\n",
    "    max_fitness_log = []\n",
    "    mean_fitness_log = []\n",
    "    \n",
    "    iterations = 0\n",
    "    \n",
    "    for generation in range(max_iterations):\n",
    "        iterations += 1\n",
    "        # evaluate population\n",
    "        population_with_fitness = [(a, fitness_function(a)) for a in population]\n",
    "        population_fitness = [f for a, f in population_with_fitness]\n",
    "        \n",
    "        # compute metrics\n",
    "        mean_fitness = statistics.mean(population_fitness)\n",
    "        max_fitness = max(population_fitness)\n",
    "        min_fitness = min(population_fitness)\n",
    "        \n",
    "        # log metrics\n",
    "        mean_fitness_log.append(mean_fitness)\n",
    "        max_fitness_log.append(max_fitness)\n",
    "        min_fitness_log.append(min_fitness)\n",
    "        \n",
    "        # make selection\n",
    "        best_agents_with_fitness = selection_function(population_with_fitness, math.ceil(population_size*survival_probability))\n",
    "        best_agents = [a for a, _ in best_agents_with_fitness]\n",
    "        \n",
    "        best_agents_with_fitness_sorted = list(sorted(best_agents_with_fitness, key=lambda e: e[1], reverse=True))\n",
    "        \n",
    "        # print metrics\n",
    "        if verbose:\n",
    "            print(f\"Generation {generation}: fitness min: {min_fitness:.2f}, max: {max_fitness:.2f}, mean: {mean_fitness:.2f}; best agent: {agent_to_string(best_agents_with_fitness_sorted[0][0])}\")\n",
    "            \n",
    "        if max_fitness >= fitness_threshold: break\n",
    "        \n",
    "            \n",
    "        if keep_best:\n",
    "            population = best_agents.copy()\n",
    "        else:\n",
    "            population = []\n",
    "\n",
    "        # crossover\n",
    "        for i in range(len(population), population_size, 2):\n",
    "            parent1, parent2 = random.sample(best_agents, 2)\n",
    "            child1, child2 = crossover_function(parent1, parent2)\n",
    "            population.append(child1)\n",
    "            population.append(child2)\n",
    "            \n",
    "        # mutation\n",
    "        for i, agent in enumerate(population):\n",
    "            if random.random() < mutation_probability:\n",
    "                population[i] = mutation_function(agent)\n",
    "                \n",
    "            \n",
    "    if plot:\n",
    "        plt.figure(figsize=(10,10))\n",
    "        plt.plot(max_fitness_log, label=\"max\")\n",
    "        plt.plot(mean_fitness_log, label=\"mean\")\n",
    "        #plt.plot(min_fitness_log, label=\"min\")\n",
    "        plt.legend()\n",
    "        \n",
    "    return (iterations, (max_fitness_log, mean_fitness_log, min_fitness_log))"
   ]
  },
  {
   "cell_type": "markdown",
   "metadata": {},
   "source": [
    "## Evaluation"
   ]
  },
  {
   "cell_type": "code",
   "execution_count": 34,
   "metadata": {},
   "outputs": [],
   "source": [
    "population_size = 100\n",
    "max_iterations = 300"
   ]
  },
  {
   "cell_type": "code",
   "execution_count": 46,
   "metadata": {},
   "outputs": [
    {
     "name": "stdout",
     "output_type": "stream",
     "text": [
      "5*3+25*100\n",
      "3\n"
     ]
    },
    {
     "data": {
      "text/plain": [
       "-2.0"
      ]
     },
     "execution_count": 46,
     "metadata": {},
     "output_type": "execute_result"
    }
   ],
   "source": [
    "a = [('5','*'), ('3', '+'), ('25', '*'), ('100', '+')]\n",
    "print(agent_to_expression(a))\n",
    "print(error(a))\n",
    "\n",
    "fitness_log(a)"
   ]
  },
  {
   "cell_type": "code",
   "execution_count": 55,
   "metadata": {},
   "outputs": [
    {
     "name": "stdout",
     "output_type": "stream",
     "text": [
      "Generation 0: fitness min: -13.29, max: -3.46, mean: -10.92; best agent: 5+25*100-3 = 2502.00\n",
      "Generation 1: fitness min: -13.29, max: -2.32, mean: -8.18; best agent: 10+25*100-5+3 = 2508.00\n",
      "Generation 2: fitness min: -13.29, max: -1.58, mean: -6.10; best agent: 10+25*100-5+3 = 2508.00\n",
      "Generation 3: fitness min: -13.29, max: -2.00, mean: -5.27; best agent: 100*25+5*3 = 2515.00\n",
      "Generation 4: fitness min: -13.29, max: -1.58, mean: -5.05; best agent: 100*25+5*3 = 2515.00\n",
      "Generation 5: fitness min: -15.09, max: -2.32, mean: -6.21; best agent: 10+25*100-5+3 = 2508.00\n",
      "Generation 6: fitness min: -15.09, max: -0.00, mean: -5.73; best agent: 10+25*100-5+3 = 2508.00\n"
     ]
    },
    {
     "data": {
      "image/png": "[encoded data removed]",
      "text/plain": [
       "<Figure size 720x720 with 1 Axes>"
      ]
     },
     "metadata": {
      "needs_background": "light"
     },
     "output_type": "display_data"
    }
   ],
   "source": [
    "population = [generate_agent() for _ in range(population_size)]\n",
    "_ = evolve(\n",
    "    population,\n",
    "    fitness_log,\n",
    "    select_weighted,\n",
    "    crossover,\n",
    "    mutation,\n",
    "    fitness_threshold=0,\n",
    "    mutation_probability=0.2, survival_probability=0.2, max_iterations=300,\n",
    "    verbose=True, keep_best=False, plot=True\n",
    ")"
   ]
  },
  {
   "cell_type": "markdown",
   "metadata": {},
   "source": [
    "### Comparison with random search"
   ]
  },
  {
   "cell_type": "code",
   "execution_count": 66,
   "metadata": {},
   "outputs": [
    {
     "data": {
      "image/png": "[encoded data removed]",
      "text/plain": [
       "<Figure size 720x720 with 1 Axes>"
      ]
     },
     "metadata": {
      "needs_background": "light"
     },
     "output_type": "display_data"
    }
   ],
   "source": [
    "N = 200\n",
    "iterations_log = []\n",
    "for i in range(N):\n",
    "    iterations = 0\n",
    "    for i in range(max_iterations):\n",
    "        iterations += 1\n",
    "        population = [generate_agent() for _ in range(population_size)]\n",
    "        population_with_fitness = [(a, fitness_abs(a)) for a in population]\n",
    "        population_fitness = [f for a, f in population_with_fitness]\n",
    "        if max(population_fitness) == 0: break\n",
    "\n",
    "    iterations_log.append(iterations)\n",
    "\n",
    "plt.figure(figsize=(10,10))\n",
    "plt.title(\"Random search\")\n",
    "plt.xlabel('Number of iterations')\n",
    "plt.ylabel('Number of runs')\n",
    "_ = plt.hist(iterations_log, bins=100)"
   ]
  },
  {
   "cell_type": "markdown",
   "metadata": {},
   "source": [
    "### Different fitness functions\n",
    "\n",
    "Lets see how does the choice of a fitness function effect performance. We run genetic alghorithm with each fitness function a 200 times and plot a histogram of iterations it took to find the optimal agent. "
   ]
  },
  {
   "cell_type": "code",
   "execution_count": 91,
   "metadata": {},
   "outputs": [
    {
     "name": "stdout",
     "output_type": "stream",
     "text": [
      "abs - mean: 31.39, min: 1, max: 300, stdev: 76.96718546361791\n",
      "inverse - mean: 22.895, min: 1, max: 300, stdev: 60.67148523485325\n",
      "sqared - mean: 25.8, min: 1, max: 300, stdev: 66.69151965557427\n"
     ]
    },
    {
     "data": {
      "image/png": "[encoded data removed]",
      "text/plain": [
       "<Figure size 1440x432 with 3 Axes>"
      ]
     },
     "metadata": {
      "needs_background": "light"
     },
     "output_type": "display_data"
    }
   ],
   "source": [
    "N = 200\n",
    "fitness_functions = [(fitness_abs, 0, \"abs\"), (fitness_inverse, 10000, \"inverse\"), (fitness_squared, 0, \"squared\")]\n",
    "\n",
    "plt.figure(figsize=(20,6))\n",
    "\n",
    "for j, (fitness_function, fitness_threshold, label) in enumerate(fitness_functions):\n",
    "    iterations_log = []\n",
    "\n",
    "    for i in range(N):\n",
    "        population = [generate_agent() for _ in range(population_size)]\n",
    "        iterations, _ = evolve(\n",
    "            population,\n",
    "            fitness_function,\n",
    "            select_best_agents,\n",
    "            crossover,\n",
    "            mutation,\n",
    "            mutation_probability=0.2, survival_probability=0.2, max_iterations=300, keep_best=False, fitness_threshold=fitness_threshold\n",
    "        )\n",
    "\n",
    "        iterations_log.append(iterations)\n",
    "        \n",
    "    print(f\"{label} - mean: {statistics.mean(iterations_log)}, min: {min(iterations_log)}, max: {max(iterations_log)}, stdev: {statistics.stdev(iterations_log)}\")\n",
    "    \n",
    "    plt.subplot(1, 3, j+1)\n",
    "    plt.title(f\"fitness: {label}\")\n",
    "    _ = plt.hist(iterations_log, bins=100)\n",
    "        "
   ]
  },
  {
   "cell_type": "markdown",
   "metadata": {},
   "source": [
    "### Different selection functions"
   ]
  },
  {
   "cell_type": "code",
   "execution_count": 60,
   "metadata": {},
   "outputs": [
    {
     "name": "stdout",
     "output_type": "stream",
     "text": [
      "top agents - mean: 26.11, min: 1, max: 300, stdev: 60.47988909484394\n",
      "weighted selection - mean: 43.02, min: 1, max: 300, stdev: 51.88922875030528\n",
      "best plus random - mean: 18.17, min: 1, max: 171, stdev: 24.54697271246973\n"
     ]
    },
    {
     "data": {
      "image/png": "[encoded data removed]",
      "text/plain": [
       "<Figure size 1440x432 with 3 Axes>"
      ]
     },
     "metadata": {
      "needs_background": "light"
     },
     "output_type": "display_data"
    }
   ],
   "source": [
    "N = 200\n",
    "selection_functions = [(select_best_agents, \"top agents\"), (select_weighted, \"weighted selection\"), (select_best_plus_random, \"best plus random\")]\n",
    "\n",
    "plt.figure(figsize=(20,6))\n",
    "\n",
    "for j, (selection_function, label) in enumerate(selection_functions):\n",
    "    iterations_log = []\n",
    "\n",
    "    for i in range(N):\n",
    "        population = [generate_agent() for _ in range(population_size)]\n",
    "        iterations, _ = evolve(\n",
    "            population,\n",
    "            fitness_log,\n",
    "            selection_function,\n",
    "            crossover,\n",
    "            mutation,\n",
    "            mutation_probability=0.2, survival_probability=0.2, max_iterations=300, keep_best=False, fitness_threshold=0\n",
    "        )\n",
    "\n",
    "        iterations_log.append(iterations)\n",
    "        \n",
    "    print(f\"{label} - mean: {statistics.mean(iterations_log)}, min: {min(iterations_log)}, max: {max(iterations_log)}, stdev: {statistics.stdev(iterations_log)}\")\n",
    "    \n",
    "    plt.subplot(1, 3, j+1)\n",
    "    plt.title(f\"{label}\")\n",
    "    _ = plt.hist(iterations_log, bins=100, range=(0, 300))"
   ]
  },
  {
   "cell_type": "markdown",
   "metadata": {},
   "source": [
    "## Bonus task: minimize expression length"
   ]
  },
  {
   "cell_type": "code",
   "execution_count": 106,
   "metadata": {},
   "outputs": [],
   "source": [
    "max_number_use = 5\n",
    "min_numbers_in_expresion = 1"
   ]
  },
  {
   "cell_type": "markdown",
   "metadata": {},
   "source": [
    "For this task we have to define a new fitness function that also takes into account the expression length."
   ]
  },
  {
   "cell_type": "code",
   "execution_count": 62,
   "metadata": {},
   "outputs": [],
   "source": [
    "def fitness_length(agent):\n",
    "    return fitness_inverse(agent) + 3/(len(agent)+5)"
   ]
  },
  {
   "cell_type": "code",
   "execution_count": 63,
   "metadata": {},
   "outputs": [
    {
     "name": "stdout",
     "output_type": "stream",
     "text": [
      "Generation 0: fitness min: 0.30, max: 0.50, mean: 0.40; best agent: 100 = 100.00\n",
      "Generation 1: fitness min: 0.30, max: 0.51, mean: 0.43; best agent: 100*25 = 2500.00\n",
      "Generation 2: fitness min: 0.30, max: 0.51, mean: 0.44; best agent: 100*25 = 2500.00\n",
      "Generation 3: fitness min: 0.33, max: 0.51, mean: 0.46; best agent: 100*25 = 2500.00\n",
      "Generation 4: fitness min: 0.33, max: 0.87, mean: 0.47; best agent: 10+25*100 = 2510.00\n",
      "Generation 5: fitness min: 0.38, max: 0.87, mean: 0.49; best agent: 10+25*100 = 2510.00\n",
      "Generation 6: fitness min: 0.33, max: 1.33, mean: 0.53; best agent: 10+3+25*100 = 2513.00\n",
      "Generation 7: fitness min: 0.33, max: 3.30, mean: 0.61; best agent: 10+100*25+5/3 = 2511.67\n",
      "Generation 8: fitness min: 0.30, max: 3.30, mean: 0.76; best agent: 10+100*25+5/3 = 2511.67\n",
      "Generation 9: fitness min: 0.30, max: 3.30, mean: 0.79; best agent: 10+100*25+5/3 = 2511.67\n",
      "Generation 10: fitness min: 0.30, max: 3.30, mean: 0.92; best agent: 10+100*25+5/3 = 2511.67\n",
      "Generation 11: fitness min: 0.30, max: 10000.30, mean: 201.44; best agent: 10+100*25+5-3 = 2512.00\n"
     ]
    },
    {
     "data": {
      "image/png": "[encoded data removed]",
      "text/plain": [
       "<Figure size 720x720 with 1 Axes>"
      ]
     },
     "metadata": {
      "needs_background": "light"
     },
     "output_type": "display_data"
    }
   ],
   "source": [
    "population = [generate_agent() for _ in range(population_size)]\n",
    "_ = evolve(\n",
    "    population,\n",
    "    fitness_length,\n",
    "    select_best_plus_random,\n",
    "    crossover,\n",
    "    mutation,\n",
    "    fitness_threshold=10000.00,\n",
    "    mutation_probability=0.5, survival_probability=0.2, max_iterations=300,\n",
    "    verbose=True, keep_best=True, plot=True\n",
    ")"
   ]
  },
  {
   "cell_type": "code",
   "execution_count": 65,
   "metadata": {},
   "outputs": [],
   "source": [
    "def fitness_length_2(agent):\n",
    "    return fitness_abs(agent) - len(agent)*2"
   ]
  },
  {
   "cell_type": "code",
   "execution_count": 67,
   "metadata": {},
   "outputs": [
    {
     "name": "stdout",
     "output_type": "stream",
     "text": [
      "Generation 0: fitness min: -12523.00, max: -45.00, mean: -2567.37; best agent: 25*100-3+10*5 = 2547.00\n",
      "Generation 1: fitness min: -122495.00, max: -15.00, mean: -3396.47; best agent: 25*100+3 = 2503.00\n",
      "Generation 2: fitness min: -122496.00, max: -10.00, mean: -4738.21; best agent: 25*100-3+5+10 = 2512.00\n",
      "Generation 3: fitness min: -22500.00, max: -10.00, mean: -2463.17; best agent: 25*100-3+5+10 = 2512.00\n",
      "Generation 4: fitness min: -372498.00, max: -10.00, mean: -5702.89; best agent: 25*100-3+5+10 = 2512.00\n",
      "Generation 5: fitness min: -22513.00, max: -10.00, mean: -1711.98; best agent: 25*100-3+5+10 = 2512.00\n",
      "Generation 6: fitness min: -34996.00, max: -9.00, mean: -1380.20; best agent: 10+25*100+3 = 2513.00\n",
      "Generation 7: fitness min: -22506.00, max: -8.00, mean: -1381.12; best agent: 10+25*100 = 2510.00\n",
      "Generation 8: fitness min: -5013.00, max: -8.00, mean: -779.34; best agent: 25*100+10 = 2510.00\n",
      "Generation 9: fitness min: -22500.00, max: -8.00, mean: -1386.64; best agent: 10+25*100 = 2510.00\n",
      "Generation 10: fitness min: -2775.00, max: -8.00, mean: -1119.14; best agent: 10+25*100 = 2510.00\n",
      "Generation 11: fitness min: -22499.00, max: -8.00, mean: -1504.72; best agent: 10+25*100 = 2510.00\n",
      "Generation 12: fitness min: -22494.00, max: -8.00, mean: -1468.39; best agent: 10+25*100 = 2510.00\n",
      "Generation 13: fitness min: -22499.00, max: -8.00, mean: -1938.90; best agent: 10+25*100 = 2510.00\n",
      "Generation 14: fitness min: -22494.00, max: -8.00, mean: -3313.36; best agent: 10+25*100 = 2510.00\n",
      "Generation 15: fitness min: -22499.00, max: -8.00, mean: -2264.66; best agent: 10+100*25 = 2510.00\n",
      "Generation 16: fitness min: -15010.00, max: -8.00, mean: -1814.80; best agent: 10+100*25 = 2510.00\n",
      "Generation 17: fitness min: -22494.00, max: -8.00, mean: -1944.02; best agent: 10+25*100 = 2510.00\n",
      "Generation 18: fitness min: -10006.00, max: -8.00, mean: -1691.17; best agent: 10+100*25 = 2510.00\n",
      "Generation 19: fitness min: -35008.00, max: -8.00, mean: -1718.26; best agent: 10+25*100 = 2510.00\n",
      "Generation 20: fitness min: -10006.00, max: -8.00, mean: -1276.18; best agent: 10+100*25 = 2510.00\n",
      "Generation 21: fitness min: -5015.00, max: -8.00, mean: -1267.83; best agent: 10+25*100 = 2510.00\n",
      "Generation 22: fitness min: -35008.00, max: -8.00, mean: -2032.11; best agent: 10+25*100 = 2510.00\n",
      "Generation 23: fitness min: -22506.00, max: -8.00, mean: -1410.93; best agent: 10+25*100 = 2510.00\n",
      "Generation 24: fitness min: -22506.00, max: -8.00, mean: -3575.56; best agent: 10+100*25 = 2510.00\n",
      "Generation 25: fitness min: -22494.00, max: -8.00, mean: -2185.64; best agent: 10+100*25 = 2510.00\n",
      "Generation 26: fitness min: -22494.00, max: -8.00, mean: -2742.76; best agent: 10+25*100 = 2510.00\n",
      "Generation 27: fitness min: -5008.00, max: -8.00, mean: -1071.22; best agent: 10+100*25 = 2510.00\n",
      "Generation 28: fitness min: -22494.00, max: -8.00, mean: -1232.29; best agent: 10+100*25 = 2510.00\n",
      "Generation 29: fitness min: -22494.00, max: -8.00, mean: -1057.60; best agent: 10+100*25 = 2510.00\n",
      "Generation 30: fitness min: -22494.00, max: -8.00, mean: -2465.91; best agent: 10+100*25 = 2510.00\n",
      "Generation 31: fitness min: -35008.00, max: -8.00, mean: -3165.21; best agent: 10+100*25 = 2510.00\n",
      "Generation 32: fitness min: -5013.00, max: -8.00, mean: -1000.49; best agent: 10+25*100 = 2510.00\n",
      "Generation 33: fitness min: -22501.00, max: -8.00, mean: -1809.96; best agent: 10+25*100 = 2510.00\n",
      "Generation 34: fitness min: -22494.00, max: -8.00, mean: -1334.63; best agent: 10+100*25 = 2510.00\n",
      "Generation 35: fitness min: -22494.00, max: -8.00, mean: -1387.65; best agent: 10+25*100 = 2510.00\n",
      "Generation 36: fitness min: -22494.00, max: -8.00, mean: -1709.26; best agent: 10+25*100 = 2510.00\n",
      "Generation 37: fitness min: -22494.00, max: -8.00, mean: -1108.79; best agent: 10+100*25 = 2510.00\n",
      "Generation 38: fitness min: -22494.00, max: -8.00, mean: -1298.93; best agent: 10+100*25 = 2510.00\n",
      "Generation 39: fitness min: -10006.00, max: -8.00, mean: -1002.91; best agent: 10+25*100 = 2510.00\n",
      "Generation 40: fitness min: -22494.00, max: -8.00, mean: -1443.11; best agent: 10+25*100 = 2510.00\n",
      "Generation 41: fitness min: -22494.00, max: -8.00, mean: -1365.45; best agent: 10+25*100 = 2510.00\n",
      "Generation 42: fitness min: -22501.00, max: -8.00, mean: -1660.44; best agent: 10+25*100 = 2510.00\n",
      "Generation 43: fitness min: -22494.00, max: -8.00, mean: -1027.58; best agent: 10+25*100 = 2510.00\n",
      "Generation 44: fitness min: -22494.00, max: -8.00, mean: -1013.55; best agent: 10+25*100 = 2510.00\n",
      "Generation 45: fitness min: -22494.00, max: -8.00, mean: -1675.64; best agent: 10+25*100 = 2510.00\n",
      "Generation 46: fitness min: -22494.00, max: -8.00, mean: -1251.19; best agent: 10+25*100 = 2510.00\n",
      "Generation 47: fitness min: -22494.00, max: -8.00, mean: -1671.74; best agent: 10+25*100 = 2510.00\n",
      "Generation 48: fitness min: -22494.00, max: -8.00, mean: -1973.58; best agent: 10+25*100 = 2510.00\n",
      "Generation 49: fitness min: -5006.00, max: -8.00, mean: -1141.80; best agent: 10+25*100 = 2510.00\n",
      "Generation 50: fitness min: -22494.00, max: -8.00, mean: -1348.41; best agent: 25*100+10 = 2510.00\n",
      "Generation 51: fitness min: -22494.00, max: -8.00, mean: -1882.49; best agent: 10+25*100 = 2510.00\n",
      "Generation 52: fitness min: -22494.00, max: -8.00, mean: -1346.17; best agent: 10+25*100 = 2510.00\n",
      "Generation 53: fitness min: -10006.00, max: -8.00, mean: -1377.30; best agent: 10+25*100 = 2510.00\n",
      "Generation 54: fitness min: -22494.00, max: -8.00, mean: -1295.04; best agent: 10+25*100 = 2510.00\n",
      "Generation 55: fitness min: -5008.00, max: -8.00, mean: -1069.06; best agent: 10+25*100 = 2510.00\n",
      "Generation 56: fitness min: -22494.00, max: -8.00, mean: -1620.87; best agent: 10+25*100 = 2510.00\n",
      "Generation 57: fitness min: -22494.00, max: -8.00, mean: -1889.13; best agent: 10+25*100 = 2510.00\n",
      "Generation 58: fitness min: -22494.00, max: -8.00, mean: -1286.08; best agent: 25*100+10 = 2510.00\n",
      "Generation 59: fitness min: -5008.00, max: -8.00, mean: -847.18; best agent: 25*100+10 = 2510.00\n",
      "Generation 60: fitness min: -10006.00, max: -8.00, mean: -1027.42; best agent: 10+25*100 = 2510.00\n",
      "Generation 61: fitness min: -2664.00, max: -8.00, mean: -1272.51; best agent: 10+25*100 = 2510.00\n",
      "Generation 62: fitness min: -22494.00, max: -8.00, mean: -2289.30; best agent: 25*100+10 = 2510.00\n",
      "Generation 63: fitness min: -22494.00, max: -8.00, mean: -2234.38; best agent: 25*100+10 = 2510.00\n",
      "Generation 64: fitness min: -22494.00, max: -8.00, mean: -2014.10; best agent: 100*25+10 = 2510.00\n",
      "Generation 65: fitness min: -22494.00, max: -8.00, mean: -1596.81; best agent: 10+25*100 = 2510.00\n",
      "Generation 66: fitness min: -22494.00, max: -8.00, mean: -1561.80; best agent: 100*25+10 = 2510.00\n",
      "Generation 67: fitness min: -122496.00, max: -8.00, mean: -2534.04; best agent: 10+100*25 = 2510.00\n",
      "Generation 68: fitness min: -22494.00, max: -8.00, mean: -1745.58; best agent: 10+25*100 = 2510.00\n",
      "Generation 69: fitness min: -22494.00, max: -8.00, mean: -1822.69; best agent: 100*25+10 = 2510.00\n",
      "Generation 70: fitness min: -39164.67, max: -8.00, mean: -3526.24; best agent: 10+25*100 = 2510.00\n",
      "Generation 71: fitness min: -122496.00, max: -8.00, mean: -2586.42; best agent: 10+25*100 = 2510.00\n",
      "Generation 72: fitness min: -122496.00, max: -8.00, mean: -9087.48; best agent: 100*25+10 = 2510.00\n",
      "Generation 73: fitness min: -122496.00, max: -8.00, mean: -4186.94; best agent: 10+25*100 = 2510.00\n",
      "Generation 74: fitness min: -35008.00, max: -8.00, mean: -2250.04; best agent: 10+25*100 = 2510.00\n",
      "Generation 75: fitness min: -122496.00, max: -8.00, mean: -4104.94; best agent: 25*100+10 = 2510.00\n",
      "Generation 76: fitness min: -122496.00, max: -8.00, mean: -3714.83; best agent: 10+25*100 = 2510.00\n",
      "Generation 77: fitness min: -35008.00, max: -8.00, mean: -2084.86; best agent: 10+100*25 = 2510.00\n",
      "Generation 78: fitness min: -72503.00, max: -8.00, mean: -2569.45; best agent: 10+25*100 = 2510.00\n",
      "Generation 79: fitness min: -22501.00, max: -8.00, mean: -3243.76; best agent: 10+25*100 = 2510.00\n",
      "Generation 80: fitness min: -22494.00, max: -8.00, mean: -2135.00; best agent: 10+25*100 = 2510.00\n",
      "Generation 81: fitness min: -72496.00, max: -8.00, mean: -3056.99; best agent: 10+25*100 = 2510.00\n",
      "Generation 82: fitness min: -22494.00, max: -8.00, mean: -2248.48; best agent: 10+25*100 = 2510.00\n",
      "Generation 83: fitness min: -22494.00, max: -8.00, mean: -1687.07; best agent: 10+25*100 = 2510.00\n",
      "Generation 84: fitness min: -22494.00, max: -8.00, mean: -1532.54; best agent: 10+25*100 = 2510.00\n",
      "Generation 85: fitness min: -22501.00, max: -8.00, mean: -2474.73; best agent: 10+25*100 = 2510.00\n",
      "Generation 86: fitness min: -22494.00, max: -8.00, mean: -2420.19; best agent: 10+25*100 = 2510.00\n",
      "Generation 87: fitness min: -22494.00, max: -8.00, mean: -1829.73; best agent: 100*25+10 = 2510.00\n",
      "Generation 88: fitness min: -22494.00, max: -8.00, mean: -1307.69; best agent: 10+25*100 = 2510.00\n",
      "Generation 89: fitness min: -22494.00, max: -8.00, mean: -1409.31; best agent: 10+25*100 = 2510.00\n",
      "Generation 90: fitness min: -22494.00, max: -8.00, mean: -1702.36; best agent: 10+25*100 = 2510.00\n",
      "Generation 91: fitness min: -22494.00, max: -8.00, mean: -1621.82; best agent: 10+25*100 = 2510.00\n",
      "Generation 92: fitness min: -22494.00, max: -8.00, mean: -1736.71; best agent: 10+25*100 = 2510.00\n",
      "Generation 93: fitness min: -22494.00, max: -8.00, mean: -1406.16; best agent: 10+25*100 = 2510.00\n",
      "Generation 94: fitness min: -22494.00, max: -8.00, mean: -1608.69; best agent: 10+25*100 = 2510.00\n",
      "Generation 95: fitness min: -22494.00, max: -8.00, mean: -3287.24; best agent: 10+25*100 = 2510.00\n",
      "Generation 96: fitness min: -22494.00, max: -8.00, mean: -2657.86; best agent: 10+100*25 = 2510.00\n",
      "Generation 97: fitness min: -122496.00, max: -8.00, mean: -5009.02; best agent: 10+25*100 = 2510.00\n",
      "Generation 98: fitness min: -22494.00, max: -8.00, mean: -3554.23; best agent: 10+100*25 = 2510.00\n",
      "Generation 99: fitness min: -22501.00, max: -8.00, mean: -3886.15; best agent: 10+100*25 = 2510.00\n",
      "Generation 100: fitness min: -22494.00, max: -8.00, mean: -2638.54; best agent: 10+100*25 = 2510.00\n",
      "Generation 101: fitness min: -22494.00, max: -8.00, mean: -1773.00; best agent: 10+25*100 = 2510.00\n",
      "Generation 102: fitness min: -122501.00, max: -8.00, mean: -7237.30; best agent: 10+100*25 = 2510.00\n",
      "Generation 103: fitness min: -372498.00, max: -8.00, mean: -8293.68; best agent: 10+100*25 = 2510.00\n",
      "Generation 104: fitness min: -22499.00, max: -8.00, mean: -2877.85; best agent: 10+100*25 = 2510.00\n",
      "Generation 105: fitness min: -9994.00, max: -8.00, mean: -1746.94; best agent: 10+100*25 = 2510.00\n",
      "Generation 106: fitness min: -22494.00, max: -8.00, mean: -1535.19; best agent: 10+100*25 = 2510.00\n",
      "Generation 107: fitness min: -22494.00, max: -8.00, mean: -1706.31; best agent: 10+100*25 = 2510.00\n",
      "Generation 108: fitness min: -10006.00, max: -8.00, mean: -1206.81; best agent: 10+100*25 = 2510.00\n",
      "Generation 109: fitness min: -2515.75, max: -8.00, mean: -905.17; best agent: 10+100*25 = 2510.00\n",
      "Generation 110: fitness min: -22494.00, max: -8.00, mean: -1209.39; best agent: 10+100*25 = 2510.00\n",
      "Generation 111: fitness min: -10011.00, max: -8.00, mean: -1196.45; best agent: 10+100*25 = 2510.00\n",
      "Generation 112: fitness min: -22501.00, max: -8.00, mean: -2131.85; best agent: 10+100*25 = 2510.00\n",
      "Generation 113: fitness min: -22494.00, max: -8.00, mean: -2924.12; best agent: 10+100*25 = 2510.00\n",
      "Generation 114: fitness min: -22499.00, max: -8.00, mean: -1760.75; best agent: 10+100*25 = 2510.00\n",
      "Generation 115: fitness min: -22499.00, max: -8.00, mean: -1747.85; best agent: 10+100*25 = 2510.00\n",
      "Generation 116: fitness min: -2481.00, max: -8.00, mean: -894.24; best agent: 10+100*25 = 2510.00\n",
      "Generation 117: fitness min: -2512.00, max: -8.00, mean: -779.67; best agent: 10+100*25 = 2510.00\n",
      "Generation 118: fitness min: -22494.00, max: -8.00, mean: -1106.42; best agent: 10+100*25 = 2510.00\n",
      "Generation 119: fitness min: -22501.00, max: -8.00, mean: -3424.57; best agent: 10+25*100 = 2510.00\n",
      "Generation 120: fitness min: -22494.00, max: -8.00, mean: -1418.95; best agent: 10+100*25 = 2510.00\n",
      "Generation 121: fitness min: -22494.00, max: -8.00, mean: -2387.99; best agent: 10+100*25 = 2510.00\n",
      "Generation 122: fitness min: -22494.00, max: -8.00, mean: -2129.28; best agent: 10+100*25 = 2510.00\n",
      "Generation 123: fitness min: -122496.00, max: -8.00, mean: -2809.78; best agent: 10+100*25 = 2510.00\n",
      "Generation 124: fitness min: -22494.00, max: -8.00, mean: -1347.29; best agent: 100*25+10 = 2510.00\n",
      "Generation 125: fitness min: -22494.00, max: -8.00, mean: -1178.98; best agent: 10+100*25 = 2510.00\n",
      "Generation 126: fitness min: -22494.00, max: -8.00, mean: -1721.48; best agent: 10+100*25 = 2510.00\n",
      "Generation 127: fitness min: -22494.00, max: -8.00, mean: -1110.95; best agent: 10+100*25 = 2510.00\n",
      "Generation 128: fitness min: -2498.00, max: -8.00, mean: -1124.67; best agent: 10+25*100 = 2510.00\n",
      "Generation 129: fitness min: -5008.00, max: -8.00, mean: -1089.67; best agent: 10+100*25 = 2510.00\n",
      "Generation 130: fitness min: -22494.00, max: -8.00, mean: -1775.94; best agent: 10+25*100 = 2510.00\n",
      "Generation 131: fitness min: -72496.00, max: -8.00, mean: -3105.20; best agent: 100*25+10 = 2510.00\n",
      "Generation 132: fitness min: -72496.00, max: -8.00, mean: -3993.91; best agent: 10+100*25 = 2510.00\n",
      "Generation 133: fitness min: -72496.00, max: -8.00, mean: -4313.11; best agent: 10+25*100 = 2510.00\n",
      "Generation 134: fitness min: -22499.00, max: -8.00, mean: -1337.62; best agent: 100*25+10 = 2510.00\n",
      "Generation 135: fitness min: -22501.00, max: -8.00, mean: -1742.84; best agent: 100*25+10 = 2510.00\n",
      "Generation 136: fitness min: -22494.00, max: -8.00, mean: -1713.72; best agent: 10+100*25 = 2510.00\n",
      "Generation 137: fitness min: -22494.00, max: -8.00, mean: -1133.47; best agent: 10+100*25 = 2510.00\n",
      "Generation 138: fitness min: -22501.00, max: -8.00, mean: -1764.60; best agent: 10+100*25 = 2510.00\n",
      "Generation 139: fitness min: -5008.00, max: -8.00, mean: -1093.56; best agent: 10+100*25 = 2510.00\n",
      "Generation 140: fitness min: -5008.00, max: -8.00, mean: -1148.35; best agent: 10+100*25 = 2510.00\n",
      "Generation 141: fitness min: -22494.00, max: -8.00, mean: -1516.81; best agent: 10+25*100 = 2510.00\n",
      "Generation 142: fitness min: -22494.00, max: -8.00, mean: -2609.50; best agent: 10+100*25 = 2510.00\n",
      "Generation 143: fitness min: -22494.00, max: -8.00, mean: -2082.26; best agent: 10+100*25 = 2510.00\n",
      "Generation 144: fitness min: -22494.00, max: -8.00, mean: -1214.24; best agent: 10+100*25 = 2510.00\n",
      "Generation 145: fitness min: -22494.00, max: -8.00, mean: -1694.68; best agent: 10+100*25 = 2510.00\n",
      "Generation 146: fitness min: -22494.00, max: -8.00, mean: -1498.33; best agent: 10+100*25 = 2510.00\n",
      "Generation 147: fitness min: -10006.00, max: -8.00, mean: -996.00; best agent: 10+100*25 = 2510.00\n",
      "Generation 148: fitness min: -22494.00, max: -8.00, mean: -911.44; best agent: 10+100*25 = 2510.00\n",
      "Generation 149: fitness min: -22494.00, max: -8.00, mean: -1846.49; best agent: 10+100*25 = 2510.00\n",
      "Generation 150: fitness min: -10006.00, max: -8.00, mean: -1330.43; best agent: 10+100*25 = 2510.00\n",
      "Generation 151: fitness min: -22494.00, max: -8.00, mean: -1256.77; best agent: 10+100*25 = 2510.00\n",
      "Generation 152: fitness min: -22494.00, max: -8.00, mean: -1387.55; best agent: 10+100*25 = 2510.00\n",
      "Generation 153: fitness min: -22501.00, max: -8.00, mean: -2125.70; best agent: 10+100*25 = 2510.00\n",
      "Generation 154: fitness min: -22494.00, max: -8.00, mean: -1757.60; best agent: 10+100*25 = 2510.00\n",
      "Generation 155: fitness min: -22494.00, max: -8.00, mean: -2147.55; best agent: 10+100*25 = 2510.00\n",
      "Generation 156: fitness min: -5013.00, max: -8.00, mean: -957.22; best agent: 10+100*25 = 2510.00\n",
      "Generation 157: fitness min: -5006.00, max: -8.00, mean: -792.48; best agent: 10+100*25 = 2510.00\n",
      "Generation 158: fitness min: -22494.00, max: -8.00, mean: -1374.21; best agent: 10+25*100 = 2510.00\n",
      "Generation 159: fitness min: -22494.00, max: -8.00, mean: -1829.99; best agent: 10+100*25 = 2510.00\n",
      "Generation 160: fitness min: -22494.00, max: -8.00, mean: -1274.81; best agent: 10+100*25 = 2510.00\n",
      "Generation 161: fitness min: -72496.00, max: -8.00, mean: -3261.63; best agent: 10+100*25 = 2510.00\n",
      "Generation 162: fitness min: -22494.00, max: -8.00, mean: -2040.02; best agent: 10+100*25 = 2510.00\n",
      "Generation 163: fitness min: -22494.00, max: -8.00, mean: -3546.85; best agent: 10+100*25 = 2510.00\n",
      "Generation 164: fitness min: -22494.00, max: -8.00, mean: -1452.62; best agent: 10+100*25 = 2510.00\n",
      "Generation 165: fitness min: -22494.00, max: -8.00, mean: -1796.08; best agent: 10+100*25 = 2510.00\n",
      "Generation 166: fitness min: -22494.00, max: -8.00, mean: -1452.52; best agent: 10+100*25 = 2510.00\n",
      "Generation 167: fitness min: -22494.00, max: -8.00, mean: -1902.52; best agent: 10+100*25 = 2510.00\n",
      "Generation 168: fitness min: -22501.00, max: -8.00, mean: -2105.56; best agent: 100*25+10 = 2510.00\n",
      "Generation 169: fitness min: -22494.00, max: -8.00, mean: -2022.69; best agent: 10+100*25 = 2510.00\n",
      "Generation 170: fitness min: -22501.00, max: -8.00, mean: -3303.18; best agent: 100*25+10 = 2510.00\n",
      "Generation 171: fitness min: -5006.00, max: -8.00, mean: -1168.91; best agent: 10+25*100 = 2510.00\n",
      "Generation 172: fitness min: -22494.00, max: -8.00, mean: -1850.10; best agent: 10+100*25 = 2510.00\n",
      "Generation 173: fitness min: -22494.00, max: -8.00, mean: -1754.16; best agent: 10+25*100 = 2510.00\n",
      "Generation 174: fitness min: -22494.00, max: -8.00, mean: -1624.23; best agent: 10+100*25 = 2510.00\n",
      "Generation 175: fitness min: -22494.00, max: -8.00, mean: -1514.20; best agent: 10+25*100 = 2510.00\n",
      "Generation 176: fitness min: -122496.00, max: -8.00, mean: -3072.59; best agent: 10+25*100 = 2510.00\n",
      "Generation 177: fitness min: -22494.00, max: -8.00, mean: -1536.86; best agent: 10+25*100 = 2510.00\n",
      "Generation 178: fitness min: -5008.00, max: -8.00, mean: -1110.94; best agent: 10+100*25 = 2510.00\n",
      "Generation 179: fitness min: -22494.00, max: -8.00, mean: -1581.83; best agent: 10+25*100 = 2510.00\n",
      "Generation 180: fitness min: -22494.00, max: -8.00, mean: -2037.65; best agent: 10+25*100 = 2510.00\n",
      "Generation 181: fitness min: -72496.00, max: -8.00, mean: -3000.06; best agent: 10+25*100 = 2510.00\n",
      "Generation 182: fitness min: -35008.00, max: -8.00, mean: -2684.98; best agent: 10+25*100 = 2510.00\n",
      "Generation 183: fitness min: -22494.00, max: -8.00, mean: -1207.06; best agent: 10+25*100 = 2510.00\n",
      "Generation 184: fitness min: -22494.00, max: -8.00, mean: -1364.73; best agent: 10+25*100 = 2510.00\n",
      "Generation 185: fitness min: -22494.00, max: -8.00, mean: -2130.11; best agent: 10+100*25 = 2510.00\n",
      "Generation 186: fitness min: -22494.00, max: -8.00, mean: -1738.45; best agent: 10+25*100 = 2510.00\n",
      "Generation 187: fitness min: -22499.00, max: -8.00, mean: -2422.20; best agent: 10+25*100 = 2510.00\n",
      "Generation 188: fitness min: -10006.00, max: -8.00, mean: -1186.92; best agent: 10+25*100 = 2510.00\n",
      "Generation 189: fitness min: -22494.00, max: -8.00, mean: -1839.71; best agent: 10+25*100 = 2510.00\n",
      "Generation 190: fitness min: -22494.00, max: -8.00, mean: -3241.82; best agent: 10+25*100 = 2510.00\n",
      "Generation 191: fitness min: -22494.00, max: -8.00, mean: -2466.74; best agent: 10+25*100 = 2510.00\n",
      "Generation 192: fitness min: -22494.00, max: -8.00, mean: -1777.74; best agent: 10+25*100 = 2510.00\n",
      "Generation 193: fitness min: -5015.00, max: -8.00, mean: -1063.49; best agent: 10+25*100 = 2510.00\n",
      "Generation 194: fitness min: -22494.00, max: -8.00, mean: -1458.34; best agent: 10+25*100 = 2510.00\n",
      "Generation 195: fitness min: -122496.00, max: -8.00, mean: -3766.93; best agent: 10+100*25 = 2510.00\n",
      "Generation 196: fitness min: -22494.00, max: -8.00, mean: -1392.93; best agent: 10+25*100 = 2510.00\n",
      "Generation 197: fitness min: -22494.00, max: -8.00, mean: -1426.55; best agent: 10+100*25 = 2510.00\n",
      "Generation 198: fitness min: -10006.00, max: -8.00, mean: -1104.38; best agent: 10+100*25 = 2510.00\n",
      "Generation 199: fitness min: -22494.00, max: -8.00, mean: -1557.97; best agent: 10+25*100 = 2510.00\n",
      "Generation 200: fitness min: -22494.00, max: -8.00, mean: -1382.85; best agent: 10+25*100 = 2510.00\n",
      "Generation 201: fitness min: -22494.00, max: -8.00, mean: -1666.20; best agent: 10+25*100 = 2510.00\n",
      "Generation 202: fitness min: -22494.00, max: -8.00, mean: -1298.66; best agent: 10+25*100 = 2510.00\n",
      "Generation 203: fitness min: -22494.00, max: -8.00, mean: -2656.13; best agent: 10+100*25 = 2510.00\n",
      "Generation 204: fitness min: -22494.00, max: -8.00, mean: -3843.80; best agent: 10+25*100 = 2510.00\n",
      "Generation 205: fitness min: -22494.00, max: -8.00, mean: -2169.58; best agent: 10+100*25 = 2510.00\n",
      "Generation 206: fitness min: -22494.00, max: -8.00, mean: -1938.20; best agent: 10+100*25 = 2510.00\n",
      "Generation 207: fitness min: -22494.00, max: -8.00, mean: -1977.43; best agent: 10+100*25 = 2510.00\n",
      "Generation 208: fitness min: -122496.00, max: -8.00, mean: -2850.41; best agent: 10+100*25 = 2510.00\n",
      "Generation 209: fitness min: -122496.00, max: -8.00, mean: -3082.46; best agent: 10+100*25 = 2510.00\n",
      "Generation 210: fitness min: -35008.00, max: -8.00, mean: -2231.39; best agent: 10+25*100 = 2510.00\n",
      "Generation 211: fitness min: -122496.00, max: -8.00, mean: -3190.80; best agent: 10+100*25 = 2510.00\n",
      "Generation 212: fitness min: -122496.00, max: -8.00, mean: -3975.46; best agent: 10+100*25 = 2510.00\n",
      "Generation 213: fitness min: -22494.00, max: -8.00, mean: -1792.57; best agent: 10+100*25 = 2510.00\n",
      "Generation 214: fitness min: -22494.00, max: -8.00, mean: -1648.33; best agent: 10+25*100 = 2510.00\n",
      "Generation 215: fitness min: -22494.00, max: -8.00, mean: -1264.22; best agent: 10+25*100 = 2510.00\n",
      "Generation 216: fitness min: -72496.00, max: -8.00, mean: -2885.34; best agent: 10+25*100 = 2510.00\n",
      "Generation 217: fitness min: -22499.00, max: -8.00, mean: -4156.34; best agent: 10+25*100 = 2510.00\n",
      "Generation 218: fitness min: -22494.00, max: -8.00, mean: -4575.32; best agent: 10+25*100 = 2510.00\n",
      "Generation 219: fitness min: -22494.00, max: -8.00, mean: -1184.59; best agent: 10+25*100 = 2510.00\n",
      "Generation 220: fitness min: -22494.00, max: -8.00, mean: -2555.18; best agent: 10+25*100 = 2510.00\n",
      "Generation 221: fitness min: -22494.00, max: -8.00, mean: -2470.36; best agent: 10+25*100 = 2510.00\n",
      "Generation 222: fitness min: -22494.00, max: -8.00, mean: -1658.78; best agent: 25*100+10 = 2510.00\n",
      "Generation 223: fitness min: -22494.00, max: -8.00, mean: -1397.76; best agent: 10+25*100 = 2510.00\n",
      "Generation 224: fitness min: -22494.00, max: -8.00, mean: -1432.76; best agent: 10+25*100 = 2510.00\n",
      "Generation 225: fitness min: -22494.00, max: -8.00, mean: -1314.06; best agent: 10+25*100 = 2510.00\n",
      "Generation 226: fitness min: -22494.00, max: -8.00, mean: -2554.75; best agent: 10+25*100 = 2510.00\n",
      "Generation 227: fitness min: -22494.00, max: -8.00, mean: -2109.66; best agent: 10+25*100 = 2510.00\n",
      "Generation 228: fitness min: -22494.00, max: -8.00, mean: -2169.66; best agent: 10+100*25 = 2510.00\n",
      "Generation 229: fitness min: -22494.00, max: -8.00, mean: -1435.17; best agent: 10+100*25 = 2510.00\n",
      "Generation 230: fitness min: -22494.00, max: -8.00, mean: -1719.67; best agent: 10+25*100 = 2510.00\n",
      "Generation 231: fitness min: -22494.00, max: -8.00, mean: -1474.45; best agent: 100*25+10 = 2510.00\n",
      "Generation 232: fitness min: -22494.00, max: -8.00, mean: -1932.69; best agent: 100*25+10 = 2510.00\n",
      "Generation 233: fitness min: -22494.00, max: -8.00, mean: -1867.03; best agent: 10+100*25 = 2510.00\n",
      "Generation 234: fitness min: -22494.00, max: -8.00, mean: -2024.88; best agent: 100*25+10 = 2510.00\n",
      "Generation 235: fitness min: -2508.75, max: -8.00, mean: -905.66; best agent: 100*25+10 = 2510.00\n",
      "Generation 236: fitness min: -4994.00, max: -8.00, mean: -900.68; best agent: 100*25+10 = 2510.00\n",
      "Generation 237: fitness min: -22494.00, max: -8.00, mean: -1486.64; best agent: 100*25+10 = 2510.00\n",
      "Generation 238: fitness min: -22494.00, max: -8.00, mean: -2291.77; best agent: 100*25+10 = 2510.00\n",
      "Generation 239: fitness min: -22494.00, max: -8.00, mean: -1511.50; best agent: 100*25+10 = 2510.00\n",
      "Generation 240: fitness min: -22494.00, max: -8.00, mean: -1859.78; best agent: 10+100*25 = 2510.00\n",
      "Generation 241: fitness min: -22494.00, max: -8.00, mean: -1293.19; best agent: 10+100*25 = 2510.00\n",
      "Generation 242: fitness min: -22494.00, max: -8.00, mean: -1190.88; best agent: 100*25+10 = 2510.00\n",
      "Generation 243: fitness min: -10007.00, max: -8.00, mean: -1145.21; best agent: 100*25+10 = 2510.00\n",
      "Generation 244: fitness min: -22494.00, max: -8.00, mean: -1522.78; best agent: 100*25+10 = 2510.00\n",
      "Generation 245: fitness min: -22494.00, max: -8.00, mean: -1264.55; best agent: 100*25+10 = 2510.00\n",
      "Generation 246: fitness min: -22494.00, max: -8.00, mean: -1062.45; best agent: 100*25+10 = 2510.00\n",
      "Generation 247: fitness min: -22494.00, max: -8.00, mean: -2215.92; best agent: 100*25+10 = 2510.00\n",
      "Generation 248: fitness min: -22494.00, max: -8.00, mean: -2284.61; best agent: 25*100+10 = 2510.00\n",
      "Generation 249: fitness min: -22494.00, max: -8.00, mean: -2834.63; best agent: 25*100+10 = 2510.00\n",
      "Generation 250: fitness min: -22494.00, max: -8.00, mean: -3161.44; best agent: 25*100+10 = 2510.00\n",
      "Generation 251: fitness min: -22494.00, max: -8.00, mean: -1968.12; best agent: 100*25+10 = 2510.00\n",
      "Generation 252: fitness min: -22494.00, max: -8.00, mean: -1994.78; best agent: 25*100+10 = 2510.00\n",
      "Generation 253: fitness min: -22494.00, max: -8.00, mean: -1759.20; best agent: 100*25+10 = 2510.00\n",
      "Generation 254: fitness min: -22494.00, max: -8.00, mean: -1325.75; best agent: 100*25+10 = 2510.00\n",
      "Generation 255: fitness min: -22494.00, max: -8.00, mean: -2428.75; best agent: 25*100+10 = 2510.00\n",
      "Generation 256: fitness min: -22494.00, max: -8.00, mean: -2743.15; best agent: 25*100+10 = 2510.00\n",
      "Generation 257: fitness min: -22494.00, max: -8.00, mean: -1743.54; best agent: 100*25+10 = 2510.00\n",
      "Generation 258: fitness min: -22494.00, max: -8.00, mean: -1633.50; best agent: 100*25+10 = 2510.00\n",
      "Generation 259: fitness min: -22494.00, max: -8.00, mean: -2799.75; best agent: 10+25*100 = 2510.00\n",
      "Generation 260: fitness min: -22499.00, max: -8.00, mean: -2365.77; best agent: 25*100+10 = 2510.00\n",
      "Generation 261: fitness min: -22494.00, max: -8.00, mean: -1885.12; best agent: 25*100+10 = 2510.00\n",
      "Generation 262: fitness min: -22501.00, max: -8.00, mean: -2064.48; best agent: 10+25*100 = 2510.00\n",
      "Generation 263: fitness min: -22499.00, max: -8.00, mean: -1414.74; best agent: 10+100*25 = 2510.00\n",
      "Generation 264: fitness min: -22494.00, max: -8.00, mean: -1113.79; best agent: 25*100+10 = 2510.00\n",
      "Generation 265: fitness min: -22499.00, max: -8.00, mean: -3996.12; best agent: 25*100+10 = 2510.00\n",
      "Generation 266: fitness min: -122496.00, max: -8.00, mean: -4514.74; best agent: 25*100+10 = 2510.00\n",
      "Generation 267: fitness min: -22494.00, max: -8.00, mean: -1515.30; best agent: 25*100+10 = 2510.00\n",
      "Generation 268: fitness min: -22494.00, max: -8.00, mean: -1336.16; best agent: 10+25*100 = 2510.00\n",
      "Generation 269: fitness min: -10006.00, max: -8.00, mean: -991.73; best agent: 25*100+10 = 2510.00\n",
      "Generation 270: fitness min: -22494.00, max: -8.00, mean: -1043.12; best agent: 25*100+10 = 2510.00\n",
      "Generation 271: fitness min: -2583.00, max: -8.00, mean: -1186.21; best agent: 25*100+10 = 2510.00\n",
      "Generation 272: fitness min: -2535.00, max: -8.00, mean: -1134.64; best agent: 25*100+10 = 2510.00\n",
      "Generation 273: fitness min: -22494.00, max: -8.00, mean: -1690.91; best agent: 25*100+10 = 2510.00\n",
      "Generation 274: fitness min: -5006.00, max: -8.00, mean: -1076.15; best agent: 25*100+10 = 2510.00\n",
      "Generation 275: fitness min: -72496.00, max: -8.00, mean: -2337.74; best agent: 25*100+10 = 2510.00\n",
      "Generation 276: fitness min: -22494.00, max: -8.00, mean: -1658.98; best agent: 25*100+10 = 2510.00\n",
      "Generation 277: fitness min: -22494.00, max: -8.00, mean: -2150.98; best agent: 25*100+10 = 2510.00\n",
      "Generation 278: fitness min: -5006.00, max: -8.00, mean: -1037.37; best agent: 25*100+10 = 2510.00\n",
      "Generation 279: fitness min: -22494.00, max: -8.00, mean: -1340.92; best agent: 25*100+10 = 2510.00\n",
      "Generation 280: fitness min: -22494.00, max: -8.00, mean: -1149.94; best agent: 25*100+10 = 2510.00\n",
      "Generation 281: fitness min: -22494.00, max: -8.00, mean: -1280.38; best agent: 25*100+10 = 2510.00\n",
      "Generation 282: fitness min: -2605.00, max: -8.00, mean: -1237.09; best agent: 25*100+10 = 2510.00\n",
      "Generation 283: fitness min: -122496.00, max: -8.00, mean: -3189.09; best agent: 25*100+10 = 2510.00\n",
      "Generation 284: fitness min: -22494.00, max: -8.00, mean: -2946.73; best agent: 25*100+10 = 2510.00\n",
      "Generation 285: fitness min: -22494.00, max: -8.00, mean: -2424.69; best agent: 25*100+10 = 2510.00\n",
      "Generation 286: fitness min: -35008.00, max: -8.00, mean: -3365.16; best agent: 100*25+10 = 2510.00\n",
      "Generation 287: fitness min: -72496.00, max: -8.00, mean: -3108.11; best agent: 25*100+10 = 2510.00\n",
      "Generation 288: fitness min: -122496.00, max: -8.00, mean: -3892.37; best agent: 100*25+10 = 2510.00\n",
      "Generation 289: fitness min: -22494.00, max: -8.00, mean: -2413.99; best agent: 100*25+10 = 2510.00\n",
      "Generation 290: fitness min: -22494.00, max: -8.00, mean: -3479.03; best agent: 100*25+10 = 2510.00\n",
      "Generation 291: fitness min: -22499.00, max: -8.00, mean: -4790.68; best agent: 100*25+10 = 2510.00\n",
      "Generation 292: fitness min: -22499.00, max: -8.00, mean: -5131.90; best agent: 100*25+10 = 2510.00\n",
      "Generation 293: fitness min: -122501.00, max: -8.00, mean: -6030.71; best agent: 100*25+10 = 2510.00\n",
      "Generation 294: fitness min: -22499.00, max: -8.00, mean: -2226.92; best agent: 25*100+10 = 2510.00\n",
      "Generation 295: fitness min: -22494.00, max: -8.00, mean: -2189.28; best agent: 100*25+10 = 2510.00\n",
      "Generation 296: fitness min: -22494.00, max: -8.00, mean: -2350.50; best agent: 100*25+10 = 2510.00\n",
      "Generation 297: fitness min: -22494.00, max: -8.00, mean: -2666.32; best agent: 100*25+10 = 2510.00\n",
      "Generation 298: fitness min: -10006.00, max: -8.00, mean: -1461.69; best agent: 100*25+10 = 2510.00\n",
      "Generation 299: fitness min: -22501.00, max: -8.00, mean: -1621.53; best agent: 100*25+10 = 2510.00\n"
     ]
    },
    {
     "data": {
      "image/png": "[encoded data removed]",
      "text/plain": [
       "<Figure size 720x720 with 1 Axes>"
      ]
     },
     "metadata": {
      "needs_background": "light"
     },
     "output_type": "display_data"
    }
   ],
   "source": [
    "population = [generate_agent() for _ in range(population_size)]\n",
    "_ = evolve(\n",
    "    population,\n",
    "    fitness_length_2,\n",
    "    select_best_plus_random,\n",
    "    crossover,\n",
    "    mutation,\n",
    "    fitness_threshold=0,\n",
    "    mutation_probability=0.4, survival_probability=0.2, max_iterations=300,\n",
    "    verbose=True, keep_best=False, plot=True\n",
    ")"
   ]
  }
 ],
 "metadata": {
  "interpreter": {
   "hash": "1baa965d5efe3ac65b79dfc60c0d706280b1da80fedb7760faf2759126c4f253"
  },
  "kernelspec": {
   "display_name": "Python 3.8.7 64-bit",
   "language": "python",
   "name": "python3"
  },
  "language_info": {
   "codemirror_mode": {
    "name": "ipython",
    "version": 3
   },
   "file_extension": ".py",
   "mimetype": "text/x-python",
   "name": "python",
   "nbconvert_exporter": "python",
   "pygments_lexer": "ipython3",
   "version": "3.8.7"
  },
  "orig_nbformat": 4
 },
 "nbformat": 4,
 "nbformat_minor": 2
}
